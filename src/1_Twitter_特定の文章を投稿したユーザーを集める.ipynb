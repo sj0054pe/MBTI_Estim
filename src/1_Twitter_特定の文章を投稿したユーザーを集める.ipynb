{
  "nbformat": 4,
  "nbformat_minor": 0,
  "metadata": {
    "colab": {
      "name": "1_Twitter_特定の文章を投稿したユーザーを集める.ipynb",
      "provenance": [],
      "collapsed_sections": [],
      "mount_file_id": "1PJY_E_phltsxARcuNclEpPuAVIknFmXq",
      "authorship_tag": "ABX9TyPyhwHRstRzbnnhj0qdDhn1",
      "include_colab_link": true
    },
    "kernelspec": {
      "name": "python3",
      "display_name": "Python 3"
    },
    "language_info": {
      "name": "python"
    }
  },
  "cells": [
    {
      "cell_type": "markdown",
      "metadata": {
        "id": "view-in-github",
        "colab_type": "text"
      },
      "source": [
        "<a href=\"https://colab.research.google.com/github/sj0054pe/MBTI_Estim/blob/master/src/1_Twitter_%E7%89%B9%E5%AE%9A%E3%81%AE%E6%96%87%E7%AB%A0%E3%82%92%E6%8A%95%E7%A8%BF%E3%81%97%E3%81%9F%E3%83%A6%E3%83%BC%E3%82%B6%E3%83%BC%E3%82%92%E9%9B%86%E3%82%81%E3%82%8B.ipynb\" target=\"_parent\"><img src=\"https://colab.research.google.com/assets/colab-badge.svg\" alt=\"Open In Colab\"/></a>"
      ]
    },
    {
      "cell_type": "markdown",
      "metadata": {
        "id": "i3WLICXvUMUR"
      },
      "source": [
        "#<center>Twitter 特定の文章を投稿したユーザーを集める</center>\n",
        "\n",
        "##<center>特定の文章 = MBTI診断の結果</center>"
      ]
    },
    {
      "cell_type": "markdown",
      "metadata": {
        "id": "RuJ9PPdxPrOe"
      },
      "source": [
        "#0. 作業環境の準備"
      ]
    },
    {
      "cell_type": "markdown",
      "metadata": {
        "id": "KshCnmYdPveU"
      },
      "source": [
        "##0.1. Google Driveをマウント"
      ]
    },
    {
      "cell_type": "code",
      "metadata": {
        "id": "WK5zgLj-BkPR"
      },
      "source": [
        "# from google.colab import drive\n",
        "# drive.mount('/content/drive')"
      ],
      "execution_count": null,
      "outputs": []
    },
    {
      "cell_type": "markdown",
      "metadata": {
        "id": "T4sGATXsPzNZ"
      },
      "source": [
        "##0.2. カレントディレクトリへ移動"
      ]
    },
    {
      "cell_type": "code",
      "metadata": {
        "colab": {
          "base_uri": "https://localhost:8080/"
        },
        "id": "AKXRMbE3-ywA",
        "outputId": "b5ace303-fe22-4e58-cddc-750d6cec11e8"
      },
      "source": [
        "%cd /content/drive/MyDrive/研究室/研究_M2/src"
      ],
      "execution_count": 7,
      "outputs": [
        {
          "output_type": "stream",
          "name": "stdout",
          "text": [
            "/content/drive/MyDrive/研究室/研究_M2/src\n"
          ]
        }
      ]
    },
    {
      "cell_type": "markdown",
      "metadata": {
        "id": "pwlbtztdP2vD"
      },
      "source": [
        "##0.3. 現在日時の取得"
      ]
    },
    {
      "cell_type": "code",
      "metadata": {
        "colab": {
          "base_uri": "https://localhost:8080/"
        },
        "id": "qJCOXOoL-1ml",
        "outputId": "626b2b51-aac1-4ff9-8b0f-8828b09ff682"
      },
      "source": [
        "import datetime\n",
        "from pytz import timezone\n",
        "\n",
        "def Pull_Datetime():\n",
        "    dates=datetime.datetime.now(timezone('Asia/Tokyo'))\n",
        "    exept_microsec=dates.strftime(\"%Y-%m-%d-%H-%M\")\n",
        "    print('[Today : %s]' % str(exept_microsec))\n",
        "\n",
        "    DATETIME=exept_microsec\n",
        "    return DATETIME\n",
        "\n",
        "DATETIME=Pull_Datetime()"
      ],
      "execution_count": null,
      "outputs": [
        {
          "output_type": "stream",
          "text": [
            "[Today : 2021-08-24-00-36]\n"
          ],
          "name": "stdout"
        }
      ]
    },
    {
      "cell_type": "markdown",
      "metadata": {
        "id": "B4t9JCoDP_95"
      },
      "source": [
        "##0.6. ファイル名に含む単語 (任意) を設定する。\n",
        "\n",
        "ファイルの中身を明示する内容がオススメ。"
      ]
    },
    {
      "cell_type": "code",
      "metadata": {
        "id": "cbq_VRgQDguE"
      },
      "source": [
        "KEYWORDS_FileName= '2017'"
      ],
      "execution_count": null,
      "outputs": []
    },
    {
      "cell_type": "markdown",
      "metadata": {
        "id": "Q3aZ3eDXP9lt"
      },
      "source": [
        "##0.5. 作業ディレクトリの作成"
      ]
    },
    {
      "cell_type": "code",
      "metadata": {
        "id": "XSkbdmYq-4wm"
      },
      "source": [
        "import os\n",
        "OUTPUT_PATH =  './Assets/Assets_Output/'\n",
        "OUTPUT_DIR=OUTPUT_PATH+ \"PersonalEstim_%s/\" % DATETIME\n",
        "OUTPUT_DIR_RESULTS=OUTPUT_PATH+ \"PersonalEstim_%s/results/\" % DATETIME\n",
        "\n",
        "KEYWORDS_TypeMBTI = '2017-2018'\n",
        "\n",
        "try:\n",
        "  os.mkdir(OUTPUT_DIR)\n",
        "except:\n",
        "  print(OUTPUT_DIR, '    already exists')\n",
        "  print()\n",
        "try:\n",
        "  os.mkdir(OUTPUT_DIR_RESULTS)\n",
        "except:\n",
        "  print(OUTPUT_DIR_RESULTS, '    the directory already exists')\n",
        "  print()"
      ],
      "execution_count": null,
      "outputs": []
    },
    {
      "cell_type": "markdown",
      "metadata": {
        "id": "wuCcX4nTQOWu"
      },
      "source": [
        "#3. Twitter APIを利用して、特定の投稿をしたユーザー情報を取得する。\n",
        "\n",
        "特定の投稿 = MBTI診断の結果"
      ]
    },
    {
      "cell_type": "markdown",
      "metadata": {
        "id": "nOC4I_07Qf3c"
      },
      "source": [
        "##3.1. 「Twiiter APIのエンドポイントを作成」する関数"
      ]
    },
    {
      "cell_type": "markdown",
      "metadata": {
        "id": "0LSm33bEQjQ_"
      },
      "source": [
        "今回のTwitter API のURLは「特定の投稿をしたユーザー情報を取得」するエンドポイントである。"
      ]
    },
    {
      "cell_type": "code",
      "metadata": {
        "id": "4ce73PA--849"
      },
      "source": [
        "import yaml\n",
        "import os # For saving access tokens and for file management when creating and adding to the dataset\n",
        "import requests # For sending GET requests from the API\n",
        "import Twitter_API_Key\n",
        "\n",
        "def Create_url_SearchTweets(keyword, start_date, end_date, max_results = 10):\n",
        "    #Change to the endpoint you want to collect data from\n",
        "    search_url = \"https://api.twitter.com/2/tweets/search/all\" \n",
        "    #change params based on the endpoint you are using\n",
        "    query_params = {'query': keyword,\n",
        "                    'start_time': start_date,\n",
        "                    'end_time': end_date,\n",
        "                    'max_results': max_results,\n",
        "                    'expansions': 'author_id,in_reply_to_user_id,geo.place_id',\n",
        "                    'tweet.fields': 'id,text,author_id,in_reply_to_user_id,geo,conversation_id,created_at,lang,public_metrics,referenced_tweets,reply_settings,source',\n",
        "                    'user.fields': 'id,name,username,created_at,description,public_metrics,verified',\n",
        "                    'place.fields': 'full_name,id,country,country_code,geo,name,place_type',\n",
        "                    'next_token': {}}\n",
        "                    \n",
        "    return (search_url, query_params)"
      ],
      "execution_count": null,
      "outputs": []
    },
    {
      "cell_type": "markdown",
      "metadata": {
        "id": "U3ShYjQzQqdu"
      },
      "source": [
        "##3.2. 「エンドポイントを利用してTwitter APIへアクセス」する関数"
      ]
    },
    {
      "cell_type": "code",
      "metadata": {
        "id": "OrZOAx5w--jr"
      },
      "source": [
        "def Connect_to_endpoint(url, params, next_token = None):\n",
        "    #prepare params\n",
        "    params['next_token'] = next_token   #params object received from create_url function\n",
        "    #pull bearer token\n",
        "    bearer_token = Twitter_API_Key.Auth_FullAchieve()\n",
        "    headers = {\"Authorization\": \"Bearer {}\".format(bearer_token)}\n",
        "    #request Twtitter\n",
        "    response = requests.request(\"GET\", url, headers = headers, params = params)\n",
        "    print(\"Endpoint Response Code: \" + str(response.status_code))\n",
        "    if response.status_code != 200:\n",
        "        raise Exception(response.status_code, response.text)\n",
        "        \n",
        "    return response.json()"
      ],
      "execution_count": null,
      "outputs": []
    },
    {
      "cell_type": "markdown",
      "metadata": {
        "id": "HTWxrW3AQxLQ"
      },
      "source": [
        "##3.3. 「特定の投稿をしたユーザー情報を取得」する関数"
      ]
    },
    {
      "cell_type": "code",
      "metadata": {
        "id": "0uX7vu2y_AaY"
      },
      "source": [
        "import dateutil.parser\n",
        "import pandas as pd\n",
        "\n",
        "def Search_Tweets(keyword, start_time, end_time, max_results, next_token, KEYWORDS_FileName, count_index):\n",
        "  url = Create_url_SearchTweets(keyword, start_time, end_time, max_results)\n",
        "  print(url)\n",
        "  json_SearchTweets= Connect_to_endpoint(url[0], url[1], next_token)\n",
        "  # json_SearchTweets\n",
        "  print(json_SearchTweets)\n",
        "  list_EachData=json_SearchTweets['data']\n",
        "\n",
        "  list_csv=[]\n",
        "  list_csv.clear()\n",
        "  list_header=['author_id', 'text', 'tweet_id', 'tweet_time', 'lang']\n",
        "  for element in list_EachData:\n",
        "    #print(element['text'])\n",
        "    tweet_AuthorID=element['author_id']\n",
        "    tweet_Texts=element['text']\n",
        "    tweet_id = element['id']\n",
        "    tweet_time = dateutil.parser.parse(element['created_at'])\n",
        "    tweet_lang = element['lang']\n",
        "\n",
        "    list_sub_row=[tweet_AuthorID, tweet_Texts, tweet_id, tweet_time, tweet_lang]\n",
        "    list_csv.append(list_sub_row)\n",
        "\n",
        "  df_SearchTweets=pd.DataFrame(list_csv, columns=list_header)\n",
        "  df_SearchTweets.to_csv('%sUserList_%s.csv' % (OUTPUT_DIR_RESULTS, count_index))\n",
        "  print('%sUserList_%s.csvを作成しました。'% (OUTPUT_DIR_RESULTS, count_index))\n",
        "\n",
        "  return df_SearchTweets, tweet_time"
      ],
      "execution_count": null,
      "outputs": []
    },
    {
      "cell_type": "markdown",
      "metadata": {
        "id": "ELSO9xqzQ-X6"
      },
      "source": [
        "##3.5 これまでに作成した関数を動かす。"
      ]
    },
    {
      "cell_type": "code",
      "metadata": {
        "id": "K_nJ_XhA_CXo"
      },
      "source": [
        "import time\n",
        "\n",
        "#Inputs for the request\n",
        "keyword = \"#16Personalities 16personalities.com lang:ja\"\n",
        "max_results = 500\n",
        "start_time = \"2017-01-01T00:00:00.000Z\"\n",
        "end_time='2017-12-31T23:59:59.000Z'\n",
        "# start_time = \"2018-12-31T00:00:00.000Z\"\n",
        "# end_time='2018-12-31T23:59:59.000Z'\n",
        "df_2017to2018=None\n",
        "\n",
        "for count_index in range(0, 10000):\n",
        "  print(count_index)\n",
        "  next_token = None\n",
        "  df_SearchTweets, end_time=Search_Tweets(keyword, start_time, end_time, max_results, next_token, KEYWORDS_TypeMBTI, count_index)\n",
        "\n",
        "  b=str(end_time).replace(' ', 'T')\n",
        "  #print(b.split('+'))\n",
        "  c=b.split('+')\n",
        "  end_time=c[0] + '.000Z'\n",
        "  #print(d)\n",
        "  \n",
        "  df_2017to2018=pd.concat([df_2017to2018, df_SearchTweets], axis=0)\n",
        "  # except:\n",
        "  #   print('passしました')\n",
        "  #   pass\n",
        "\n",
        "  #time.sleep(5)\n",
        "  print(end_time)\n",
        "  \n",
        "df_2017to2018.to_csv('%sUserListFinal_%s.csv' % (OUTPUT_DIR_RESULTS, KEYWORDS_FileName))\n",
        "#df_SearchTweets.to_csv('%sUserList_%s.csv' % (OUTPUT_DIR_RESULTS, KEYWORDS_FileName))"
      ],
      "execution_count": null,
      "outputs": []
    },
    {
      "cell_type": "markdown",
      "metadata": {
        "id": "vpUB_tyQRiif"
      },
      "source": [
        "##3.6. 作成したファイルの表示\n",
        "\n",
        "個人の特定に繫がる情報は伏せてます。"
      ]
    },
    {
      "cell_type": "code",
      "metadata": {
        "colab": {
          "base_uri": "https://localhost:8080/",
          "height": 204
        },
        "id": "KbE-sW-Sr8Ua",
        "outputId": "9b371b9a-2b88-403a-8b04-83ad6422a26e"
      },
      "source": [
        "import pandas as pd\n",
        "#df_2017to2018=pd.read_csv('./Assets/Assets_Output/PersonalEstim_2021-08-24-00-36/results/UserListFinal_2017.csv', engine='python')\n",
        "\n",
        "#df_SearchTweets[['text', 'tweet_time', 'lang']].head()\n",
        "\n",
        "df_2017to2018[['text', 'tweet_time', 'lang']].head()"
      ],
      "execution_count": 13,
      "outputs": [
        {
          "output_type": "execute_result",
          "data": {
            "text/html": [
              "<div>\n",
              "<style scoped>\n",
              "    .dataframe tbody tr th:only-of-type {\n",
              "        vertical-align: middle;\n",
              "    }\n",
              "\n",
              "    .dataframe tbody tr th {\n",
              "        vertical-align: top;\n",
              "    }\n",
              "\n",
              "    .dataframe thead th {\n",
              "        text-align: right;\n",
              "    }\n",
              "</style>\n",
              "<table border=\"1\" class=\"dataframe\">\n",
              "  <thead>\n",
              "    <tr style=\"text-align: right;\">\n",
              "      <th></th>\n",
              "      <th>text</th>\n",
              "      <th>tweet_time</th>\n",
              "      <th>lang</th>\n",
              "    </tr>\n",
              "  </thead>\n",
              "  <tbody>\n",
              "    <tr>\n",
              "      <th>0</th>\n",
              "      <td>私の性格タイプは “建築家” です。あなたのタイプは何ですか？ https://t.co/c...</td>\n",
              "      <td>2017-12-31 15:43:25+00:00</td>\n",
              "      <td>ja</td>\n",
              "    </tr>\n",
              "    <tr>\n",
              "      <th>1</th>\n",
              "      <td>私の性格タイプは “仲介者” です。あなたのタイプは何ですか？ https://t.co/y...</td>\n",
              "      <td>2017-12-31 14:57:52+00:00</td>\n",
              "      <td>ja</td>\n",
              "    </tr>\n",
              "    <tr>\n",
              "      <th>2</th>\n",
              "      <td>私の性格タイプは “広報運動家” です。あなたのタイプは何ですか？ https://t.co...</td>\n",
              "      <td>2017-12-31 14:51:55+00:00</td>\n",
              "      <td>ja</td>\n",
              "    </tr>\n",
              "    <tr>\n",
              "      <th>3</th>\n",
              "      <td>仲介者型の性格 (INFP-A / INFP-T) https://t.co/HtTGyon...</td>\n",
              "      <td>2017-12-31 13:56:54+00:00</td>\n",
              "      <td>ja</td>\n",
              "    </tr>\n",
              "    <tr>\n",
              "      <th>4</th>\n",
              "      <td>私の性格タイプは “仲介者” です。あなたのタイプは何ですか？ https://t.co/t...</td>\n",
              "      <td>2017-12-31 13:41:12+00:00</td>\n",
              "      <td>ja</td>\n",
              "    </tr>\n",
              "  </tbody>\n",
              "</table>\n",
              "</div>"
            ],
            "text/plain": [
              "                                                text  ... lang\n",
              "0  私の性格タイプは “建築家” です。あなたのタイプは何ですか？ https://t.co/c...  ...   ja\n",
              "1  私の性格タイプは “仲介者” です。あなたのタイプは何ですか？ https://t.co/y...  ...   ja\n",
              "2  私の性格タイプは “広報運動家” です。あなたのタイプは何ですか？ https://t.co...  ...   ja\n",
              "3  仲介者型の性格 (INFP-A / INFP-T) https://t.co/HtTGyon...  ...   ja\n",
              "4  私の性格タイプは “仲介者” です。あなたのタイプは何ですか？ https://t.co/t...  ...   ja\n",
              "\n",
              "[5 rows x 3 columns]"
            ]
          },
          "metadata": {},
          "execution_count": 13
        }
      ]
    },
    {
      "cell_type": "code",
      "metadata": {
        "id": "-xp-yPvGP6_U"
      },
      "source": [
        "#df_2017to2018.to_csv('%sUserListFinal_%s.csv' % (OUTPUT_DIR_RESULTS, KEYWORDS_FileName))"
      ],
      "execution_count": null,
      "outputs": []
    },
    {
      "cell_type": "markdown",
      "metadata": {
        "id": "0TjxI6wWSR4B"
      },
      "source": [
        "#Z. デバック用"
      ]
    },
    {
      "cell_type": "code",
      "metadata": {
        "id": "spm9UwDAsbll"
      },
      "source": [
        "print('%sUserListFinal_%s.csv' % (OUTPUT_DIR_RESULTS, KEYWORDS_FileName))\n",
        "list_AuthorID=df_2017to2018['author_id'].values.tolist()\n",
        "\n",
        "list_AuthorID.sort()\n",
        "print(list_AuthorID)\n",
        "\n",
        "with open('/content/drive/MyDrive/sample.txt', 'w') as f:\n",
        "  for i in range(len(list_AuthorID)):\n",
        "    print(list_AuthorID[i], file=f)\n",
        "\n",
        "\n",
        "with open('/content/drive/MyDrive/sample.txt') as f:\n",
        "  list_AuthorID=f.readlines()\n",
        "  for i in range(len(list_AuthorID)):\n",
        "    list_AuthorID[i]=list_AuthorID[i].rstrip()\n",
        "  print(list_AuthorID)"
      ],
      "execution_count": null,
      "outputs": []
    }
  ]
}