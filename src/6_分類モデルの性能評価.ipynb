{
  "nbformat": 4,
  "nbformat_minor": 0,
  "metadata": {
    "colab": {
      "name": "6_分類モデルの性能評価.ipynb",
      "provenance": [],
      "include_colab_link": true
    },
    "kernelspec": {
      "name": "python3",
      "display_name": "Python 3"
    },
    "language_info": {
      "name": "python"
    }
  },
  "cells": [
    {
      "cell_type": "markdown",
      "metadata": {
        "id": "view-in-github",
        "colab_type": "text"
      },
      "source": [
        "<a href=\"https://colab.research.google.com/github/sj0054pe/MBTI_Estim/blob/master/src/6_%E5%88%86%E9%A1%9E%E3%83%A2%E3%83%87%E3%83%AB%E3%81%AE%E6%80%A7%E8%83%BD%E8%A9%95%E4%BE%A1.ipynb\" target=\"_parent\"><img src=\"https://colab.research.google.com/assets/colab-badge.svg\" alt=\"Open In Colab\"/></a>"
      ]
    },
    {
      "cell_type": "markdown",
      "metadata": {
        "id": "D2IVb69E1bRU"
      },
      "source": [
        "#<center>BERT 分類モデルの性能評価 </center>"
      ]
    },
    {
      "cell_type": "markdown",
      "metadata": {
        "id": "HphJ4BBL1lTD"
      },
      "source": [
        "#0. 作業環境の準備"
      ]
    },
    {
      "cell_type": "markdown",
      "metadata": {
        "id": "4bYR9eoz2y-6"
      },
      "source": [
        "##0.1. Google Driveのマウント"
      ]
    },
    {
      "cell_type": "code",
      "metadata": {
        "id": "0R0htqbY22sX"
      },
      "source": [
        ""
      ],
      "execution_count": null,
      "outputs": []
    },
    {
      "cell_type": "markdown",
      "metadata": {
        "id": "VyRj1_sf22_S"
      },
      "source": [
        "##0.2. カレントディレクトリへ移動する。"
      ]
    },
    {
      "cell_type": "code",
      "metadata": {
        "colab": {
          "base_uri": "https://localhost:8080/"
        },
        "id": "4ktlfYi-4aco",
        "outputId": "3471f790-4e71-41db-aec2-702475c4978d"
      },
      "source": [
        "%cd /content/drive/MyDrive/研究室/研究_M2/src"
      ],
      "execution_count": null,
      "outputs": [
        {
          "output_type": "stream",
          "name": "stdout",
          "text": [
            "/content/drive/.shortcut-targets-by-id/1OWWQmFsr-0HoCVHJBaVtdmaZ4m43kkOk/研究_M2/src\n"
          ]
        }
      ]
    },
    {
      "cell_type": "markdown",
      "metadata": {
        "id": "7fqDmBif3duT"
      },
      "source": [
        "#1. 評価データの用意"
      ]
    },
    {
      "cell_type": "markdown",
      "metadata": {
        "id": "wPUK2ChE27L0"
      },
      "source": [
        "##1.1. 性能評価する分類モデルを指定する。\n",
        "\n",
        "正確には、\n",
        "\n",
        "評価する分類モデルが「5_BERT_文書分類.ipynb」で出力した\n",
        "\n",
        "「テストデータセットの予測ラベルと正解ラベル」\n",
        "\n",
        "を記録したcsvファイルを指定する。"
      ]
    },
    {
      "cell_type": "code",
      "metadata": {
        "id": "HerN-4xk4VeP"
      },
      "source": [
        "TYPE_INDEX='EorI_E'\n",
        "#TYPE_INDEX='NorS_N'\n",
        "#TYPE_INDEX='ForT_F'\n",
        "#TYPE_INDEX='JorP_J'"
      ],
      "execution_count": null,
      "outputs": []
    },
    {
      "cell_type": "markdown",
      "metadata": {
        "id": "gASBtoFl3ikr"
      },
      "source": [
        "##1.2. csvファイルの読み込み"
      ]
    },
    {
      "cell_type": "code",
      "metadata": {
        "id": "vSSs_7qX4NIu",
        "colab": {
          "base_uri": "https://localhost:8080/",
          "height": 419
        },
        "outputId": "3c9719b4-92d9-489f-db2f-a90f521e77dd"
      },
      "source": [
        "import pandas as pd\n",
        "test_df=pd.read_csv('./%s.csv' % TYPE_INDEX)\n",
        "\n",
        "test_df"
      ],
      "execution_count": null,
      "outputs": [
        {
          "output_type": "execute_result",
          "data": {
            "text/html": [
              "<div>\n",
              "<style scoped>\n",
              "    .dataframe tbody tr th:only-of-type {\n",
              "        vertical-align: middle;\n",
              "    }\n",
              "\n",
              "    .dataframe tbody tr th {\n",
              "        vertical-align: top;\n",
              "    }\n",
              "\n",
              "    .dataframe thead th {\n",
              "        text-align: right;\n",
              "    }\n",
              "</style>\n",
              "<table border=\"1\" class=\"dataframe\">\n",
              "  <thead>\n",
              "    <tr style=\"text-align: right;\">\n",
              "      <th></th>\n",
              "      <th>Unnamed: 0</th>\n",
              "      <th>logit_0</th>\n",
              "      <th>logit_1</th>\n",
              "      <th>pred_label</th>\n",
              "      <th>true_label</th>\n",
              "    </tr>\n",
              "  </thead>\n",
              "  <tbody>\n",
              "    <tr>\n",
              "      <th>0</th>\n",
              "      <td>0</td>\n",
              "      <td>4.305343</td>\n",
              "      <td>-3.818410</td>\n",
              "      <td>0</td>\n",
              "      <td>0</td>\n",
              "    </tr>\n",
              "    <tr>\n",
              "      <th>1</th>\n",
              "      <td>1</td>\n",
              "      <td>3.948096</td>\n",
              "      <td>-3.811775</td>\n",
              "      <td>0</td>\n",
              "      <td>0</td>\n",
              "    </tr>\n",
              "    <tr>\n",
              "      <th>2</th>\n",
              "      <td>2</td>\n",
              "      <td>3.765281</td>\n",
              "      <td>-3.489188</td>\n",
              "      <td>0</td>\n",
              "      <td>0</td>\n",
              "    </tr>\n",
              "    <tr>\n",
              "      <th>3</th>\n",
              "      <td>3</td>\n",
              "      <td>3.651007</td>\n",
              "      <td>-3.612106</td>\n",
              "      <td>0</td>\n",
              "      <td>0</td>\n",
              "    </tr>\n",
              "    <tr>\n",
              "      <th>4</th>\n",
              "      <td>4</td>\n",
              "      <td>3.961890</td>\n",
              "      <td>-3.685114</td>\n",
              "      <td>0</td>\n",
              "      <td>0</td>\n",
              "    </tr>\n",
              "    <tr>\n",
              "      <th>...</th>\n",
              "      <td>...</td>\n",
              "      <td>...</td>\n",
              "      <td>...</td>\n",
              "      <td>...</td>\n",
              "      <td>...</td>\n",
              "    </tr>\n",
              "    <tr>\n",
              "      <th>59</th>\n",
              "      <td>59</td>\n",
              "      <td>4.494333</td>\n",
              "      <td>-4.146439</td>\n",
              "      <td>0</td>\n",
              "      <td>0</td>\n",
              "    </tr>\n",
              "    <tr>\n",
              "      <th>60</th>\n",
              "      <td>60</td>\n",
              "      <td>4.438259</td>\n",
              "      <td>-3.989540</td>\n",
              "      <td>0</td>\n",
              "      <td>0</td>\n",
              "    </tr>\n",
              "    <tr>\n",
              "      <th>61</th>\n",
              "      <td>61</td>\n",
              "      <td>3.033069</td>\n",
              "      <td>-2.704979</td>\n",
              "      <td>0</td>\n",
              "      <td>0</td>\n",
              "    </tr>\n",
              "    <tr>\n",
              "      <th>62</th>\n",
              "      <td>62</td>\n",
              "      <td>4.210387</td>\n",
              "      <td>-4.048031</td>\n",
              "      <td>0</td>\n",
              "      <td>0</td>\n",
              "    </tr>\n",
              "    <tr>\n",
              "      <th>63</th>\n",
              "      <td>63</td>\n",
              "      <td>4.454503</td>\n",
              "      <td>-3.974011</td>\n",
              "      <td>0</td>\n",
              "      <td>1</td>\n",
              "    </tr>\n",
              "  </tbody>\n",
              "</table>\n",
              "<p>64 rows × 5 columns</p>\n",
              "</div>"
            ],
            "text/plain": [
              "    Unnamed: 0   logit_0   logit_1  pred_label  true_label\n",
              "0            0  4.305343 -3.818410           0           0\n",
              "1            1  3.948096 -3.811775           0           0\n",
              "2            2  3.765281 -3.489188           0           0\n",
              "3            3  3.651007 -3.612106           0           0\n",
              "4            4  3.961890 -3.685114           0           0\n",
              "..         ...       ...       ...         ...         ...\n",
              "59          59  4.494333 -4.146439           0           0\n",
              "60          60  4.438259 -3.989540           0           0\n",
              "61          61  3.033069 -2.704979           0           0\n",
              "62          62  4.210387 -4.048031           0           0\n",
              "63          63  4.454503 -3.974011           0           1\n",
              "\n",
              "[64 rows x 5 columns]"
            ]
          },
          "metadata": {},
          "execution_count": 76
        }
      ]
    },
    {
      "cell_type": "markdown",
      "metadata": {
        "id": "baW7XFO15O9B"
      },
      "source": [
        "#2. 正解率と再現率と適合率\n",
        "\n",
        "https://cookie-box.hatenablog.com/entry/2019/02/10/182619"
      ]
    },
    {
      "cell_type": "code",
      "metadata": {
        "colab": {
          "base_uri": "https://localhost:8080/"
        },
        "id": "nZlZ1Wp2yYWK",
        "outputId": "b8c72db6-6524-4058-fd63-f9d1745826bc"
      },
      "source": [
        "list_predLabel=test_df['pred_label'].to_list()\n",
        "list_trureLabel = test_df['true_label'].to_list()\n",
        "\n",
        "from sklearn.metrics import accuracy_score\n",
        "print(accuracy_score(list_trureLabel,  list_predLabel))\n",
        "\n",
        "from sklearn.metrics import precision_score\n",
        "print(precision_score(list_trureLabel,  list_predLabel)) #適合率　#適合率（precision）は、陽性と予測されたサンプルのうち正解したサンプルの割合。\n",
        "\n",
        "from sklearn.metrics import recall_score\n",
        "print(recall_score(list_trureLabel,  list_predLabel)) #再現率 #再現率（recall）は実際に陽性のサンプルのうち正解したサンプルの割合。"
      ],
      "execution_count": null,
      "outputs": [
        {
          "output_type": "stream",
          "name": "stdout",
          "text": [
            "0.8125\n",
            "0.0\n",
            "0.0\n"
          ]
        }
      ]
    },
    {
      "cell_type": "markdown",
      "metadata": {
        "id": "fJIeBhJD19u-"
      },
      "source": [
        "#3. UCの計算"
      ]
    },
    {
      "cell_type": "code",
      "metadata": {
        "colab": {
          "base_uri": "https://localhost:8080/"
        },
        "id": "jSDdSwwy6FD8",
        "outputId": "303fef07-6445-41ec-f51d-2a2c94275198"
      },
      "source": [
        "list_predScore = test_df['logit_1']\n",
        "\n",
        "import numpy as np\n",
        "\n",
        "def sigmoid(x):\n",
        "    return 1/(1 + np.exp(-x))\n",
        "\n",
        "list_predScore2=[]\n",
        "list_predScore2.clear()\n",
        "for idx, element in enumerate(list_predScore):\n",
        "  list_predScore2.append(sigmoid(list_predScore[idx]))\n",
        "\n",
        "print(list_trureLabel)\n",
        "print(list_predScore2)\n",
        "\n",
        "import numpy as np\n",
        "from sklearn.metrics import roc_auc_score\n",
        "roc_auc_score(list_trureLabel,  list_predScore2)"
      ],
      "execution_count": null,
      "outputs": [
        {
          "output_type": "stream",
          "name": "stdout",
          "text": [
            "[0, 0, 0, 0, 0, 0, 0, 0, 0, 0, 0, 0, 1, 0, 0, 0, 0, 0, 0, 0, 0, 1, 0, 0, 0, 0, 0, 0, 1, 0, 0, 0, 0, 0, 1, 0, 1, 0, 0, 0, 0, 0, 0, 0, 0, 1, 0, 1, 0, 0, 0, 0, 1, 1, 0, 0, 0, 0, 0, 0, 0, 0, 0, 1]\n",
            "[0.021490700162353757, 0.02163067046139312, 0.029621429650600786, 0.02628535624021718, 0.02447999533168509, 0.02397521013631818, 0.02786066515001788, 0.02111719683892585, 0.027883398006015664, 0.017615700452228836, 0.016079862815825508, 0.014628688062951669, 0.061018922858686535, 0.015787325061106396, 0.05387722484981844, 0.025659706471206866, 0.014974934765823344, 0.025648443299319996, 0.02113588761283147, 0.7140047882494371, 0.23523260421751305, 0.020706117416595213, 0.02062445625150074, 0.026911822872897614, 0.023868390797700544, 0.052419024855712745, 0.13541556031322255, 0.07526584847710396, 0.03567810704825363, 0.08011224082622385, 0.019657227422401828, 0.12186526386319468, 0.022437611034551944, 0.024618566843353677, 0.01565171942098543, 0.021536810065914187, 0.049787499776881135, 0.0800353377271056, 0.02150500443419582, 0.016820505409946975, 0.032189970145587596, 0.01820337442100017, 0.017720007918303613, 0.9560320887482437, 0.06475907649561267, 0.018325769028227024, 0.046351398375965136, 0.015673201671520684, 0.028798613620201436, 0.018584117298406123, 0.021172499108599762, 0.028092499959673733, 0.022257885463828214, 0.041115706994182384, 0.017997535255571937, 0.02131656843768489, 0.05490432711416926, 0.025415465377038222, 0.017043744051463434, 0.015574258690306918, 0.01817189816595294, 0.0626801716667173, 0.017157199631705575, 0.018451042858635754]\n"
          ]
        },
        {
          "output_type": "execute_result",
          "data": {
            "text/plain": [
              "0.43888888888888894"
            ]
          },
          "metadata": {},
          "execution_count": 78
        }
      ]
    },
    {
      "cell_type": "markdown",
      "metadata": {
        "id": "yGerjdFg2YUj"
      },
      "source": [
        "#使わなくなったコードたち"
      ]
    },
    {
      "cell_type": "code",
      "metadata": {
        "id": "T_UaFel92lTH"
      },
      "source": [
        "#ロジット変換とプロビット変換\n",
        "#https://qiita.com/g-k/items/86f28982284e877ef83f\n",
        "\n",
        "# import numpy as np\n",
        "# def logit(x):\n",
        "#     return np.log(x/(1-x))\n",
        "\n",
        "# def probit(x):\n",
        "#   return np.exp(x)/(1+np.exp(x))\n",
        "\n",
        "# list_trureLabel = accuracy_df['true_label'].to_list()\n",
        "# list_predScore = accuracy_df['logit_1']"
      ],
      "execution_count": null,
      "outputs": []
    },
    {
      "cell_type": "code",
      "metadata": {
        "id": "32uJZyNzC_Mb"
      },
      "source": [
        "#正解率のスクラッチ実装\n",
        "\n",
        "# accuracy_df['answer'] = (accuracy_df['pred_label'] == accuracy_df['true_label'])\n",
        "# list_answer=accuracy_df['answer'].to_list()\n",
        "# count_true=list_answer.count(True)\n",
        "# print(list_answer)\n",
        "# print(count_true)\n",
        "# print('accuracy : ',  float(count_true / len(list_answer))*100)"
      ],
      "execution_count": null,
      "outputs": []
    },
    {
      "cell_type": "code",
      "metadata": {
        "id": "qF_XOVzw_G4P"
      },
      "source": [
        "#よくわからない\n",
        "\n",
        "# list_logit0 = accuracy_df['logit_0'].to_list()\n",
        "# list_logit1 = accuracy_df['logit_1'].to_list()\n",
        "# list_logit=[]\n",
        "# for idx, element in enumerate(list_logit0):\n",
        "#   list_logit.append([list_logit0[idx], list_logit1[idx]])\n",
        "# print(list_logit)\n",
        "\n",
        "# def softmax(x):\n",
        "#     \"\"\"Compute softmax values for each sets of scores in x.\"\"\"\n",
        "#     e_x = np.exp(x - np.max(x))\n",
        "#     return e_x / e_x.sum()\n",
        "\n",
        "# list_score=softmax(list_logit)\n",
        "# print(list_score)"
      ],
      "execution_count": null,
      "outputs": []
    }
  ]
}