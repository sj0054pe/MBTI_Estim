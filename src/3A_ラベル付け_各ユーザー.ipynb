{
  "nbformat": 4,
  "nbformat_minor": 0,
  "metadata": {
    "colab": {
      "name": "3A_ラベル付け_各ユーザー.ipynb",
      "provenance": [],
      "include_colab_link": true
    },
    "kernelspec": {
      "name": "python3",
      "display_name": "Python 3"
    },
    "language_info": {
      "name": "python"
    }
  },
  "cells": [
    {
      "cell_type": "markdown",
      "metadata": {
        "id": "view-in-github",
        "colab_type": "text"
      },
      "source": [
        "<a href=\"https://colab.research.google.com/github/sj0054pe/MBTI_Estim/blob/master/src/3A_%E3%83%A9%E3%83%99%E3%83%AB%E4%BB%98%E3%81%91_%E5%90%84%E3%83%A6%E3%83%BC%E3%82%B6%E3%83%BC.ipynb\" target=\"_parent\"><img src=\"https://colab.research.google.com/assets/colab-badge.svg\" alt=\"Open In Colab\"/></a>"
      ]
    },
    {
      "cell_type": "markdown",
      "metadata": {
        "id": "9SJfQkd2MANY"
      },
      "source": [
        "#<center>各ユーザーのラベル付け (ラベル=MBTItype) </center>"
      ]
    },
    {
      "cell_type": "markdown",
      "metadata": {
        "id": "MCiK22lJNV85"
      },
      "source": [
        "#0. 作業環境の準備"
      ]
    },
    {
      "cell_type": "markdown",
      "metadata": {
        "id": "F3iwz-YdIse1"
      },
      "source": [
        "##0.1. Google Driveをマウント"
      ]
    },
    {
      "cell_type": "code",
      "metadata": {
        "colab": {
          "base_uri": "https://localhost:8080/"
        },
        "id": "_K13_ZwdJjTA",
        "outputId": "8fcaa2cb-09d2-4cc0-f621-a5222d7c957e"
      },
      "source": [
        "from google.colab import drive\n",
        "drive.mount('/content/drive')"
      ],
      "execution_count": null,
      "outputs": [
        {
          "output_type": "stream",
          "name": "stdout",
          "text": [
            "Mounted at /content/drive\n"
          ]
        }
      ]
    },
    {
      "cell_type": "markdown",
      "metadata": {
        "id": "g3mc6h9pIufO"
      },
      "source": [
        "##0.2. カレントディレクトリへ移動"
      ]
    },
    {
      "cell_type": "code",
      "metadata": {
        "colab": {
          "base_uri": "https://localhost:8080/"
        },
        "id": "y-hJtH3oz4ae",
        "outputId": "a94b7116-149a-46b9-f0a2-e34cd465d787"
      },
      "source": [
        "%cd /content/drive/MyDrive/研究室/研究_M2/src"
      ],
      "execution_count": null,
      "outputs": [
        {
          "output_type": "stream",
          "name": "stdout",
          "text": [
            "/content/drive/.shortcut-targets-by-id/1OWWQmFsr-0HoCVHJBaVtdmaZ4m43kkOk/研究_M2/src\n"
          ]
        }
      ]
    },
    {
      "cell_type": "markdown",
      "metadata": {
        "id": "QGyj80BPNbIx"
      },
      "source": [
        "#1. データのロード"
      ]
    },
    {
      "cell_type": "code",
      "metadata": {
        "id": "LbjHDskX165d"
      },
      "source": [
        "import pandas as pd\n",
        "df_2017=pd.read_csv('/content/drive/MyDrive/研究室/研究_M2/src/Assets/Assets_Output/Tweet_Datasets/Tweet__MBTI_2017.csv', engine='python')\n",
        "\n",
        "df_2017=df_2017[:][:] #df_2017=df_2017[:96][:]"
      ],
      "execution_count": null,
      "outputs": []
    },
    {
      "cell_type": "markdown",
      "metadata": {
        "id": "2x0l-F4NNfWm"
      },
      "source": [
        "#2. これから追加するカラムの追加"
      ]
    },
    {
      "cell_type": "code",
      "metadata": {
        "id": "417dW4j_7CxL"
      },
      "source": [
        "df_2017['MBTI_性格タイプ'] = None\n",
        "df_2017['MBTI_Type'] = None\n",
        "df_2017['notes'] = None\n",
        "df_2017"
      ],
      "execution_count": null,
      "outputs": []
    },
    {
      "cell_type": "markdown",
      "metadata": {
        "id": "lFBmMyNfNyhf"
      },
      "source": [
        "#3. 性格を宣言 (「私の性格タイプは...」) というツイートだけ抽出\n",
        "\n",
        "性格を宣言するTweetの行で新しいdfを作成した。"
      ]
    },
    {
      "cell_type": "code",
      "metadata": {
        "id": "VEL9_dLV9ldP"
      },
      "source": [
        "df_2017_私の性格タイプ=df_2017[df_2017['text'].str.startswith('私の性格タイプは')]\n",
        "df_2017_私の性格タイプ"
      ],
      "execution_count": null,
      "outputs": []
    },
    {
      "cell_type": "markdown",
      "metadata": {
        "id": "zPanS3kdOEf9"
      },
      "source": [
        "#4. ラベリングの準備\n",
        "\n",
        "MBTI性格 (日本語) を 抽出して、新しいカラムに追加\n",
        "\n",
        "「MBTI_性格タイプ」のカラムに追加していく。"
      ]
    },
    {
      "cell_type": "code",
      "metadata": {
        "id": "CXdwIKs9_HCa"
      },
      "source": [
        "df_2017_私の性格タイプ['MBTI_性格タイプ']=df_2017_私の性格タイプ['text'].str.extract(r'私の性格タイプは\\ \\“(.*)\\”\\ です。', expand=True)\n",
        "df_2017_性格タイプ=df_2017_私の性格タイプ\n",
        "\n",
        "df_2017_性格タイプ"
      ],
      "execution_count": null,
      "outputs": []
    },
    {
      "cell_type": "markdown",
      "metadata": {
        "id": "5V3S-PwqCJV5"
      },
      "source": [
        "https://www.delftstack.com/ja/howto/python-pandas/how-to-create-dataframe-column-based-on-given-condition-in-pandas/"
      ]
    },
    {
      "cell_type": "markdown",
      "metadata": {
        "id": "nep-_MQIOU5l"
      },
      "source": [
        "#5. ラベリングする。\n",
        "\n",
        "MBTI性格 (日本語) を MBTI性格 (英語) に変換して、新しいカラムに追加"
      ]
    },
    {
      "cell_type": "markdown",
      "metadata": {
        "id": "tP2pGtQHIz1U"
      },
      "source": [
        "##5.1. 16個の性格をリスト化・辞書化する。"
      ]
    },
    {
      "cell_type": "code",
      "metadata": {
        "id": "XVXqZ3_oH_pw"
      },
      "source": [
        "keys = ['建築家', '論理学者', '指揮官', '討論者', '提唱者', '仲介者', '主人公', '広報運動家', '管理者', '擁護者', '幹部', '領事官', '巨匠', '冒険家', '起業家', 'エンターテイナー']\n",
        "values = ['INTJ', 'INTP', 'ENTJ', 'ENTP', 'INFJ', 'INFP', 'ENFJ', 'ENFP', 'ISTJ', 'ISFJ', 'ESTJ', 'ESFJ', 'ISTP', 'ISFP', 'ESTP', 'ESFP']\n",
        "\n",
        "dic = {key: val for key, val in zip(keys, values)}\n",
        "\n",
        "print(dic)\n",
        "\n",
        "dict_MBTIType=dic"
      ],
      "execution_count": null,
      "outputs": []
    },
    {
      "cell_type": "markdown",
      "metadata": {
        "id": "xl9C_W3wI7zW"
      },
      "source": [
        "##5.2. 各ユーザーにMBTIの性格をラベリングする。\n",
        "\n",
        "MBTI性格 (日本語) を MBTI性格 (英語) に変換して、新しいカラムに追加"
      ]
    },
    {
      "cell_type": "code",
      "metadata": {
        "id": "miNyHQSyC9o9"
      },
      "source": [
        "df_2017_practice=df_2017_性格タイプ\n",
        "\n",
        "def add_columns_by_conditions(df, Type_Japanese, Type_English):\n",
        "  df['MBTI_Type'].where(df['MBTI_性格タイプ']!='%s' % Type_Japanese, '%s' % Type_English, inplace=True)\n",
        "\n",
        "  return df\n",
        "\n",
        "for element in dict_MBTIType:\n",
        "  df_2017_practice=add_columns_by_conditions(df_2017_practice, element, dict_MBTIType[element])\n",
        "\n",
        "#df_2017_性格タイプ['MBTI_Type'].where(df_2017_性格タイプ['MBTI_性格タイプ']!='建築家','INTJ', inplace=True)\n",
        "\n",
        "df_2017_practice"
      ],
      "execution_count": null,
      "outputs": []
    },
    {
      "cell_type": "markdown",
      "metadata": {
        "id": "pK8xKwUqOr9m"
      },
      "source": [
        "#6. 結果を新しいcsvとして保存\n",
        "\n",
        "「Tweet__MBTI_2017_V2.csv」として保存した。"
      ]
    },
    {
      "cell_type": "code",
      "metadata": {
        "id": "5ynDvnasMqX_"
      },
      "source": [
        "df_2017_MBTI = df_2017_practice\n",
        "df_2017_MBTI.to_csv('/content/drive/MyDrive/研究室/研究_M2/src/Assets/Assets_Output/Tweet_Datasets/Tweet__MBTI_2017_v2.csv')"
      ],
      "execution_count": null,
      "outputs": []
    }
  ]
}