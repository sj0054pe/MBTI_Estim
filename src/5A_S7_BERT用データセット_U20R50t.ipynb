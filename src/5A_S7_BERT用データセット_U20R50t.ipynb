{
  "nbformat": 4,
  "nbformat_minor": 0,
  "metadata": {
    "colab": {
      "name": "5A_S7_BERT用データセット_U20R50t.ipynb",
      "provenance": [],
      "collapsed_sections": [],
      "include_colab_link": true
    },
    "kernelspec": {
      "name": "python3",
      "display_name": "Python 3"
    },
    "language_info": {
      "name": "python"
    }
  },
  "cells": [
    {
      "cell_type": "markdown",
      "metadata": {
        "id": "view-in-github",
        "colab_type": "text"
      },
      "source": [
        "<a href=\"https://colab.research.google.com/github/sj0054pe/MBTI_Estim/blob/master/src/5A_S7_BERT%E7%94%A8%E3%83%87%E3%83%BC%E3%82%BF%E3%82%BB%E3%83%83%E3%83%88_U20R50t.ipynb\" target=\"_parent\"><img src=\"https://colab.research.google.com/assets/colab-badge.svg\" alt=\"Open In Colab\"/></a>"
      ]
    },
    {
      "cell_type": "markdown",
      "metadata": {
        "id": "D_sogVdVEP5f"
      },
      "source": [
        "#<center>BERT データセットの作成 S7</center>\n",
        "\n",
        "###<center>リツイート・@mention・URLの除去・短い文(20単語未満)の削除</center>\n",
        "\n",
        "###<center>5万件のツイートを使用</center>\n"
      ]
    },
    {
      "cell_type": "markdown",
      "metadata": {
        "id": "ze-KEzO7EXCz"
      },
      "source": [
        "#0. 作業環境の準備"
      ]
    },
    {
      "cell_type": "markdown",
      "metadata": {
        "id": "_bOG6b3jEZMa"
      },
      "source": [
        "##0.1. google driveのマウント"
      ]
    },
    {
      "cell_type": "code",
      "metadata": {
        "id": "-9_AsBf4Hro9",
        "colab": {
          "base_uri": "https://localhost:8080/"
        },
        "outputId": "147ec7e9-fc0f-45ed-f8df-bd1f10680598"
      },
      "source": [
        "from google.colab import drive\n",
        "drive.mount('/content/drive')"
      ],
      "execution_count": null,
      "outputs": [
        {
          "output_type": "stream",
          "name": "stdout",
          "text": [
            "Mounted at /content/drive\n"
          ]
        }
      ]
    },
    {
      "cell_type": "markdown",
      "metadata": {
        "id": "TVbUY3i2EfyK"
      },
      "source": [
        "##0.2. カレントディレクトリへ移動"
      ]
    },
    {
      "cell_type": "code",
      "metadata": {
        "colab": {
          "base_uri": "https://localhost:8080/"
        },
        "id": "bVrupTBrDliG",
        "outputId": "d780b8a6-354f-433d-97ae-2fb5a7d56f78"
      },
      "source": [
        "%cd /content/drive/MyDrive/研究室/研究_M2/src"
      ],
      "execution_count": null,
      "outputs": [
        {
          "output_type": "stream",
          "name": "stdout",
          "text": [
            "/content/drive/MyDrive/研究室/研究_M2/src\n"
          ]
        }
      ]
    },
    {
      "cell_type": "markdown",
      "metadata": {
        "id": "trnekF5SFYKo"
      },
      "source": [
        "##0.3. 現在時刻の取得"
      ]
    },
    {
      "cell_type": "code",
      "metadata": {
        "colab": {
          "base_uri": "https://localhost:8080/"
        },
        "id": "yuOViur_FWTS",
        "outputId": "b0d8dc19-24ce-44ed-a6f5-bccae5c6fb99"
      },
      "source": [
        "import datetime\n",
        "import pytz\n",
        "\n",
        "def pull_Datetime():\n",
        "  DATETIME_now = datetime.datetime.now(pytz.timezone('Asia/Tokyo'))\n",
        "  DATETIME_now = DATETIME_now.strftime(\"%Y-%m-%d\")\n",
        "  #DATETIME_now = DATETIME_now.strftime(\"%Y/%m/%d %H:%M:%S\")\n",
        "  #print(DATETIME_now)\n",
        "\n",
        "  return DATETIME_now\n",
        "\n",
        "print(pull_Datetime())"
      ],
      "execution_count": null,
      "outputs": [
        {
          "output_type": "stream",
          "name": "stdout",
          "text": [
            "2021-11-09\n"
          ]
        }
      ]
    },
    {
      "cell_type": "markdown",
      "metadata": {
        "id": "h23GS-SaIR5s"
      },
      "source": [
        "##option. データセットの指定"
      ]
    },
    {
      "cell_type": "code",
      "metadata": {
        "id": "E-g5Hu0lIPg3"
      },
      "source": [
        "INPUT_CSV_v5='./Assets/Assets_Output/Tweet_Datasets/v6S7_all_forBERT_2021-11-08_U10sentences.csv'"
      ],
      "execution_count": null,
      "outputs": []
    },
    {
      "cell_type": "code",
      "metadata": {
        "id": "r06KEL77Gs_2"
      },
      "source": [
        "#INPUT_CSV_v5='/content/drive/MyDrive/研究室/研究_M2/src/Assets/Assets_Output/Tweet_Datasets/v6S7_forBERT_2021-11-09_U20R10000.csv'"
      ],
      "execution_count": null,
      "outputs": []
    },
    {
      "cell_type": "markdown",
      "metadata": {
        "id": "3_vDHhmdDOK7"
      },
      "source": [
        "#1. データセットのロード"
      ]
    },
    {
      "cell_type": "code",
      "metadata": {
        "id": "DNWoMhghDLVI",
        "colab": {
          "base_uri": "https://localhost:8080/",
          "height": 1000
        },
        "outputId": "877473b3-d221-4a41-f115-2b727557061c"
      },
      "source": [
        "import pandas as pd\n",
        "df_v0=pd.read_csv('%s' % INPUT_CSV_v5, engine='python')\n",
        "\n",
        "# データの確認\n",
        "print(f'データサイズ： {df_v0.shape}')\n",
        "\n",
        "df_v0[['text', 'tweet_time', 'MBTI_Type','label_EorI','label_NorS','label_ForT','label_JorP']].head()"
      ],
      "execution_count": null,
      "outputs": [
        {
          "output_type": "stream",
          "name": "stdout",
          "text": [
            "データサイズ： (10000, 14)\n"
          ]
        },
        {
          "output_type": "execute_result",
          "data": {
            "text/html": [
              "<div>\n",
              "<style scoped>\n",
              "    .dataframe tbody tr th:only-of-type {\n",
              "        vertical-align: middle;\n",
              "    }\n",
              "\n",
              "    .dataframe tbody tr th {\n",
              "        vertical-align: top;\n",
              "    }\n",
              "\n",
              "    .dataframe thead th {\n",
              "        text-align: right;\n",
              "    }\n",
              "</style>\n",
              "<table border=\"1\" class=\"dataframe\">\n",
              "  <thead>\n",
              "    <tr style=\"text-align: right;\">\n",
              "      <th></th>\n",
              "      <th>text</th>\n",
              "      <th>tweet_time</th>\n",
              "      <th>MBTI_Type</th>\n",
              "      <th>label_EorI</th>\n",
              "      <th>label_NorS</th>\n",
              "      <th>label_ForT</th>\n",
              "      <th>label_JorP</th>\n",
              "    </tr>\n",
              "  </thead>\n",
              "  <tbody>\n",
              "    <tr>\n",
              "      <th>0</th>\n",
              "      <td>夏場に買ったスニーカーをずっと履いているんですが流石に北風が生地をスースー通り抜けてくるので...</td>\n",
              "      <td>2017-12-20 01:05:36+00:00</td>\n",
              "      <td>ISFJ</td>\n",
              "      <td>I</td>\n",
              "      <td>S</td>\n",
              "      <td>F</td>\n",
              "      <td>J</td>\n",
              "    </tr>\n",
              "    <tr>\n",
              "      <th>1</th>\n",
              "      <td>プレミアムフライデーか…何の関係もないのにイベントだけあるからクソめんどくさいんだよな🙃💥</td>\n",
              "      <td>2017-04-27 23:36:47+00:00</td>\n",
              "      <td>ISFP</td>\n",
              "      <td>I</td>\n",
              "      <td>S</td>\n",
              "      <td>F</td>\n",
              "      <td>P</td>\n",
              "    </tr>\n",
              "    <tr>\n",
              "      <th>2</th>\n",
              "      <td>あーここまでやったら怒られるだろうなーっつーぎりぎりを探すのが割と好きって話ーまーそんなかん...</td>\n",
              "      <td>2017-12-03 14:04:54+00:00</td>\n",
              "      <td>ISFJ</td>\n",
              "      <td>I</td>\n",
              "      <td>S</td>\n",
              "      <td>F</td>\n",
              "      <td>J</td>\n",
              "    </tr>\n",
              "    <tr>\n",
              "      <th>3</th>\n",
              "      <td>スプラトゥーン2までゼルダをやり込もうと思ってたのに、ラスボス倒したらサブクエやる気一気にな...</td>\n",
              "      <td>2017-06-19 03:51:29+00:00</td>\n",
              "      <td>INTJ</td>\n",
              "      <td>I</td>\n",
              "      <td>N</td>\n",
              "      <td>T</td>\n",
              "      <td>J</td>\n",
              "    </tr>\n",
              "    <tr>\n",
              "      <th>4</th>\n",
              "      <td>えぇーΣ(´・ｪ・｀；) 自分の場合、家なくなったら色んなもの保管しておけなくなるから困るな...</td>\n",
              "      <td>2017-12-12 08:23:05+00:00</td>\n",
              "      <td>ISFJ</td>\n",
              "      <td>I</td>\n",
              "      <td>S</td>\n",
              "      <td>F</td>\n",
              "      <td>J</td>\n",
              "    </tr>\n",
              "  </tbody>\n",
              "</table>\n",
              "</div>"
            ],
            "text/plain": [
              "                                                text  ... label_JorP\n",
              "0  夏場に買ったスニーカーをずっと履いているんですが流石に北風が生地をスースー通り抜けてくるので...  ...          J\n",
              "1      プレミアムフライデーか…何の関係もないのにイベントだけあるからクソめんどくさいんだよな🙃💥  ...          P\n",
              "2  あーここまでやったら怒られるだろうなーっつーぎりぎりを探すのが割と好きって話ーまーそんなかん...  ...          J\n",
              "3  スプラトゥーン2までゼルダをやり込もうと思ってたのに、ラスボス倒したらサブクエやる気一気にな...  ...          J\n",
              "4  えぇーΣ(´・ｪ・｀；) 自分の場合、家なくなったら色んなもの保管しておけなくなるから困るな...  ...          J\n",
              "\n",
              "[5 rows x 7 columns]"
            ]
          },
          "metadata": {},
          "execution_count": 4
        }
      ]
    },
    {
      "cell_type": "markdown",
      "metadata": {
        "id": "WoerHjlkIO-s"
      },
      "source": [
        "#2. データの加工"
      ]
    },
    {
      "cell_type": "markdown",
      "metadata": {
        "id": "EfelOOnbDImD"
      },
      "source": [
        "##2.1. 必要なデータ（文章とラベル）の抽出"
      ]
    },
    {
      "cell_type": "code",
      "metadata": {
        "id": "qdG1TuYZDGa_",
        "colab": {
          "base_uri": "https://localhost:8080/",
          "height": 285
        },
        "outputId": "b6bb8ea5-9053-459d-83f2-23693eb9af83"
      },
      "source": [
        "#df_v0.drop(['notes', 'Unnamed: 0', 'Unnamed: 0.1', 'Unnamed: 0.1.1',  'Unnamed: 0.1.1.1'],axis=1, inplace=True)\n",
        "df_v0.dropna(how='any', axis=0, inplace=True)\n",
        "\n",
        "df_v0=df_v0\n",
        "df_v0[['text', 'tweet_time', 'MBTI_Type','label_EorI','label_NorS','label_ForT','label_JorP']].head()"
      ],
      "execution_count": null,
      "outputs": [
        {
          "output_type": "execute_result",
          "data": {
            "text/html": [
              "<div>\n",
              "<style scoped>\n",
              "    .dataframe tbody tr th:only-of-type {\n",
              "        vertical-align: middle;\n",
              "    }\n",
              "\n",
              "    .dataframe tbody tr th {\n",
              "        vertical-align: top;\n",
              "    }\n",
              "\n",
              "    .dataframe thead th {\n",
              "        text-align: right;\n",
              "    }\n",
              "</style>\n",
              "<table border=\"1\" class=\"dataframe\">\n",
              "  <thead>\n",
              "    <tr style=\"text-align: right;\">\n",
              "      <th></th>\n",
              "      <th>text</th>\n",
              "      <th>tweet_time</th>\n",
              "      <th>MBTI_Type</th>\n",
              "      <th>label_EorI</th>\n",
              "      <th>label_NorS</th>\n",
              "      <th>label_ForT</th>\n",
              "      <th>label_JorP</th>\n",
              "    </tr>\n",
              "  </thead>\n",
              "  <tbody>\n",
              "    <tr>\n",
              "      <th>0</th>\n",
              "      <td>あけおめなのよ。ことよろなのよ。</td>\n",
              "      <td>2017-12-30 12:02:23+00:00</td>\n",
              "      <td>INTJ</td>\n",
              "      <td>I</td>\n",
              "      <td>N</td>\n",
              "      <td>T</td>\n",
              "      <td>J</td>\n",
              "    </tr>\n",
              "    <tr>\n",
              "      <th>1</th>\n",
              "      <td>CLIP STUDIO TABMATEがコミケで販売されたそうだけど買った方いるのかな！？</td>\n",
              "      <td>2017-12-29 14:01:24+00:00</td>\n",
              "      <td>INTJ</td>\n",
              "      <td>I</td>\n",
              "      <td>N</td>\n",
              "      <td>T</td>\n",
              "      <td>J</td>\n",
              "    </tr>\n",
              "    <tr>\n",
              "      <th>2</th>\n",
              "      <td>中小の劇団のチケットって、安すぎたら箱や演者やスタッフさんのギャラが払えない。かと言って高く...</td>\n",
              "      <td>2017-11-26 06:54:54+00:00</td>\n",
              "      <td>INTJ</td>\n",
              "      <td>I</td>\n",
              "      <td>N</td>\n",
              "      <td>T</td>\n",
              "      <td>J</td>\n",
              "    </tr>\n",
              "    <tr>\n",
              "      <th>3</th>\n",
              "      <td>Vステなら大丈夫だったのになぁ… まぁQちゃんの事だからなんとかなるでしょう。</td>\n",
              "      <td>2017-11-19 16:00:34+00:00</td>\n",
              "      <td>INTJ</td>\n",
              "      <td>I</td>\n",
              "      <td>N</td>\n",
              "      <td>T</td>\n",
              "      <td>J</td>\n",
              "    </tr>\n",
              "    <tr>\n",
              "      <th>4</th>\n",
              "      <td>すげー！！耐えた！！ #鉄腕DASH</td>\n",
              "      <td>2017-11-19 10:32:29+00:00</td>\n",
              "      <td>INTJ</td>\n",
              "      <td>I</td>\n",
              "      <td>N</td>\n",
              "      <td>T</td>\n",
              "      <td>J</td>\n",
              "    </tr>\n",
              "  </tbody>\n",
              "</table>\n",
              "</div>"
            ],
            "text/plain": [
              "                                                text  ... label_JorP\n",
              "0                                   あけおめなのよ。ことよろなのよ。  ...          J\n",
              "1      CLIP STUDIO TABMATEがコミケで販売されたそうだけど買った方いるのかな！？  ...          J\n",
              "2  中小の劇団のチケットって、安すぎたら箱や演者やスタッフさんのギャラが払えない。かと言って高く...  ...          J\n",
              "3            Vステなら大丈夫だったのになぁ… まぁQちゃんの事だからなんとかなるでしょう。  ...          J\n",
              "4                                 すげー！！耐えた！！ #鉄腕DASH  ...          J\n",
              "\n",
              "[5 rows x 7 columns]"
            ]
          },
          "metadata": {},
          "execution_count": 8
        }
      ]
    },
    {
      "cell_type": "markdown",
      "metadata": {
        "id": "7s8fnWpYIYeh"
      },
      "source": [
        "##2.2. データからリツイートの投稿を除去"
      ]
    },
    {
      "cell_type": "code",
      "metadata": {
        "colab": {
          "base_uri": "https://localhost:8080/",
          "height": 338
        },
        "id": "M8rWbb5qg1L8",
        "outputId": "7b22c9a5-7084-4ed4-a20a-8ace7e25fc5a"
      },
      "source": [
        "#dfXXX=df['text'].str.extract(r'RT\\ @(.*)', expand=True) \n",
        "df = df_v0[~df_v0['text'].str.contains(r'RT\\ @(.*)')]\n",
        "#dfXXX = df[~df['text'].str.startswith('RT ')]\n",
        "df[['text', 'tweet_time', 'MBTI_Type','label_EorI','label_NorS','label_ForT','label_JorP']].head()"
      ],
      "execution_count": null,
      "outputs": [
        {
          "output_type": "stream",
          "name": "stderr",
          "text": [
            "/usr/local/lib/python3.7/dist-packages/pandas/core/strings.py:2001: UserWarning: This pattern has match groups. To actually get the groups, use str.extract.\n",
            "  return func(self, *args, **kwargs)\n"
          ]
        },
        {
          "output_type": "execute_result",
          "data": {
            "text/html": [
              "<div>\n",
              "<style scoped>\n",
              "    .dataframe tbody tr th:only-of-type {\n",
              "        vertical-align: middle;\n",
              "    }\n",
              "\n",
              "    .dataframe tbody tr th {\n",
              "        vertical-align: top;\n",
              "    }\n",
              "\n",
              "    .dataframe thead th {\n",
              "        text-align: right;\n",
              "    }\n",
              "</style>\n",
              "<table border=\"1\" class=\"dataframe\">\n",
              "  <thead>\n",
              "    <tr style=\"text-align: right;\">\n",
              "      <th></th>\n",
              "      <th>text</th>\n",
              "      <th>tweet_time</th>\n",
              "      <th>MBTI_Type</th>\n",
              "      <th>label_EorI</th>\n",
              "      <th>label_NorS</th>\n",
              "      <th>label_ForT</th>\n",
              "      <th>label_JorP</th>\n",
              "    </tr>\n",
              "  </thead>\n",
              "  <tbody>\n",
              "    <tr>\n",
              "      <th>0</th>\n",
              "      <td>あけおめなのよ。ことよろなのよ。</td>\n",
              "      <td>2017-12-30 12:02:23+00:00</td>\n",
              "      <td>INTJ</td>\n",
              "      <td>I</td>\n",
              "      <td>N</td>\n",
              "      <td>T</td>\n",
              "      <td>J</td>\n",
              "    </tr>\n",
              "    <tr>\n",
              "      <th>1</th>\n",
              "      <td>CLIP STUDIO TABMATEがコミケで販売されたそうだけど買った方いるのかな！？</td>\n",
              "      <td>2017-12-29 14:01:24+00:00</td>\n",
              "      <td>INTJ</td>\n",
              "      <td>I</td>\n",
              "      <td>N</td>\n",
              "      <td>T</td>\n",
              "      <td>J</td>\n",
              "    </tr>\n",
              "    <tr>\n",
              "      <th>2</th>\n",
              "      <td>中小の劇団のチケットって、安すぎたら箱や演者やスタッフさんのギャラが払えない。かと言って高く...</td>\n",
              "      <td>2017-11-26 06:54:54+00:00</td>\n",
              "      <td>INTJ</td>\n",
              "      <td>I</td>\n",
              "      <td>N</td>\n",
              "      <td>T</td>\n",
              "      <td>J</td>\n",
              "    </tr>\n",
              "    <tr>\n",
              "      <th>3</th>\n",
              "      <td>Vステなら大丈夫だったのになぁ… まぁQちゃんの事だからなんとかなるでしょう。</td>\n",
              "      <td>2017-11-19 16:00:34+00:00</td>\n",
              "      <td>INTJ</td>\n",
              "      <td>I</td>\n",
              "      <td>N</td>\n",
              "      <td>T</td>\n",
              "      <td>J</td>\n",
              "    </tr>\n",
              "    <tr>\n",
              "      <th>4</th>\n",
              "      <td>すげー！！耐えた！！ #鉄腕DASH</td>\n",
              "      <td>2017-11-19 10:32:29+00:00</td>\n",
              "      <td>INTJ</td>\n",
              "      <td>I</td>\n",
              "      <td>N</td>\n",
              "      <td>T</td>\n",
              "      <td>J</td>\n",
              "    </tr>\n",
              "  </tbody>\n",
              "</table>\n",
              "</div>"
            ],
            "text/plain": [
              "                                                text  ... label_JorP\n",
              "0                                   あけおめなのよ。ことよろなのよ。  ...          J\n",
              "1      CLIP STUDIO TABMATEがコミケで販売されたそうだけど買った方いるのかな！？  ...          J\n",
              "2  中小の劇団のチケットって、安すぎたら箱や演者やスタッフさんのギャラが払えない。かと言って高く...  ...          J\n",
              "3            Vステなら大丈夫だったのになぁ… まぁQちゃんの事だからなんとかなるでしょう。  ...          J\n",
              "4                                 すげー！！耐えた！！ #鉄腕DASH  ...          J\n",
              "\n",
              "[5 rows x 7 columns]"
            ]
          },
          "metadata": {},
          "execution_count": 9
        }
      ]
    },
    {
      "cell_type": "markdown",
      "metadata": {
        "id": "MTOKetegJCyU"
      },
      "source": [
        "##2.3. @mention・URLの削除"
      ]
    },
    {
      "cell_type": "code",
      "metadata": {
        "colab": {
          "base_uri": "https://localhost:8080/"
        },
        "id": "SLQnjL3dSTUC",
        "outputId": "a3eb4854-dfa2-4031-d61c-5b3f41ae440f"
      },
      "source": [
        "import re\n",
        "import numpy as np\n",
        "\n",
        "def remove_MENTIONandURL(text):\n",
        "  list_text=re.split(' |\\n', text)\n",
        "  #print(list_text)\n",
        "  len_list=len(list_text)\n",
        "  Nan = np.nan\n",
        "  count_element=0\n",
        "  element_mention=None\n",
        "  element_URL=None\n",
        "  for idx, element in enumerate(list_text):\n",
        "    if re.match(r'(^)(@)[^a-zA-Z0-9_]*', element):\n",
        "      element_mention=element\n",
        "    if element.startswith('https:'):\n",
        "      element_URL=element\n",
        "      \n",
        "  #print(element_mention, element_URL)\n",
        "  if element_mention==None:\n",
        "    pass\n",
        "  else:\n",
        "    list_text.remove(element_mention)\n",
        "  if element_URL==None:\n",
        "    pass\n",
        "  else:\n",
        "    list_text.remove(element_URL)\n",
        "\n",
        "  Z=' '.join(list_text)\n",
        "  \n",
        "  return Z\n",
        "\n",
        "df['text'] = df['text'].map(remove_MENTIONandURL)\n",
        "df.dropna(how='any', axis=0, inplace=True)\n",
        "df['text']"
      ],
      "execution_count": null,
      "outputs": [
        {
          "output_type": "execute_result",
          "data": {
            "text/plain": [
              "0                                          あけおめなのよ。ことよろなのよ。\n",
              "1             CLIP STUDIO TABMATEがコミケで販売されたそうだけど買った方いるのかな！？\n",
              "2         中小の劇団のチケットって、安すぎたら箱や演者やスタッフさんのギャラが払えない。かと言って高く...\n",
              "3                   Vステなら大丈夫だったのになぁ… まぁQちゃんの事だからなんとかなるでしょう。\n",
              "4                                        すげー！！耐えた！！ #鉄腕DASH\n",
              "                                ...                        \n",
              "242878                   肩と背中が痛いと言ったらうちの子に肩たたきをしてもらった  ほっこり\n",
              "242879      もう無理なんでそんな元気なんこれから仕事行って第2ラウンドカラオケとかもうどうなってるんその体\n",
              "242880                        こんな時間から声なんて出ないよあほむすめぇぇぇぇ ｹﾞﾎｯ\n",
              "242881    コンタクトどこ行った？ →私「まさか捨てた？」 →捨ててたわ  ていうかマンガみたいな会話を...\n",
              "242882    お薬スープ200、角煮100、お寿司100、 ……仕込みが終わった。これでせめて１日位もってくれ。\n",
              "Name: text, Length: 242870, dtype: object"
            ]
          },
          "metadata": {},
          "execution_count": 10
        }
      ]
    },
    {
      "cell_type": "code",
      "metadata": {
        "colab": {
          "base_uri": "https://localhost:8080/",
          "height": 285
        },
        "id": "2UKLdNii03gl",
        "outputId": "e6c65411-1c89-4c23-a59c-149c481a8a4b"
      },
      "source": [
        "df_v3 = df\n",
        "#df_v3=df.sample(n=100)\n",
        "df_v3[['text', 'tweet_time', 'conversation_id','MBTI_Type']].head(5)"
      ],
      "execution_count": null,
      "outputs": [
        {
          "output_type": "execute_result",
          "data": {
            "text/html": [
              "<div>\n",
              "<style scoped>\n",
              "    .dataframe tbody tr th:only-of-type {\n",
              "        vertical-align: middle;\n",
              "    }\n",
              "\n",
              "    .dataframe tbody tr th {\n",
              "        vertical-align: top;\n",
              "    }\n",
              "\n",
              "    .dataframe thead th {\n",
              "        text-align: right;\n",
              "    }\n",
              "</style>\n",
              "<table border=\"1\" class=\"dataframe\">\n",
              "  <thead>\n",
              "    <tr style=\"text-align: right;\">\n",
              "      <th></th>\n",
              "      <th>text</th>\n",
              "      <th>tweet_time</th>\n",
              "      <th>conversation_id</th>\n",
              "      <th>MBTI_Type</th>\n",
              "    </tr>\n",
              "  </thead>\n",
              "  <tbody>\n",
              "    <tr>\n",
              "      <th>0</th>\n",
              "      <td>あけおめなのよ。ことよろなのよ。</td>\n",
              "      <td>2017-12-30 12:02:23+00:00</td>\n",
              "      <td>9.470752e+17</td>\n",
              "      <td>INTJ</td>\n",
              "    </tr>\n",
              "    <tr>\n",
              "      <th>1</th>\n",
              "      <td>CLIP STUDIO TABMATEがコミケで販売されたそうだけど買った方いるのかな！？</td>\n",
              "      <td>2017-12-29 14:01:24+00:00</td>\n",
              "      <td>9.467430e+17</td>\n",
              "      <td>INTJ</td>\n",
              "    </tr>\n",
              "    <tr>\n",
              "      <th>2</th>\n",
              "      <td>中小の劇団のチケットって、安すぎたら箱や演者やスタッフさんのギャラが払えない。かと言って高く...</td>\n",
              "      <td>2017-11-26 06:54:54+00:00</td>\n",
              "      <td>9.346768e+17</td>\n",
              "      <td>INTJ</td>\n",
              "    </tr>\n",
              "    <tr>\n",
              "      <th>3</th>\n",
              "      <td>Vステなら大丈夫だったのになぁ… まぁQちゃんの事だからなんとかなるでしょう。</td>\n",
              "      <td>2017-11-19 16:00:34+00:00</td>\n",
              "      <td>9.322774e+17</td>\n",
              "      <td>INTJ</td>\n",
              "    </tr>\n",
              "    <tr>\n",
              "      <th>4</th>\n",
              "      <td>すげー！！耐えた！！ #鉄腕DASH</td>\n",
              "      <td>2017-11-19 10:32:29+00:00</td>\n",
              "      <td>9.321949e+17</td>\n",
              "      <td>INTJ</td>\n",
              "    </tr>\n",
              "  </tbody>\n",
              "</table>\n",
              "</div>"
            ],
            "text/plain": [
              "                                                text  ... MBTI_Type\n",
              "0                                   あけおめなのよ。ことよろなのよ。  ...      INTJ\n",
              "1      CLIP STUDIO TABMATEがコミケで販売されたそうだけど買った方いるのかな！？  ...      INTJ\n",
              "2  中小の劇団のチケットって、安すぎたら箱や演者やスタッフさんのギャラが払えない。かと言って高く...  ...      INTJ\n",
              "3            Vステなら大丈夫だったのになぁ… まぁQちゃんの事だからなんとかなるでしょう。  ...      INTJ\n",
              "4                                 すげー！！耐えた！！ #鉄腕DASH  ...      INTJ\n",
              "\n",
              "[5 rows x 4 columns]"
            ]
          },
          "metadata": {},
          "execution_count": 11
        }
      ]
    },
    {
      "cell_type": "code",
      "metadata": {
        "colab": {
          "base_uri": "https://localhost:8080/"
        },
        "id": "9w43PETgHXZw",
        "outputId": "9ae36a7e-aedb-4b27-8a64-ffc18d5f2a4a"
      },
      "source": [
        "!pip install janome"
      ],
      "execution_count": null,
      "outputs": [
        {
          "output_type": "stream",
          "name": "stdout",
          "text": [
            "Collecting janome\n",
            "  Downloading Janome-0.4.1-py2.py3-none-any.whl (19.7 MB)\n",
            "\u001b[K     |████████████████████████████████| 19.7 MB 6.4 MB/s \n",
            "\u001b[?25hInstalling collected packages: janome\n",
            "Successfully installed janome-0.4.1\n"
          ]
        }
      ]
    },
    {
      "cell_type": "code",
      "metadata": {
        "id": "MzymQ2zkFW7q",
        "colab": {
          "base_uri": "https://localhost:8080/"
        },
        "outputId": "f48b3dcc-f3c9-46b4-ded6-df0945f42d25"
      },
      "source": [
        "from janome.tokenizer import Tokenizer\n",
        "import collections\n",
        "from tqdm.notebook import tqdm\n",
        "\n",
        "import re\n",
        "import numpy as np\n",
        "\n",
        "t = Tokenizer()\n",
        "\n",
        "def remove_ShortText(text):\n",
        "    one_tweet = \"\".join(text) #\"\\n\".join(text)\n",
        "    # print(\"----------------------------------------\")\n",
        "    # print(one_tweet)\n",
        "    # print('↓')\n",
        "\n",
        "    Nan = np.nan\n",
        "    if len(list(t.tokenize(one_tweet)))> 19:\n",
        "        #print(\"長い : \", one_tweet)\n",
        "        #pass\n",
        "        return one_tweet\n",
        "    else:\n",
        "        #print(\"短い : \", one_tweet)\n",
        "        return None\n",
        "\n",
        "# remove_ShortText(text)\n",
        "# print()\n",
        "#QQQ= df_v3['text'][1:100].map(remove_ShortText)\n",
        "df_v3['text'] = df_v3['text'][:].map(remove_ShortText)\n",
        "df_v3.dropna(how='any', axis=0, inplace=True)\n",
        "df_v3['text']"
      ],
      "execution_count": null,
      "outputs": [
        {
          "output_type": "execute_result",
          "data": {
            "text/plain": [
              "1             CLIP STUDIO TABMATEがコミケで販売されたそうだけど買った方いるのかな！？\n",
              "2         中小の劇団のチケットって、安すぎたら箱や演者やスタッフさんのギャラが払えない。かと言って高く...\n",
              "3                   Vステなら大丈夫だったのになぁ… まぁQちゃんの事だからなんとかなるでしょう。\n",
              "13        こんなにカッコよくキメてたのに…#buzzup BOOSTER - KEN THE 390,...\n",
              "17        ブーメランパンツはあなたの息子と一緒にクリスマスの一夜を過ごします。可愛がってくださいね。 ...\n",
              "                                ...                        \n",
              "242877    ずっと思ってたんだけど、  紅蓮でスキル一新されたのは良いけど、旧コンテンツで使ってたスキル...\n",
              "242878                   肩と背中が痛いと言ったらうちの子に肩たたきをしてもらった  ほっこり\n",
              "242879      もう無理なんでそんな元気なんこれから仕事行って第2ラウンドカラオケとかもうどうなってるんその体\n",
              "242881    コンタクトどこ行った？ →私「まさか捨てた？」 →捨ててたわ  ていうかマンガみたいな会話を...\n",
              "242882    お薬スープ200、角煮100、お寿司100、 ……仕込みが終わった。これでせめて１日位もってくれ。\n",
              "Name: text, Length: 133350, dtype: object"
            ]
          },
          "metadata": {},
          "execution_count": 13
        }
      ]
    },
    {
      "cell_type": "code",
      "metadata": {
        "id": "A_PIuPyiHjEe",
        "colab": {
          "base_uri": "https://localhost:8080/"
        },
        "outputId": "7f753d51-5cb7-4b6f-a636-55a30eca0302"
      },
      "source": [
        "df_v3['text'].head(5)"
      ],
      "execution_count": null,
      "outputs": [
        {
          "output_type": "execute_result",
          "data": {
            "text/plain": [
              "1         CLIP STUDIO TABMATEがコミケで販売されたそうだけど買った方いるのかな！？\n",
              "2     中小の劇団のチケットって、安すぎたら箱や演者やスタッフさんのギャラが払えない。かと言って高く...\n",
              "3               Vステなら大丈夫だったのになぁ… まぁQちゃんの事だからなんとかなるでしょう。\n",
              "13    こんなにカッコよくキメてたのに…#buzzup BOOSTER - KEN THE 390,...\n",
              "17    ブーメランパンツはあなたの息子と一緒にクリスマスの一夜を過ごします。可愛がってくださいね。 ...\n",
              "Name: text, dtype: object"
            ]
          },
          "metadata": {},
          "execution_count": 14
        }
      ]
    },
    {
      "cell_type": "markdown",
      "metadata": {
        "id": "BaFpdaKIJX--"
      },
      "source": [
        "#3. データの保存"
      ]
    },
    {
      "cell_type": "markdown",
      "metadata": {
        "id": "O2WTRGk8JwGk"
      },
      "source": [
        "##3.1. 手法4までで作成した投稿を更新"
      ]
    },
    {
      "cell_type": "code",
      "metadata": {
        "colab": {
          "base_uri": "https://localhost:8080/"
        },
        "id": "PoWjqZIGXLHY",
        "outputId": "b79ab63a-34d5-434e-cb89-505af2304ffb"
      },
      "source": [
        "df_all=df_v3\n",
        "print(f'データサイズ： {df_all.shape}')\n",
        "\n",
        "FileName=pull_Datetime()\n",
        "df_all.to_csv('./Assets/Assets_Output/Tweet_Datasets/v6S7_all_%s_U20R50000.csv' % FileName)\n",
        "print('./Assets/Assets_Output/Tweet_Datasets/v6S5_all_%s_U20R50000.csv' % FileName)"
      ],
      "execution_count": null,
      "outputs": [
        {
          "output_type": "stream",
          "name": "stdout",
          "text": [
            "データサイズ： (133350, 13)\n",
            "./Assets/Assets_Output/Tweet_Datasets/v6S5_all_2021-11-09_U20R50000.csv\n"
          ]
        }
      ]
    },
    {
      "cell_type": "markdown",
      "metadata": {
        "id": "BfkmBc_PHJO_"
      },
      "source": [
        "##3.2. データセットS3の作成"
      ]
    },
    {
      "cell_type": "code",
      "metadata": {
        "id": "uUgUVfrpXDvi"
      },
      "source": [
        "import random\n",
        " #データの抽出\n",
        "df_S=df_all.sample(n=10000)"
      ],
      "execution_count": null,
      "outputs": []
    },
    {
      "cell_type": "code",
      "metadata": {
        "id": "9h-t2ZDKDu3b",
        "colab": {
          "base_uri": "https://localhost:8080/"
        },
        "outputId": "7ad26b3c-50b1-4501-8eaa-413bc33b1d52"
      },
      "source": [
        "FileName=pull_Datetime()\n",
        "df_S.to_csv('./Assets/Assets_Output/Tweet_Datasets/v6S7_forBERT_%s_U20R50000.csv' % FileName)\n",
        "print('./Assets/Assets_Output/Tweet_Datasets/v6S7_forBERT_%s_U20R50000.csv' % FileName)"
      ],
      "execution_count": null,
      "outputs": [
        {
          "output_type": "stream",
          "name": "stdout",
          "text": [
            "./Assets/Assets_Output/Tweet_Datasets/v6S7_forBERT_2021-11-09_U20R10000.csv\n"
          ]
        }
      ]
    },
    {
      "cell_type": "markdown",
      "metadata": {
        "id": "YsrUCO-iKB7E"
      },
      "source": [
        "##3.3. 記録用に各指標のユーザー数を表示"
      ]
    },
    {
      "cell_type": "code",
      "metadata": {
        "id": "jMNuZU7RJQb0",
        "colab": {
          "base_uri": "https://localhost:8080/"
        },
        "outputId": "60e6871c-6454-4d37-f15f-ea2ea747404e"
      },
      "source": [
        "def num_Type_Index(element):\n",
        "  num_Users_Type=df_S.groupby(['%s' % element])\n",
        "  num_Users_Type.groups\n",
        "  num_Users_Type.size()\n",
        "\n",
        "  print(num_Users_Type.size())\n",
        "  print()\n",
        "\n",
        "for element in [\"label_EorI\", \"label_NorS\", \"label_ForT\", \"label_JorP\"] :\n",
        "  num_Type_Index(element)"
      ],
      "execution_count": null,
      "outputs": [
        {
          "output_type": "stream",
          "name": "stdout",
          "text": [
            "label_EorI\n",
            "E    1552\n",
            "I    8448\n",
            "dtype: int64\n",
            "\n",
            "label_NorS\n",
            "N    5815\n",
            "S    4185\n",
            "dtype: int64\n",
            "\n",
            "label_ForT\n",
            "F    6766\n",
            "T    3234\n",
            "dtype: int64\n",
            "\n",
            "label_JorP\n",
            "J    3538\n",
            "P    6462\n",
            "dtype: int64\n",
            "\n"
          ]
        }
      ]
    },
    {
      "cell_type": "markdown",
      "metadata": {
        "id": "nAimVY9mNECW"
      },
      "source": [
        "#Option 最大単語数の計算"
      ]
    },
    {
      "cell_type": "code",
      "metadata": {
        "id": "FRGWwwCDOzRy"
      },
      "source": [
        "!pip install transformers\n",
        "\n",
        "!pip install fugashi\n",
        "!pip install ipadic"
      ],
      "execution_count": null,
      "outputs": []
    },
    {
      "cell_type": "code",
      "metadata": {
        "id": "m_kHyljMO3_T"
      },
      "source": [
        "## Tokenizerの準備\n",
        "from transformers import BertJapaneseTokenizer\n",
        "tokenizer = BertJapaneseTokenizer.from_pretrained('cl-tohoku/bert-base-japanese-whole-word-masking')"
      ],
      "execution_count": null,
      "outputs": []
    },
    {
      "cell_type": "code",
      "metadata": {
        "id": "hh23o-DSNDOg"
      },
      "source": [
        "from tqdm.notebook import tqdm\n",
        "import numpy as np\n",
        "\n",
        "def num_max_words(TYPE_INDEX):\n",
        "  sentences= df_S['text'].values #sentences = df.sentence.values\n",
        "  labels= df_S['%s' % TYPE_INDEX].values #labels = df.label.values\n",
        "\n",
        "  # 最大単語数の確認\n",
        "  max_len = []\n",
        "  # 1文づつ処理\n",
        "  len_sentences = len(sentences)\n",
        "  for sent in tqdm(sentences):\n",
        "      # Tokenizeで分割\n",
        "      token_words = tokenizer.tokenize(sent)\n",
        "      # 文章数を取得してリストへ格納\n",
        "      max_len.append(len(token_words))\n",
        "  # 最大の値を確認\n",
        "  len_max=max(max_len)\n",
        "  #len_q0, len_q25, len_q50, len_q75, len_q100=np.percentile(max_len,  [0, 25, 50, 75, 100])\n",
        "  #len_q75=int(len_q75)\n",
        "  print('最大単語数: ', max(max_len))\n",
        "\n",
        "for element in [\"label_EorI\", \"label_NorS\", \"label_ForT\", \"label_JorP\"] :\n",
        "  num_max_words(element)"
      ],
      "execution_count": null,
      "outputs": []
    }
  ]
}