{
  "nbformat": 4,
  "nbformat_minor": 0,
  "metadata": {
    "colab": {
      "name": "4B_データの統合_全て.ipynb",
      "provenance": [],
      "mount_file_id": "1csl45gx3agpNycF8Aeg3OyP8ponq4Il_",
      "authorship_tag": "ABX9TyOtg2+VWwvvJvMl9TmZLLj4",
      "include_colab_link": true
    },
    "kernelspec": {
      "name": "python3",
      "display_name": "Python 3"
    },
    "language_info": {
      "name": "python"
    },
    "widgets": {
      "application/vnd.jupyter.widget-state+json": {
        "ea29a833c0cb4ebb8e39b6fd7c9e557a": {
          "model_module": "@jupyter-widgets/controls",
          "model_name": "HBoxModel",
          "model_module_version": "1.5.0",
          "state": {
            "_view_name": "HBoxView",
            "_dom_classes": [],
            "_model_name": "HBoxModel",
            "_view_module": "@jupyter-widgets/controls",
            "_model_module_version": "1.5.0",
            "_view_count": null,
            "_view_module_version": "1.5.0",
            "box_style": "",
            "layout": "IPY_MODEL_0c5eb4512b2e4ac082d7136df4a90820",
            "_model_module": "@jupyter-widgets/controls",
            "children": [
              "IPY_MODEL_4bc58760e02e4dcaa9472e5b232e592e",
              "IPY_MODEL_5075009212a34544b69b72b88dda557f",
              "IPY_MODEL_78709ed03fb6477e8d3b7f5808c58887"
            ]
          }
        },
        "0c5eb4512b2e4ac082d7136df4a90820": {
          "model_module": "@jupyter-widgets/base",
          "model_name": "LayoutModel",
          "model_module_version": "1.2.0",
          "state": {
            "_view_name": "LayoutView",
            "grid_template_rows": null,
            "right": null,
            "justify_content": null,
            "_view_module": "@jupyter-widgets/base",
            "overflow": null,
            "_model_module_version": "1.2.0",
            "_view_count": null,
            "flex_flow": null,
            "width": null,
            "min_width": null,
            "border": null,
            "align_items": null,
            "bottom": null,
            "_model_module": "@jupyter-widgets/base",
            "top": null,
            "grid_column": null,
            "overflow_y": null,
            "overflow_x": null,
            "grid_auto_flow": null,
            "grid_area": null,
            "grid_template_columns": null,
            "flex": null,
            "_model_name": "LayoutModel",
            "justify_items": null,
            "grid_row": null,
            "max_height": null,
            "align_content": null,
            "visibility": null,
            "align_self": null,
            "height": null,
            "min_height": null,
            "padding": null,
            "grid_auto_rows": null,
            "grid_gap": null,
            "max_width": null,
            "order": null,
            "_view_module_version": "1.2.0",
            "grid_template_areas": null,
            "object_position": null,
            "object_fit": null,
            "grid_auto_columns": null,
            "margin": null,
            "display": null,
            "left": null
          }
        },
        "4bc58760e02e4dcaa9472e5b232e592e": {
          "model_module": "@jupyter-widgets/controls",
          "model_name": "HTMLModel",
          "model_module_version": "1.5.0",
          "state": {
            "_view_name": "HTMLView",
            "style": "IPY_MODEL_248bcb2dbaad4c329b1149fe5fbb0ca3",
            "_dom_classes": [],
            "description": "",
            "_model_name": "HTMLModel",
            "placeholder": "​",
            "_view_module": "@jupyter-widgets/controls",
            "_model_module_version": "1.5.0",
            "value": "100%",
            "_view_count": null,
            "_view_module_version": "1.5.0",
            "description_tooltip": null,
            "_model_module": "@jupyter-widgets/controls",
            "layout": "IPY_MODEL_854c341e49aa4b9ca3fdfcba736f550a"
          }
        },
        "5075009212a34544b69b72b88dda557f": {
          "model_module": "@jupyter-widgets/controls",
          "model_name": "FloatProgressModel",
          "model_module_version": "1.5.0",
          "state": {
            "_view_name": "ProgressView",
            "style": "IPY_MODEL_b3dd50358300459d8229db14f06418d9",
            "_dom_classes": [],
            "description": "",
            "_model_name": "FloatProgressModel",
            "bar_style": "success",
            "max": 16,
            "_view_module": "@jupyter-widgets/controls",
            "_model_module_version": "1.5.0",
            "value": 16,
            "_view_count": null,
            "_view_module_version": "1.5.0",
            "orientation": "horizontal",
            "min": 0,
            "description_tooltip": null,
            "_model_module": "@jupyter-widgets/controls",
            "layout": "IPY_MODEL_ebb766e5bac34a478e1ae7d0ad0f231f"
          }
        },
        "78709ed03fb6477e8d3b7f5808c58887": {
          "model_module": "@jupyter-widgets/controls",
          "model_name": "HTMLModel",
          "model_module_version": "1.5.0",
          "state": {
            "_view_name": "HTMLView",
            "style": "IPY_MODEL_4c89998231064449a867af5ff8dbc02e",
            "_dom_classes": [],
            "description": "",
            "_model_name": "HTMLModel",
            "placeholder": "​",
            "_view_module": "@jupyter-widgets/controls",
            "_model_module_version": "1.5.0",
            "value": " 16/16 [00:13&lt;00:00,  1.17it/s]",
            "_view_count": null,
            "_view_module_version": "1.5.0",
            "description_tooltip": null,
            "_model_module": "@jupyter-widgets/controls",
            "layout": "IPY_MODEL_759ccd50bdae4aa2ab39b53163375665"
          }
        },
        "248bcb2dbaad4c329b1149fe5fbb0ca3": {
          "model_module": "@jupyter-widgets/controls",
          "model_name": "DescriptionStyleModel",
          "model_module_version": "1.5.0",
          "state": {
            "_view_name": "StyleView",
            "_model_name": "DescriptionStyleModel",
            "description_width": "",
            "_view_module": "@jupyter-widgets/base",
            "_model_module_version": "1.5.0",
            "_view_count": null,
            "_view_module_version": "1.2.0",
            "_model_module": "@jupyter-widgets/controls"
          }
        },
        "854c341e49aa4b9ca3fdfcba736f550a": {
          "model_module": "@jupyter-widgets/base",
          "model_name": "LayoutModel",
          "model_module_version": "1.2.0",
          "state": {
            "_view_name": "LayoutView",
            "grid_template_rows": null,
            "right": null,
            "justify_content": null,
            "_view_module": "@jupyter-widgets/base",
            "overflow": null,
            "_model_module_version": "1.2.0",
            "_view_count": null,
            "flex_flow": null,
            "width": null,
            "min_width": null,
            "border": null,
            "align_items": null,
            "bottom": null,
            "_model_module": "@jupyter-widgets/base",
            "top": null,
            "grid_column": null,
            "overflow_y": null,
            "overflow_x": null,
            "grid_auto_flow": null,
            "grid_area": null,
            "grid_template_columns": null,
            "flex": null,
            "_model_name": "LayoutModel",
            "justify_items": null,
            "grid_row": null,
            "max_height": null,
            "align_content": null,
            "visibility": null,
            "align_self": null,
            "height": null,
            "min_height": null,
            "padding": null,
            "grid_auto_rows": null,
            "grid_gap": null,
            "max_width": null,
            "order": null,
            "_view_module_version": "1.2.0",
            "grid_template_areas": null,
            "object_position": null,
            "object_fit": null,
            "grid_auto_columns": null,
            "margin": null,
            "display": null,
            "left": null
          }
        },
        "b3dd50358300459d8229db14f06418d9": {
          "model_module": "@jupyter-widgets/controls",
          "model_name": "ProgressStyleModel",
          "model_module_version": "1.5.0",
          "state": {
            "_view_name": "StyleView",
            "_model_name": "ProgressStyleModel",
            "description_width": "",
            "_view_module": "@jupyter-widgets/base",
            "_model_module_version": "1.5.0",
            "_view_count": null,
            "_view_module_version": "1.2.0",
            "bar_color": null,
            "_model_module": "@jupyter-widgets/controls"
          }
        },
        "ebb766e5bac34a478e1ae7d0ad0f231f": {
          "model_module": "@jupyter-widgets/base",
          "model_name": "LayoutModel",
          "model_module_version": "1.2.0",
          "state": {
            "_view_name": "LayoutView",
            "grid_template_rows": null,
            "right": null,
            "justify_content": null,
            "_view_module": "@jupyter-widgets/base",
            "overflow": null,
            "_model_module_version": "1.2.0",
            "_view_count": null,
            "flex_flow": null,
            "width": null,
            "min_width": null,
            "border": null,
            "align_items": null,
            "bottom": null,
            "_model_module": "@jupyter-widgets/base",
            "top": null,
            "grid_column": null,
            "overflow_y": null,
            "overflow_x": null,
            "grid_auto_flow": null,
            "grid_area": null,
            "grid_template_columns": null,
            "flex": null,
            "_model_name": "LayoutModel",
            "justify_items": null,
            "grid_row": null,
            "max_height": null,
            "align_content": null,
            "visibility": null,
            "align_self": null,
            "height": null,
            "min_height": null,
            "padding": null,
            "grid_auto_rows": null,
            "grid_gap": null,
            "max_width": null,
            "order": null,
            "_view_module_version": "1.2.0",
            "grid_template_areas": null,
            "object_position": null,
            "object_fit": null,
            "grid_auto_columns": null,
            "margin": null,
            "display": null,
            "left": null
          }
        },
        "4c89998231064449a867af5ff8dbc02e": {
          "model_module": "@jupyter-widgets/controls",
          "model_name": "DescriptionStyleModel",
          "model_module_version": "1.5.0",
          "state": {
            "_view_name": "StyleView",
            "_model_name": "DescriptionStyleModel",
            "description_width": "",
            "_view_module": "@jupyter-widgets/base",
            "_model_module_version": "1.5.0",
            "_view_count": null,
            "_view_module_version": "1.2.0",
            "_model_module": "@jupyter-widgets/controls"
          }
        },
        "759ccd50bdae4aa2ab39b53163375665": {
          "model_module": "@jupyter-widgets/base",
          "model_name": "LayoutModel",
          "model_module_version": "1.2.0",
          "state": {
            "_view_name": "LayoutView",
            "grid_template_rows": null,
            "right": null,
            "justify_content": null,
            "_view_module": "@jupyter-widgets/base",
            "overflow": null,
            "_model_module_version": "1.2.0",
            "_view_count": null,
            "flex_flow": null,
            "width": null,
            "min_width": null,
            "border": null,
            "align_items": null,
            "bottom": null,
            "_model_module": "@jupyter-widgets/base",
            "top": null,
            "grid_column": null,
            "overflow_y": null,
            "overflow_x": null,
            "grid_auto_flow": null,
            "grid_area": null,
            "grid_template_columns": null,
            "flex": null,
            "_model_name": "LayoutModel",
            "justify_items": null,
            "grid_row": null,
            "max_height": null,
            "align_content": null,
            "visibility": null,
            "align_self": null,
            "height": null,
            "min_height": null,
            "padding": null,
            "grid_auto_rows": null,
            "grid_gap": null,
            "max_width": null,
            "order": null,
            "_view_module_version": "1.2.0",
            "grid_template_areas": null,
            "object_position": null,
            "object_fit": null,
            "grid_auto_columns": null,
            "margin": null,
            "display": null,
            "left": null
          }
        }
      }
    }
  },
  "cells": [
    {
      "cell_type": "markdown",
      "metadata": {
        "id": "view-in-github",
        "colab_type": "text"
      },
      "source": [
        "<a href=\"https://colab.research.google.com/github/sj0054pe/MBTI_Estim/blob/master/src/4B_%E3%83%87%E3%83%BC%E3%82%BF%E3%81%AE%E7%B5%B1%E5%90%88_%E5%85%A8%E3%81%A6.ipynb\" target=\"_parent\"><img src=\"https://colab.research.google.com/assets/colab-badge.svg\" alt=\"Open In Colab\"/></a>"
      ]
    },
    {
      "cell_type": "markdown",
      "metadata": {
        "id": "f1D66xEm0LB3"
      },
      "source": [
        "#<center>全て (タイプごとの投稿も) を統合 </center>"
      ]
    },
    {
      "cell_type": "markdown",
      "metadata": {
        "id": "0TNmTJOqA9qQ"
      },
      "source": [
        "#0. 作業環境の準備"
      ]
    },
    {
      "cell_type": "markdown",
      "metadata": {
        "id": "lJpCE1kQBAff"
      },
      "source": [
        "##0.1. Google Driveをマウント"
      ]
    },
    {
      "cell_type": "code",
      "metadata": {
        "id": "q6rJGn2l0GhK"
      },
      "source": [
        ""
      ],
      "execution_count": null,
      "outputs": []
    },
    {
      "cell_type": "markdown",
      "metadata": {
        "id": "yxEmVMwyBDkA"
      },
      "source": [
        "##0.2. カレントディレクトリへ移動"
      ]
    },
    {
      "cell_type": "code",
      "metadata": {
        "id": "-8rrANji0Z2B",
        "colab": {
          "base_uri": "https://localhost:8080/"
        },
        "outputId": "d36b89b2-0f29-45a5-8f29-f0f926fea18a"
      },
      "source": [
        "%cd /content/drive/MyDrive/研究室/研究_M2/src"
      ],
      "execution_count": 1,
      "outputs": [
        {
          "output_type": "stream",
          "name": "stdout",
          "text": [
            "/content/drive/MyDrive/研究室/研究_M2/src\n"
          ]
        }
      ]
    },
    {
      "cell_type": "markdown",
      "metadata": {
        "id": "GIJzTskSBG6D"
      },
      "source": [
        "#1. 16個の性格をリスト化・辞書化する。"
      ]
    },
    {
      "cell_type": "code",
      "metadata": {
        "colab": {
          "base_uri": "https://localhost:8080/"
        },
        "id": "2OzPM68_0eHY",
        "outputId": "7218b65e-9964-4bd1-c36d-7bd5e61db1be"
      },
      "source": [
        "keys = ['建築家', '論理学者', '指揮官', '討論者', '提唱者', '仲介者', '主人公', '広報運動家', '管理者', '擁護者', '幹部', '領事官', '巨匠', '冒険家', '起業家', 'エンターテイナー']\n",
        "values = ['INTJ', 'INTP', 'ENTJ', 'ENTP', 'INFJ', 'INFP', 'ENFJ', 'ENFP', 'ISTJ', 'ISFJ', 'ESTJ', 'ESFJ', 'ISTP', 'ISFP', 'ESTP', 'ESFP']\n",
        "\n",
        "dic = {key: val for key, val in zip(keys, values)}\n",
        "\n",
        "print(dic)\n",
        "\n",
        "dict_MBTIType=dic\n",
        "list_MBTItype=values"
      ],
      "execution_count": 2,
      "outputs": [
        {
          "output_type": "stream",
          "name": "stdout",
          "text": [
            "{'建築家': 'INTJ', '論理学者': 'INTP', '指揮官': 'ENTJ', '討論者': 'ENTP', '提唱者': 'INFJ', '仲介者': 'INFP', '主人公': 'ENFJ', '広報運動家': 'ENFP', '管理者': 'ISTJ', '擁護者': 'ISFJ', '幹部': 'ESTJ', '領事官': 'ESFJ', '巨匠': 'ISTP', '冒険家': 'ISFP', '起業家': 'ESTP', 'エンターテイナー': 'ESFP'}\n"
          ]
        }
      ]
    },
    {
      "cell_type": "markdown",
      "metadata": {
        "id": "XNaRnBMqBaF9"
      },
      "source": [
        "#2. 全てのデータを統合する。"
      ]
    },
    {
      "cell_type": "code",
      "metadata": {
        "colab": {
          "base_uri": "https://localhost:8080/",
          "height": 86,
          "referenced_widgets": [
            "ea29a833c0cb4ebb8e39b6fd7c9e557a",
            "0c5eb4512b2e4ac082d7136df4a90820",
            "4bc58760e02e4dcaa9472e5b232e592e",
            "5075009212a34544b69b72b88dda557f",
            "78709ed03fb6477e8d3b7f5808c58887",
            "248bcb2dbaad4c329b1149fe5fbb0ca3",
            "854c341e49aa4b9ca3fdfcba736f550a",
            "b3dd50358300459d8229db14f06418d9",
            "ebb766e5bac34a478e1ae7d0ad0f231f",
            "4c89998231064449a867af5ff8dbc02e",
            "759ccd50bdae4aa2ab39b53163375665"
          ]
        },
        "id": "AfzGsKfH0gr0",
        "outputId": "ce0bedb4-2046-4db5-a4a3-7f6d5e580bde"
      },
      "source": [
        "import glob\n",
        "import pandas as pd\n",
        "from tqdm.notebook import tqdm \n",
        "\n",
        "list_csv=glob.glob('/content/drive/MyDrive/研究室/研究_M2/src/Assets/Assets_Output/Tweet_Datasets/v3_*.csv' )\n",
        "#list_csv=glob.glob('/content/drive/MyDrive/研究室/研究_M2/src/Assets/Assets_Output/Tweet_Datasets/v3_%s.csv' % element_type)\n",
        "print(list_csv)\n",
        "df_all=None\n",
        "for element_fileName in tqdm(list_csv):\n",
        "  df_type = pd.read_csv('%s' % element_fileName, engine='python')\n",
        "  df_all = pd.concat([df_all, df_type], axis=0)\n",
        "df_all.to_csv('/content/drive/MyDrive/研究室/研究_M2/src/Assets/Assets_Output/Tweet_Datasets/v5_forBERT.csv')"
      ],
      "execution_count": null,
      "outputs": [
        {
          "output_type": "stream",
          "name": "stdout",
          "text": [
            "['/content/drive/MyDrive/研究室/研究_M2/src/Assets/Assets_Output/Tweet_Datasets/v3_INTJ.csv', '/content/drive/MyDrive/研究室/研究_M2/src/Assets/Assets_Output/Tweet_Datasets/v3_INTP.csv', '/content/drive/MyDrive/研究室/研究_M2/src/Assets/Assets_Output/Tweet_Datasets/v3_ENTJ.csv', '/content/drive/MyDrive/研究室/研究_M2/src/Assets/Assets_Output/Tweet_Datasets/v3_ENTP.csv', '/content/drive/MyDrive/研究室/研究_M2/src/Assets/Assets_Output/Tweet_Datasets/v3_INFJ.csv', '/content/drive/MyDrive/研究室/研究_M2/src/Assets/Assets_Output/Tweet_Datasets/v3_INFP.csv', '/content/drive/MyDrive/研究室/研究_M2/src/Assets/Assets_Output/Tweet_Datasets/v3_ENFJ.csv', '/content/drive/MyDrive/研究室/研究_M2/src/Assets/Assets_Output/Tweet_Datasets/v3_ENFP.csv', '/content/drive/MyDrive/研究室/研究_M2/src/Assets/Assets_Output/Tweet_Datasets/v3_ISTJ.csv', '/content/drive/MyDrive/研究室/研究_M2/src/Assets/Assets_Output/Tweet_Datasets/v3_ISFJ.csv', '/content/drive/MyDrive/研究室/研究_M2/src/Assets/Assets_Output/Tweet_Datasets/v3_ESTJ.csv', '/content/drive/MyDrive/研究室/研究_M2/src/Assets/Assets_Output/Tweet_Datasets/v3_ESFJ.csv', '/content/drive/MyDrive/研究室/研究_M2/src/Assets/Assets_Output/Tweet_Datasets/v3_ISTP.csv', '/content/drive/MyDrive/研究室/研究_M2/src/Assets/Assets_Output/Tweet_Datasets/v3_ISFP.csv', '/content/drive/MyDrive/研究室/研究_M2/src/Assets/Assets_Output/Tweet_Datasets/v3_ESTP.csv', '/content/drive/MyDrive/研究室/研究_M2/src/Assets/Assets_Output/Tweet_Datasets/v3_ESFP.csv']\n"
          ]
        },
        {
          "output_type": "display_data",
          "data": {
            "application/vnd.jupyter.widget-view+json": {
              "model_id": "ea29a833c0cb4ebb8e39b6fd7c9e557a",
              "version_minor": 0,
              "version_major": 2
            },
            "text/plain": [
              "  0%|          | 0/16 [00:00<?, ?it/s]"
            ]
          },
          "metadata": {}
        }
      ]
    },
    {
      "cell_type": "markdown",
      "metadata": {
        "id": "9hQaKQkqC11f"
      },
      "source": [
        "#3. 完成したデータの表示 \n",
        "\n",
        "個人が特定できるtweet_id, conversation_idは伏せてます。"
      ]
    },
    {
      "cell_type": "code",
      "metadata": {
        "id": "ZclTmq0F15RJ"
      },
      "source": [
        "import pandas as pd\n",
        "df_all=pd.read_csv('/content/drive/MyDrive/研究室/研究_M2/src/Assets/Assets_Output/Tweet_Datasets/v5_forBERT.csv')"
      ],
      "execution_count": 10,
      "outputs": []
    },
    {
      "cell_type": "code",
      "metadata": {
        "colab": {
          "base_uri": "https://localhost:8080/",
          "height": 323
        },
        "id": "JdK9b-w9B7RW",
        "outputId": "95441a44-4aed-4f1c-f938-5c6910b27cc1"
      },
      "source": [
        "#df_all[['text', 'tweet_id', 'tweet_time', 'lang', 'MBTI_Type', 'label_EorI', 'label_NorS', 'label_ForT', 'label_ForT']]\n",
        "df_all[['text', 'MBTI_Type', 'label_EorI', 'label_NorS', 'label_ForT', 'label_ForT']].head()"
      ],
      "execution_count": 12,
      "outputs": [
        {
          "output_type": "execute_result",
          "data": {
            "text/html": [
              "<div>\n",
              "<style scoped>\n",
              "    .dataframe tbody tr th:only-of-type {\n",
              "        vertical-align: middle;\n",
              "    }\n",
              "\n",
              "    .dataframe tbody tr th {\n",
              "        vertical-align: top;\n",
              "    }\n",
              "\n",
              "    .dataframe thead th {\n",
              "        text-align: right;\n",
              "    }\n",
              "</style>\n",
              "<table border=\"1\" class=\"dataframe\">\n",
              "  <thead>\n",
              "    <tr style=\"text-align: right;\">\n",
              "      <th></th>\n",
              "      <th>text</th>\n",
              "      <th>MBTI_Type</th>\n",
              "      <th>label_EorI</th>\n",
              "      <th>label_NorS</th>\n",
              "      <th>label_ForT</th>\n",
              "      <th>label_ForT</th>\n",
              "    </tr>\n",
              "  </thead>\n",
              "  <tbody>\n",
              "    <tr>\n",
              "      <th>0</th>\n",
              "      <td>RT @det_kirigakure: #毎日龍驤\\n謹賀新年、明けましておめでとうございま...</td>\n",
              "      <td>INTJ</td>\n",
              "      <td>I</td>\n",
              "      <td>N</td>\n",
              "      <td>T</td>\n",
              "      <td>T</td>\n",
              "    </tr>\n",
              "    <tr>\n",
              "      <th>1</th>\n",
              "      <td>RT @nunnu_zero: 今流行りの壺をうちの子にプレゼントしてみた https://...</td>\n",
              "      <td>INTJ</td>\n",
              "      <td>I</td>\n",
              "      <td>N</td>\n",
              "      <td>T</td>\n",
              "      <td>T</td>\n",
              "    </tr>\n",
              "    <tr>\n",
              "      <th>2</th>\n",
              "      <td>RT @wahiko94: 下着姿の加賀殿を描いたでござる https://t.co/rX2...</td>\n",
              "      <td>INTJ</td>\n",
              "      <td>I</td>\n",
              "      <td>N</td>\n",
              "      <td>T</td>\n",
              "      <td>T</td>\n",
              "    </tr>\n",
              "    <tr>\n",
              "      <th>3</th>\n",
              "      <td>RT @whimgreen: ユニコーンちゃんに膝枕してもらいたい人生だった　#アズールレー...</td>\n",
              "      <td>INTJ</td>\n",
              "      <td>I</td>\n",
              "      <td>N</td>\n",
              "      <td>T</td>\n",
              "      <td>T</td>\n",
              "    </tr>\n",
              "    <tr>\n",
              "      <th>4</th>\n",
              "      <td>RT @whimgreen: スカートの中見せてくれるのかと期待して「すけべ♪」って言われた...</td>\n",
              "      <td>INTJ</td>\n",
              "      <td>I</td>\n",
              "      <td>N</td>\n",
              "      <td>T</td>\n",
              "      <td>T</td>\n",
              "    </tr>\n",
              "  </tbody>\n",
              "</table>\n",
              "</div>"
            ],
            "text/plain": [
              "                                                text  ... label_ForT\n",
              "0  RT @det_kirigakure: #毎日龍驤\\n謹賀新年、明けましておめでとうございま...  ...          T\n",
              "1  RT @nunnu_zero: 今流行りの壺をうちの子にプレゼントしてみた https://...  ...          T\n",
              "2  RT @wahiko94: 下着姿の加賀殿を描いたでござる https://t.co/rX2...  ...          T\n",
              "3  RT @whimgreen: ユニコーンちゃんに膝枕してもらいたい人生だった　#アズールレー...  ...          T\n",
              "4  RT @whimgreen: スカートの中見せてくれるのかと期待して「すけべ♪」って言われた...  ...          T\n",
              "\n",
              "[5 rows x 6 columns]"
            ]
          },
          "metadata": {},
          "execution_count": 12
        }
      ]
    }
  ]
}