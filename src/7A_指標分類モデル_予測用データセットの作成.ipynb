{
  "nbformat": 4,
  "nbformat_minor": 0,
  "metadata": {
    "colab": {
      "name": "7A_指標分類モデル_予測用データセットの作成.ipynb",
      "provenance": [],
      "collapsed_sections": [],
      "include_colab_link": true
    },
    "kernelspec": {
      "name": "python3",
      "display_name": "Python 3"
    },
    "language_info": {
      "name": "python"
    }
  },
  "cells": [
    {
      "cell_type": "markdown",
      "metadata": {
        "id": "view-in-github",
        "colab_type": "text"
      },
      "source": [
        "<a href=\"https://colab.research.google.com/github/sj0054pe/MBTI_Estim/blob/master/src/7A_%E6%8C%87%E6%A8%99%E5%88%86%E9%A1%9E%E3%83%A2%E3%83%87%E3%83%AB_%E4%BA%88%E6%B8%AC%E7%94%A8%E3%83%87%E3%83%BC%E3%82%BF%E3%82%BB%E3%83%83%E3%83%88%E3%81%AE%E4%BD%9C%E6%88%90.ipynb\" target=\"_parent\"><img src=\"https://colab.research.google.com/assets/colab-badge.svg\" alt=\"Open In Colab\"/></a>"
      ]
    },
    {
      "cell_type": "markdown",
      "metadata": {
        "id": "D_sogVdVEP5f"
      },
      "source": [
        "#<center>BERT 予測 (テスト) 用データセットの作成</center>\n"
      ]
    },
    {
      "cell_type": "markdown",
      "metadata": {
        "id": "ze-KEzO7EXCz"
      },
      "source": [
        "#0. 作業環境の準備"
      ]
    },
    {
      "cell_type": "markdown",
      "metadata": {
        "id": "_bOG6b3jEZMa"
      },
      "source": [
        "##0.1. google driveのマウント"
      ]
    },
    {
      "cell_type": "code",
      "metadata": {
        "id": "-9_AsBf4Hro9",
        "colab": {
          "base_uri": "https://localhost:8080/"
        },
        "outputId": "632ab631-318e-4957-d406-bc0c321b14d9"
      },
      "source": [
        "from google.colab import drive\n",
        "drive.mount('/content/drive')"
      ],
      "execution_count": null,
      "outputs": [
        {
          "output_type": "stream",
          "name": "stdout",
          "text": [
            "Mounted at /content/drive\n"
          ]
        }
      ]
    },
    {
      "cell_type": "markdown",
      "metadata": {
        "id": "TVbUY3i2EfyK"
      },
      "source": [
        "##0.2. カレントディレクトリへ移動"
      ]
    },
    {
      "cell_type": "code",
      "metadata": {
        "colab": {
          "base_uri": "https://localhost:8080/"
        },
        "id": "bVrupTBrDliG",
        "outputId": "cc814f49-83d6-4652-9198-411b0af3c1e6"
      },
      "source": [
        "%cd /content/drive/MyDrive/研究室/研究_M2/src"
      ],
      "execution_count": null,
      "outputs": [
        {
          "output_type": "stream",
          "name": "stdout",
          "text": [
            "/content/drive/MyDrive/研究室/研究_M2/src\n"
          ]
        }
      ]
    },
    {
      "cell_type": "markdown",
      "metadata": {
        "id": "trnekF5SFYKo"
      },
      "source": [
        "##0.3. 現在時刻の取得"
      ]
    },
    {
      "cell_type": "code",
      "metadata": {
        "colab": {
          "base_uri": "https://localhost:8080/"
        },
        "id": "yuOViur_FWTS",
        "outputId": "6f77317d-2888-4c79-ff13-ed812468b175"
      },
      "source": [
        "import datetime\n",
        "import pytz\n",
        "\n",
        "def pull_Datetime():\n",
        "  DATETIME_now = datetime.datetime.now(pytz.timezone('Asia/Tokyo'))\n",
        "  DATETIME_now = DATETIME_now.strftime(\"%Y-%m-%d\")\n",
        "  #DATETIME_now = DATETIME_now.strftime(\"%Y/%m/%d %H:%M:%S\")\n",
        "  #print(DATETIME_now)\n",
        "\n",
        "  return DATETIME_now\n",
        "\n",
        "print(pull_Datetime())"
      ],
      "execution_count": null,
      "outputs": [
        {
          "output_type": "stream",
          "name": "stdout",
          "text": [
            "2022-01-25\n"
          ]
        }
      ]
    },
    {
      "cell_type": "markdown",
      "metadata": {
        "id": "h23GS-SaIR5s"
      },
      "source": [
        "##option. データセットの指定"
      ]
    },
    {
      "cell_type": "code",
      "metadata": {
        "id": "E-g5Hu0lIPg3"
      },
      "source": [
        "INPUT_CSV_v5='./Assets/Assets_Output/Tweet_Datasets/v6S7_all_forBERT_2021-11-08_U10sentences.csv'"
      ],
      "execution_count": null,
      "outputs": []
    },
    {
      "cell_type": "code",
      "metadata": {
        "id": "r06KEL77Gs_2"
      },
      "source": [
        "#INPUT_CSV_v5='/content/drive/MyDrive/研究室/研究_M2/src/Assets/Assets_Output/Tweet_Datasets/v6S7_forBERT_2021-11-09_U20R10000.csv'"
      ],
      "execution_count": null,
      "outputs": []
    },
    {
      "cell_type": "markdown",
      "metadata": {
        "id": "3_vDHhmdDOK7"
      },
      "source": [
        "#1. データセットのロード"
      ]
    },
    {
      "cell_type": "code",
      "metadata": {
        "id": "DNWoMhghDLVI",
        "colab": {
          "base_uri": "https://localhost:8080/",
          "height": 354
        },
        "outputId": "a0bf14c0-e492-49a3-d204-ca6c98bcf852"
      },
      "source": [
        "import pandas as pd\n",
        "df_v0=pd.read_csv('%s' % INPUT_CSV_v5, engine='python')\n",
        "\n",
        "# データの確認\n",
        "print(f'データサイズ： {df_v0.shape}')\n",
        "\n",
        "df_v0[['text', 'tweet_time', 'MBTI_Type','label_EorI','label_NorS','label_ForT','label_JorP']].head()"
      ],
      "execution_count": null,
      "outputs": [
        {
          "output_type": "stream",
          "name": "stdout",
          "text": [
            "データサイズ： (242883, 13)\n"
          ]
        },
        {
          "output_type": "execute_result",
          "data": {
            "text/html": [
              "\n",
              "  <div id=\"df-7567d77d-9ece-4c41-9094-7bf5adef188d\">\n",
              "    <div class=\"colab-df-container\">\n",
              "      <div>\n",
              "<style scoped>\n",
              "    .dataframe tbody tr th:only-of-type {\n",
              "        vertical-align: middle;\n",
              "    }\n",
              "\n",
              "    .dataframe tbody tr th {\n",
              "        vertical-align: top;\n",
              "    }\n",
              "\n",
              "    .dataframe thead th {\n",
              "        text-align: right;\n",
              "    }\n",
              "</style>\n",
              "<table border=\"1\" class=\"dataframe\">\n",
              "  <thead>\n",
              "    <tr style=\"text-align: right;\">\n",
              "      <th></th>\n",
              "      <th>text</th>\n",
              "      <th>tweet_time</th>\n",
              "      <th>MBTI_Type</th>\n",
              "      <th>label_EorI</th>\n",
              "      <th>label_NorS</th>\n",
              "      <th>label_ForT</th>\n",
              "      <th>label_JorP</th>\n",
              "    </tr>\n",
              "  </thead>\n",
              "  <tbody>\n",
              "    <tr>\n",
              "      <th>0</th>\n",
              "      <td>あけおめなのよ。ことよろなのよ。</td>\n",
              "      <td>2017-12-30 12:02:23+00:00</td>\n",
              "      <td>INTJ</td>\n",
              "      <td>I</td>\n",
              "      <td>N</td>\n",
              "      <td>T</td>\n",
              "      <td>J</td>\n",
              "    </tr>\n",
              "    <tr>\n",
              "      <th>1</th>\n",
              "      <td>CLIP STUDIO TABMATEがコミケで販売されたそうだけど買った方いるのかな！？</td>\n",
              "      <td>2017-12-29 14:01:24+00:00</td>\n",
              "      <td>INTJ</td>\n",
              "      <td>I</td>\n",
              "      <td>N</td>\n",
              "      <td>T</td>\n",
              "      <td>J</td>\n",
              "    </tr>\n",
              "    <tr>\n",
              "      <th>2</th>\n",
              "      <td>中小の劇団のチケットって、安すぎたら箱や演者やスタッフさんのギャラが払えない。かと言って高く...</td>\n",
              "      <td>2017-11-26 06:54:54+00:00</td>\n",
              "      <td>INTJ</td>\n",
              "      <td>I</td>\n",
              "      <td>N</td>\n",
              "      <td>T</td>\n",
              "      <td>J</td>\n",
              "    </tr>\n",
              "    <tr>\n",
              "      <th>3</th>\n",
              "      <td>Vステなら大丈夫だったのになぁ… まぁQちゃんの事だからなんとかなるでしょう。</td>\n",
              "      <td>2017-11-19 16:00:34+00:00</td>\n",
              "      <td>INTJ</td>\n",
              "      <td>I</td>\n",
              "      <td>N</td>\n",
              "      <td>T</td>\n",
              "      <td>J</td>\n",
              "    </tr>\n",
              "    <tr>\n",
              "      <th>4</th>\n",
              "      <td>すげー！！耐えた！！ #鉄腕DASH</td>\n",
              "      <td>2017-11-19 10:32:29+00:00</td>\n",
              "      <td>INTJ</td>\n",
              "      <td>I</td>\n",
              "      <td>N</td>\n",
              "      <td>T</td>\n",
              "      <td>J</td>\n",
              "    </tr>\n",
              "  </tbody>\n",
              "</table>\n",
              "</div>\n",
              "      <button class=\"colab-df-convert\" onclick=\"convertToInteractive('df-7567d77d-9ece-4c41-9094-7bf5adef188d')\"\n",
              "              title=\"Convert this dataframe to an interactive table.\"\n",
              "              style=\"display:none;\">\n",
              "        \n",
              "  <svg xmlns=\"http://www.w3.org/2000/svg\" height=\"24px\"viewBox=\"0 0 24 24\"\n",
              "       width=\"24px\">\n",
              "    <path d=\"M0 0h24v24H0V0z\" fill=\"none\"/>\n",
              "    <path d=\"M18.56 5.44l.94 2.06.94-2.06 2.06-.94-2.06-.94-.94-2.06-.94 2.06-2.06.94zm-11 1L8.5 8.5l.94-2.06 2.06-.94-2.06-.94L8.5 2.5l-.94 2.06-2.06.94zm10 10l.94 2.06.94-2.06 2.06-.94-2.06-.94-.94-2.06-.94 2.06-2.06.94z\"/><path d=\"M17.41 7.96l-1.37-1.37c-.4-.4-.92-.59-1.43-.59-.52 0-1.04.2-1.43.59L10.3 9.45l-7.72 7.72c-.78.78-.78 2.05 0 2.83L4 21.41c.39.39.9.59 1.41.59.51 0 1.02-.2 1.41-.59l7.78-7.78 2.81-2.81c.8-.78.8-2.07 0-2.86zM5.41 20L4 18.59l7.72-7.72 1.47 1.35L5.41 20z\"/>\n",
              "  </svg>\n",
              "      </button>\n",
              "      \n",
              "  <style>\n",
              "    .colab-df-container {\n",
              "      display:flex;\n",
              "      flex-wrap:wrap;\n",
              "      gap: 12px;\n",
              "    }\n",
              "\n",
              "    .colab-df-convert {\n",
              "      background-color: #E8F0FE;\n",
              "      border: none;\n",
              "      border-radius: 50%;\n",
              "      cursor: pointer;\n",
              "      display: none;\n",
              "      fill: #1967D2;\n",
              "      height: 32px;\n",
              "      padding: 0 0 0 0;\n",
              "      width: 32px;\n",
              "    }\n",
              "\n",
              "    .colab-df-convert:hover {\n",
              "      background-color: #E2EBFA;\n",
              "      box-shadow: 0px 1px 2px rgba(60, 64, 67, 0.3), 0px 1px 3px 1px rgba(60, 64, 67, 0.15);\n",
              "      fill: #174EA6;\n",
              "    }\n",
              "\n",
              "    [theme=dark] .colab-df-convert {\n",
              "      background-color: #3B4455;\n",
              "      fill: #D2E3FC;\n",
              "    }\n",
              "\n",
              "    [theme=dark] .colab-df-convert:hover {\n",
              "      background-color: #434B5C;\n",
              "      box-shadow: 0px 1px 3px 1px rgba(0, 0, 0, 0.15);\n",
              "      filter: drop-shadow(0px 1px 2px rgba(0, 0, 0, 0.3));\n",
              "      fill: #FFFFFF;\n",
              "    }\n",
              "  </style>\n",
              "\n",
              "      <script>\n",
              "        const buttonEl =\n",
              "          document.querySelector('#df-7567d77d-9ece-4c41-9094-7bf5adef188d button.colab-df-convert');\n",
              "        buttonEl.style.display =\n",
              "          google.colab.kernel.accessAllowed ? 'block' : 'none';\n",
              "\n",
              "        async function convertToInteractive(key) {\n",
              "          const element = document.querySelector('#df-7567d77d-9ece-4c41-9094-7bf5adef188d');\n",
              "          const dataTable =\n",
              "            await google.colab.kernel.invokeFunction('convertToInteractive',\n",
              "                                                     [key], {});\n",
              "          if (!dataTable) return;\n",
              "\n",
              "          const docLinkHtml = 'Like what you see? Visit the ' +\n",
              "            '<a target=\"_blank\" href=https://colab.research.google.com/notebooks/data_table.ipynb>data table notebook</a>'\n",
              "            + ' to learn more about interactive tables.';\n",
              "          element.innerHTML = '';\n",
              "          dataTable['output_type'] = 'display_data';\n",
              "          await google.colab.output.renderOutput(dataTable, element);\n",
              "          const docLink = document.createElement('div');\n",
              "          docLink.innerHTML = docLinkHtml;\n",
              "          element.appendChild(docLink);\n",
              "        }\n",
              "      </script>\n",
              "    </div>\n",
              "  </div>\n",
              "  "
            ],
            "text/plain": [
              "                                                text  ... label_JorP\n",
              "0                                   あけおめなのよ。ことよろなのよ。  ...          J\n",
              "1      CLIP STUDIO TABMATEがコミケで販売されたそうだけど買った方いるのかな！？  ...          J\n",
              "2  中小の劇団のチケットって、安すぎたら箱や演者やスタッフさんのギャラが払えない。かと言って高く...  ...          J\n",
              "3            Vステなら大丈夫だったのになぁ… まぁQちゃんの事だからなんとかなるでしょう。  ...          J\n",
              "4                                 すげー！！耐えた！！ #鉄腕DASH  ...          J\n",
              "\n",
              "[5 rows x 7 columns]"
            ]
          },
          "metadata": {},
          "execution_count": 7
        }
      ]
    },
    {
      "cell_type": "markdown",
      "metadata": {
        "id": "WoerHjlkIO-s"
      },
      "source": [
        "#2. データの加工"
      ]
    },
    {
      "cell_type": "markdown",
      "metadata": {
        "id": "EfelOOnbDImD"
      },
      "source": [
        "##2.1. 必要なデータ（文章とラベル）の抽出"
      ]
    },
    {
      "cell_type": "code",
      "metadata": {
        "id": "qdG1TuYZDGa_",
        "colab": {
          "base_uri": "https://localhost:8080/",
          "height": 238
        },
        "outputId": "b9f3793a-2d56-4683-80e9-511c53fa17b7"
      },
      "source": [
        "#df_v0.drop(['notes', 'Unnamed: 0', 'Unnamed: 0.1', 'Unnamed: 0.1.1',  'Unnamed: 0.1.1.1'],axis=1, inplace=True)\n",
        "df_v0.dropna(how='any', axis=0, inplace=True)\n",
        "\n",
        "df_v0=df_v0\n",
        "df_v0[['text', 'tweet_time', 'MBTI_Type','label_EorI','label_NorS','label_ForT','label_JorP']].head()"
      ],
      "execution_count": null,
      "outputs": [
        {
          "output_type": "error",
          "ename": "NameError",
          "evalue": "ignored",
          "traceback": [
            "\u001b[0;31m---------------------------------------------------------------------------\u001b[0m",
            "\u001b[0;31mNameError\u001b[0m                                 Traceback (most recent call last)",
            "\u001b[0;32m<ipython-input-1-fddeaf269be0>\u001b[0m in \u001b[0;36m<module>\u001b[0;34m()\u001b[0m\n\u001b[1;32m      1\u001b[0m \u001b[0;31m#df_v0.drop(['notes', 'Unnamed: 0', 'Unnamed: 0.1', 'Unnamed: 0.1.1',  'Unnamed: 0.1.1.1'],axis=1, inplace=True)\u001b[0m\u001b[0;34m\u001b[0m\u001b[0;34m\u001b[0m\u001b[0;34m\u001b[0m\u001b[0m\n\u001b[0;32m----> 2\u001b[0;31m \u001b[0mdf_v0\u001b[0m\u001b[0;34m.\u001b[0m\u001b[0mdropna\u001b[0m\u001b[0;34m(\u001b[0m\u001b[0mhow\u001b[0m\u001b[0;34m=\u001b[0m\u001b[0;34m'any'\u001b[0m\u001b[0;34m,\u001b[0m \u001b[0maxis\u001b[0m\u001b[0;34m=\u001b[0m\u001b[0;36m0\u001b[0m\u001b[0;34m,\u001b[0m \u001b[0minplace\u001b[0m\u001b[0;34m=\u001b[0m\u001b[0;32mTrue\u001b[0m\u001b[0;34m)\u001b[0m\u001b[0;34m\u001b[0m\u001b[0;34m\u001b[0m\u001b[0m\n\u001b[0m\u001b[1;32m      3\u001b[0m \u001b[0;34m\u001b[0m\u001b[0m\n\u001b[1;32m      4\u001b[0m \u001b[0mdf_v0\u001b[0m\u001b[0;34m=\u001b[0m\u001b[0mdf_v0\u001b[0m\u001b[0;34m\u001b[0m\u001b[0;34m\u001b[0m\u001b[0m\n\u001b[1;32m      5\u001b[0m \u001b[0mdf_v0\u001b[0m\u001b[0;34m[\u001b[0m\u001b[0;34m[\u001b[0m\u001b[0;34m'text'\u001b[0m\u001b[0;34m,\u001b[0m \u001b[0;34m'tweet_time'\u001b[0m\u001b[0;34m,\u001b[0m \u001b[0;34m'MBTI_Type'\u001b[0m\u001b[0;34m,\u001b[0m\u001b[0;34m'label_EorI'\u001b[0m\u001b[0;34m,\u001b[0m\u001b[0;34m'label_NorS'\u001b[0m\u001b[0;34m,\u001b[0m\u001b[0;34m'label_ForT'\u001b[0m\u001b[0;34m,\u001b[0m\u001b[0;34m'label_JorP'\u001b[0m\u001b[0;34m]\u001b[0m\u001b[0;34m]\u001b[0m\u001b[0;34m.\u001b[0m\u001b[0mhead\u001b[0m\u001b[0;34m(\u001b[0m\u001b[0;34m)\u001b[0m\u001b[0;34m\u001b[0m\u001b[0;34m\u001b[0m\u001b[0m\n",
            "\u001b[0;31mNameError\u001b[0m: name 'df_v0' is not defined"
          ]
        }
      ]
    },
    {
      "cell_type": "markdown",
      "metadata": {
        "id": "7s8fnWpYIYeh"
      },
      "source": [
        "##2.2. データからリツイートの投稿を除去"
      ]
    },
    {
      "cell_type": "code",
      "metadata": {
        "id": "M8rWbb5qg1L8"
      },
      "source": [
        "#dfXXX=df['text'].str.extract(r'RT\\ @(.*)', expand=True) \n",
        "df = df_v0[~df_v0['text'].str.contains(r'RT\\ @(.*)')]\n",
        "#dfXXX = df[~df['text'].str.startswith('RT ')]\n",
        "df[['text', 'tweet_time', 'MBTI_Type','label_EorI','label_NorS','label_ForT','label_JorP']].head()"
      ],
      "execution_count": null,
      "outputs": []
    },
    {
      "cell_type": "markdown",
      "metadata": {
        "id": "MTOKetegJCyU"
      },
      "source": [
        "##2.3. @mention・URLの削除"
      ]
    },
    {
      "cell_type": "code",
      "metadata": {
        "id": "SLQnjL3dSTUC"
      },
      "source": [
        "import re\n",
        "import numpy as np\n",
        "\n",
        "def remove_MENTIONandURL(text):\n",
        "  list_text=re.split(' |\\n', text)\n",
        "  #print(list_text)\n",
        "  len_list=len(list_text)\n",
        "  Nan = np.nan\n",
        "  count_element=0\n",
        "  element_mention=None\n",
        "  element_URL=None\n",
        "  for idx, element in enumerate(list_text):\n",
        "    if re.match(r'(^)(@)[^a-zA-Z0-9_]*', element):\n",
        "      element_mention=element\n",
        "    if element.startswith('https:'):\n",
        "      element_URL=element\n",
        "      \n",
        "  #print(element_mention, element_URL)\n",
        "  if element_mention==None:\n",
        "    pass\n",
        "  else:\n",
        "    list_text.remove(element_mention)\n",
        "  if element_URL==None:\n",
        "    pass\n",
        "  else:\n",
        "    list_text.remove(element_URL)\n",
        "\n",
        "  Z=' '.join(list_text)\n",
        "  \n",
        "  return Z\n",
        "\n",
        "df['text'] = df['text'].map(remove_MENTIONandURL)\n",
        "df.dropna(how='any', axis=0, inplace=True)\n",
        "df['text']"
      ],
      "execution_count": null,
      "outputs": []
    },
    {
      "cell_type": "code",
      "metadata": {
        "id": "2UKLdNii03gl"
      },
      "source": [
        "df_v3 = df\n",
        "#df_v3=df.sample(n=100)\n",
        "df_v3[['text', 'tweet_time', 'conversation_id','MBTI_Type']].head(5)"
      ],
      "execution_count": null,
      "outputs": []
    },
    {
      "cell_type": "code",
      "metadata": {
        "id": "9w43PETgHXZw"
      },
      "source": [
        "!pip install janome"
      ],
      "execution_count": null,
      "outputs": []
    },
    {
      "cell_type": "code",
      "metadata": {
        "id": "MzymQ2zkFW7q"
      },
      "source": [
        "from janome.tokenizer import Tokenizer\n",
        "import collections\n",
        "from tqdm.notebook import tqdm\n",
        "\n",
        "import re\n",
        "import numpy as np\n",
        "\n",
        "t = Tokenizer()\n",
        "\n",
        "def remove_ShortText(text):\n",
        "    one_tweet = \"\".join(text) #\"\\n\".join(text)\n",
        "    # print(\"----------------------------------------\")\n",
        "    # print(one_tweet)\n",
        "    # print('↓')\n",
        "\n",
        "    Nan = np.nan\n",
        "    if len(list(t.tokenize(one_tweet)))> 19 and not one_tweet.startswith(\"私の性格タイプは\"): #私の性格タイプは :\n",
        "        #print(\"長い : \", one_tweet)\n",
        "        #pass\n",
        "        return one_tweet\n",
        "    else:\n",
        "        #print(\"短い : \", one_tweet)\n",
        "        return None\n",
        "\n",
        "df_v3['text'] = df_v3['text'][:].map(remove_ShortText)\n",
        "df_v3.dropna(how='any', axis=0, inplace=True)\n",
        "df_v3['text']"
      ],
      "execution_count": null,
      "outputs": []
    },
    {
      "cell_type": "code",
      "metadata": {
        "id": "A_PIuPyiHjEe"
      },
      "source": [
        "df_v3['text'].head(5)"
      ],
      "execution_count": null,
      "outputs": []
    },
    {
      "cell_type": "markdown",
      "metadata": {
        "id": "BaFpdaKIJX--"
      },
      "source": [
        "#3. データの保存"
      ]
    },
    {
      "cell_type": "markdown",
      "metadata": {
        "id": "O2WTRGk8JwGk"
      },
      "source": [
        "##3.1. 手法4までで作成した投稿を更新"
      ]
    },
    {
      "cell_type": "code",
      "metadata": {
        "id": "PoWjqZIGXLHY"
      },
      "source": [
        "df_all=df_v3\n",
        "print(f'データサイズ： {df_all.shape}')\n",
        "\n",
        "FileName=pull_Datetime()\n",
        "df_all.to_csv('./Assets/Assets_Output/Tweet_Datasets/v7_all_%s_W20.csv' % FileName)\n",
        "print('./Assets/Assets_Output/Tweet_Datasets/v7_all_%s_W20.csv' % FileName)"
      ],
      "execution_count": null,
      "outputs": []
    },
    {
      "cell_type": "markdown",
      "metadata": {
        "id": "BfkmBc_PHJO_"
      },
      "source": [
        "##3.2. データセットv7の作成"
      ]
    },
    {
      "cell_type": "code",
      "metadata": {
        "id": "uUgUVfrpXDvi"
      },
      "source": [
        "import random\n",
        " #データの抽出\n",
        "df_S=df_all.sample(n=10000)"
      ],
      "execution_count": null,
      "outputs": []
    },
    {
      "cell_type": "code",
      "metadata": {
        "id": "9h-t2ZDKDu3b"
      },
      "source": [
        "FileName=pull_Datetime()\n",
        "df_S.to_csv('./Assets/Assets_Output/Tweet_Datasets/v7S1_forBERT_%s_W20R10000.csv' % FileName)\n",
        "print('./Assets/Assets_Output/Tweet_Datasets/v7S1_forBERT_%s_W20R10000.csv' % FileName)"
      ],
      "execution_count": null,
      "outputs": []
    },
    {
      "cell_type": "markdown",
      "metadata": {
        "id": "YsrUCO-iKB7E"
      },
      "source": [
        "##3.3. 記録用に各指標のユーザー数を表示"
      ]
    },
    {
      "cell_type": "code",
      "metadata": {
        "id": "jMNuZU7RJQb0"
      },
      "source": [
        "def num_Type_Index(element):\n",
        "  num_Users_Type=df_S.groupby(['%s' % element])\n",
        "  num_Users_Type.groups\n",
        "  num_Users_Type.size()\n",
        "\n",
        "  print(num_Users_Type.size())\n",
        "  print()\n",
        "\n",
        "for element in [\"label_EorI\", \"label_NorS\", \"label_ForT\", \"label_JorP\"] :\n",
        "  num_Type_Index(element)"
      ],
      "execution_count": null,
      "outputs": []
    },
    {
      "cell_type": "markdown",
      "metadata": {
        "id": "nAimVY9mNECW"
      },
      "source": [
        "#Option 最大単語数の計算"
      ]
    },
    {
      "cell_type": "code",
      "metadata": {
        "id": "FRGWwwCDOzRy"
      },
      "source": [
        "!pip install transformers\n",
        "\n",
        "!pip install fugashi\n",
        "!pip install ipadic"
      ],
      "execution_count": null,
      "outputs": []
    },
    {
      "cell_type": "code",
      "metadata": {
        "id": "m_kHyljMO3_T"
      },
      "source": [
        "## Tokenizerの準備\n",
        "from transformers import BertJapaneseTokenizer\n",
        "tokenizer = BertJapaneseTokenizer.from_pretrained('cl-tohoku/bert-base-japanese-whole-word-masking')"
      ],
      "execution_count": null,
      "outputs": []
    },
    {
      "cell_type": "code",
      "metadata": {
        "id": "hh23o-DSNDOg"
      },
      "source": [
        "from tqdm.notebook import tqdm\n",
        "import numpy as np\n",
        "\n",
        "def num_max_words(TYPE_INDEX):\n",
        "  sentences= df_S['text'].values #sentences = df.sentence.values\n",
        "  labels= df_S['%s' % TYPE_INDEX].values #labels = df.label.values\n",
        "\n",
        "  # 最大単語数の確認\n",
        "  max_len = []\n",
        "  # 1文づつ処理\n",
        "  len_sentences = len(sentences)\n",
        "  for sent in tqdm(sentences):\n",
        "      # Tokenizeで分割\n",
        "      token_words = tokenizer.tokenize(sent)\n",
        "      # 文章数を取得してリストへ格納\n",
        "      max_len.append(len(token_words))\n",
        "  # 最大の値を確認\n",
        "  len_max=max(max_len)\n",
        "  #len_q0, len_q25, len_q50, len_q75, len_q100=np.percentile(max_len,  [0, 25, 50, 75, 100])\n",
        "  #len_q75=int(len_q75)\n",
        "  print('最大単語数: ', max(max_len))\n",
        "\n",
        "for element in [\"label_EorI\", \"label_NorS\", \"label_ForT\", \"label_JorP\"] :\n",
        "  num_max_words(element)"
      ],
      "execution_count": null,
      "outputs": []
    }
  ]
}