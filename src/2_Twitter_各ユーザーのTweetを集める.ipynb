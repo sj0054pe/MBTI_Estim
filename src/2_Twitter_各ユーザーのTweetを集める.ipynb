{
  "nbformat": 4,
  "nbformat_minor": 0,
  "metadata": {
    "colab": {
      "name": "2_Twitter_各ユーザーのTweetを集める.ipynb",
      "provenance": [],
      "collapsed_sections": [],
      "mount_file_id": "1p6nv37jxYe__sogv9KBLGsf3YqJK4oxR",
      "authorship_tag": "ABX9TyPVE11HYwDfHjtJnFDZDWab",
      "include_colab_link": true
    },
    "kernelspec": {
      "display_name": "Python 3",
      "name": "python3"
    },
    "language_info": {
      "name": "python"
    }
  },
  "cells": [
    {
      "cell_type": "markdown",
      "metadata": {
        "id": "view-in-github",
        "colab_type": "text"
      },
      "source": [
        "<a href=\"https://colab.research.google.com/github/sj0054pe/MBTI_Estim/blob/master/src/2_Twitter_%E5%90%84%E3%83%A6%E3%83%BC%E3%82%B6%E3%83%BC%E3%81%AETweet%E3%82%92%E9%9B%86%E3%82%81%E3%82%8B.ipynb\" target=\"_parent\"><img src=\"https://colab.research.google.com/assets/colab-badge.svg\" alt=\"Open In Colab\"/></a>"
      ]
    },
    {
      "cell_type": "markdown",
      "metadata": {
        "id": "h7ej-jiNPH2U"
      },
      "source": [
        "#<center>Twitter 各ユーザーのTweetを集める</center>"
      ]
    },
    {
      "cell_type": "markdown",
      "metadata": {
        "id": "MxL57lu5Jq5U"
      },
      "source": [
        "#0. 作業環境の準備"
      ]
    },
    {
      "cell_type": "markdown",
      "metadata": {
        "id": "KxeXAdiPJv-W"
      },
      "source": [
        "##0.1. Google Driveをマウント"
      ]
    },
    {
      "cell_type": "code",
      "metadata": {
        "id": "rIu-KONQJx15"
      },
      "source": [
        "# from google.colab import drive\n",
        "# drive.mount('/content/drive')"
      ],
      "execution_count": null,
      "outputs": []
    },
    {
      "cell_type": "markdown",
      "metadata": {
        "id": "GPVapvoMJyF5"
      },
      "source": [
        "##0.2. カレントディレクトリへ移動"
      ]
    },
    {
      "cell_type": "code",
      "metadata": {
        "colab": {
          "base_uri": "https://localhost:8080/"
        },
        "id": "74rQbUf6v9qi",
        "outputId": "0fa365f3-ca1a-417c-b222-de15d332204d"
      },
      "source": [
        "%cd /content/drive/MyDrive/研究室/研究_M2/src"
      ],
      "execution_count": null,
      "outputs": [
        {
          "name": "stdout",
          "output_type": "stream",
          "text": [
            "/content/drive/MyDrive/研究室/研究_M2/src\n"
          ]
        }
      ]
    },
    {
      "cell_type": "markdown",
      "metadata": {
        "id": "zS-wVuXuJ3Tv"
      },
      "source": [
        "##0.3. 現在日時の取得"
      ]
    },
    {
      "cell_type": "code",
      "metadata": {
        "colab": {
          "base_uri": "https://localhost:8080/"
        },
        "id": "zu8Xvd2FwGFw",
        "outputId": "9748eb8a-28d4-49f8-9db3-6e188c9965df"
      },
      "source": [
        "import datetime\n",
        "from pytz import timezone\n",
        "\n",
        "def Pull_Datetime():\n",
        "    dates=datetime.datetime.now(timezone('Asia/Tokyo'))\n",
        "    exept_microsec=dates.strftime(\"%Y-%m-%d-%H-%M\")\n",
        "    print('[Today : %s]' % str(exept_microsec))\n",
        "\n",
        "    DATETIME=exept_microsec\n",
        "    return DATETIME\n",
        "\n",
        "DATETIME=Pull_Datetime()"
      ],
      "execution_count": null,
      "outputs": [
        {
          "name": "stdout",
          "output_type": "stream",
          "text": [
            "[Today : 2021-08-24-23-57]\n"
          ]
        }
      ]
    },
    {
      "cell_type": "markdown",
      "metadata": {
        "id": "6jzyaQmmJ_jd"
      },
      "source": [
        "##0.4. 作成途中のデータがあればこちらを動かす。"
      ]
    },
    {
      "cell_type": "code",
      "metadata": {
        "id": "BYIIYKbhklMW"
      },
      "source": [
        "#DATETIME = '2021-08-24-23-57'\n",
        "\n",
        "# OUTPUT_PATH =  './Assets/Assets_Output/'\n",
        "# OUTPUT_DIR=OUTPUT_PATH+ \"PersonalEstim_%s/\" % DATETIME\n",
        "# OUTPUT_DIR_RESULTS=OUTPUT_PATH+ \"PersonalEstim_%s/results/\" % DATETIME\n",
        "\n",
        "# KEYWORDS_TypeMBTI = '2017-2018'\n",
        "# KEYWORDS_FileName='2017'"
      ],
      "execution_count": null,
      "outputs": []
    },
    {
      "cell_type": "markdown",
      "metadata": {
        "id": "hocvZ4VXKHFo"
      },
      "source": [
        "##0.5. 作業ディレクトリの作成"
      ]
    },
    {
      "cell_type": "code",
      "metadata": {
        "id": "inJTR7nAwH54"
      },
      "source": [
        "import os\n",
        "OUTPUT_PATH =  './Assets/Assets_Output/'\n",
        "OUTPUT_DIR=OUTPUT_PATH+ \"PersonalEstim_%s/\" % DATETIME\n",
        "OUTPUT_DIR_RESULTS=OUTPUT_PATH+ \"PersonalEstim_%s/results/\" % DATETIME\n",
        "\n",
        "KEYWORDS_TypeMBTI = '2017-2018'\n",
        "\n",
        "try:\n",
        "  os.mkdir(OUTPUT_DIR)\n",
        "except:\n",
        "  print(OUTPUT_DIR, '    already exists')\n",
        "  print()\n",
        "try:\n",
        "  os.mkdir(OUTPUT_DIR_RESULTS)\n",
        "except:\n",
        "  print(OUTPUT_DIR_RESULTS, '    the directory already exists')\n",
        "  print()"
      ],
      "execution_count": null,
      "outputs": []
    },
    {
      "cell_type": "markdown",
      "metadata": {
        "id": "A0dsObbeKL5i"
      },
      "source": [
        "##0.6. ファイル名に含む単語 (任意) を設定する。\n",
        "\n",
        "ファイルの中身を明示する内容がオススメ。"
      ]
    },
    {
      "cell_type": "code",
      "metadata": {
        "id": "rrbV1zjewJiW"
      },
      "source": [
        " KEYWORDS_FileName='2017'"
      ],
      "execution_count": null,
      "outputs": []
    },
    {
      "cell_type": "markdown",
      "metadata": {
        "id": "6y3i2I6yLwz2"
      },
      "source": [
        "#2. データの準備"
      ]
    },
    {
      "cell_type": "markdown",
      "metadata": {
        "id": "4IlviWNLL-Kw"
      },
      "source": [
        "##2.1. 性格診断結果を投稿したデータの読み込み\n",
        "\n",
        "個人の特定に繫がるtweet_idは伏せてます。"
      ]
    },
    {
      "cell_type": "code",
      "metadata": {
        "colab": {
          "base_uri": "https://localhost:8080/",
          "height": 306
        },
        "id": "PiMVxX7hwOoa",
        "outputId": "7cfe1739-3d7a-4e58-98cc-dbb3baf548f2"
      },
      "source": [
        "import pandas as pd\n",
        "\n",
        "df_2017=pd.read_csv('/content/drive/MyDrive/研究室/研究_M2/src/Assets/Assets_Output/PersonalEstim_2021-08-24-00-36/results/UserListFinal_2017.csv', engine='python')\n",
        "df_2017=df_2017.dropna(how='any')\n",
        "df_2017=df_2017.sort_values('tweet_time')\n",
        "list_AuthorID=df_2017['author_id'].values.tolist()\n",
        "#list_AuthorID=list(map(int, list_AuthorID))\n",
        "print(\"ユーザー数 : \", len(list_AuthorID))\n",
        "\n",
        "df_2017[['text', 'tweet_time', 'lang']].head()"
      ],
      "execution_count": 3,
      "outputs": [
        {
          "output_type": "stream",
          "name": "stdout",
          "text": [
            "36244\n"
          ]
        },
        {
          "output_type": "execute_result",
          "data": {
            "text/html": [
              "<div>\n",
              "<style scoped>\n",
              "    .dataframe tbody tr th:only-of-type {\n",
              "        vertical-align: middle;\n",
              "    }\n",
              "\n",
              "    .dataframe tbody tr th {\n",
              "        vertical-align: top;\n",
              "    }\n",
              "\n",
              "    .dataframe thead th {\n",
              "        text-align: right;\n",
              "    }\n",
              "</style>\n",
              "<table border=\"1\" class=\"dataframe\">\n",
              "  <thead>\n",
              "    <tr style=\"text-align: right;\">\n",
              "      <th></th>\n",
              "      <th>text</th>\n",
              "      <th>tweet_time</th>\n",
              "      <th>lang</th>\n",
              "    </tr>\n",
              "  </thead>\n",
              "  <tbody>\n",
              "    <tr>\n",
              "      <th>36265</th>\n",
              "      <td>私の性格タイプは “冒険家” です。あなたのタイプは何ですか？ https://t.co/o...</td>\n",
              "      <td>2017-01-01 04:44:24+00:00</td>\n",
              "      <td>ja</td>\n",
              "    </tr>\n",
              "    <tr>\n",
              "      <th>36264</th>\n",
              "      <td>私の性格タイプは “擁護者” です。あなたのタイプは何ですか？ https://t.co/S...</td>\n",
              "      <td>2017-01-01 07:15:52+00:00</td>\n",
              "      <td>ja</td>\n",
              "    </tr>\n",
              "    <tr>\n",
              "      <th>36263</th>\n",
              "      <td>私の性格タイプは “エンターテイナー” です。あなたのタイプは何ですか？ https://t...</td>\n",
              "      <td>2017-01-01 08:08:09+00:00</td>\n",
              "      <td>ja</td>\n",
              "    </tr>\n",
              "    <tr>\n",
              "      <th>36262</th>\n",
              "      <td>私の性格タイプは “建築家” です。あなたのタイプは何ですか？ https://t.co/O...</td>\n",
              "      <td>2017-01-01 11:42:36+00:00</td>\n",
              "      <td>ja</td>\n",
              "    </tr>\n",
              "    <tr>\n",
              "      <th>36261</th>\n",
              "      <td>私の性格タイプは “論理学者” です。あなたのタイプは何ですか？ https://t.co/...</td>\n",
              "      <td>2017-01-01 12:15:14+00:00</td>\n",
              "      <td>ja</td>\n",
              "    </tr>\n",
              "  </tbody>\n",
              "</table>\n",
              "</div>"
            ],
            "text/plain": [
              "                                                    text  ... lang\n",
              "36265  私の性格タイプは “冒険家” です。あなたのタイプは何ですか？ https://t.co/o...  ...   ja\n",
              "36264  私の性格タイプは “擁護者” です。あなたのタイプは何ですか？ https://t.co/S...  ...   ja\n",
              "36263  私の性格タイプは “エンターテイナー” です。あなたのタイプは何ですか？ https://t...  ...   ja\n",
              "36262  私の性格タイプは “建築家” です。あなたのタイプは何ですか？ https://t.co/O...  ...   ja\n",
              "36261  私の性格タイプは “論理学者” です。あなたのタイプは何ですか？ https://t.co/...  ...   ja\n",
              "\n",
              "[5 rows x 3 columns]"
            ]
          },
          "metadata": {},
          "execution_count": 3
        }
      ]
    },
    {
      "cell_type": "markdown",
      "metadata": {
        "id": "wTdxWedKL6Oi"
      },
      "source": [
        "##2.2. 重複するユーザーの統一"
      ]
    },
    {
      "cell_type": "code",
      "metadata": {
        "colab": {
          "base_uri": "https://localhost:8080/"
        },
        "id": "hweByq3fwQMy",
        "outputId": "4816b7e1-6efb-4fe1-8e29-74e3c6d9670e"
      },
      "source": [
        "#print(list_AuthorID)\n",
        "set_AuthorID=set(list_AuthorID)\n",
        "#print(type(set_AuthorID))\n",
        "#print(len(set_AuthorID))\n",
        "\n",
        "list_AuthorID = [x for x in set_AuthorID]\n",
        "#print(type(list_AuthorID))\n",
        "\n",
        "list_AuthorID=list(map(int, list_AuthorID))\n",
        "#print(list_AuthorID)\n",
        "print(\"統一後 : \", len(list_AuthorID))"
      ],
      "execution_count": 4,
      "outputs": [
        {
          "output_type": "stream",
          "name": "stdout",
          "text": [
            "統一後 :  33955\n"
          ]
        }
      ]
    },
    {
      "cell_type": "markdown",
      "metadata": {
        "id": "jmLCOfdrOQyI"
      },
      "source": [
        "#3. Twitter APIを利用して、特定のユーザーが過去に発信した投稿を取得する。"
      ]
    },
    {
      "cell_type": "markdown",
      "metadata": {
        "id": "SFIHwinYKbpn"
      },
      "source": [
        "##3.1. 「Twiiter APIのエンドポイントを作成」する関数\n",
        "\n",
        "今回のTwitter API のURLは「特定のユーザーが過去に発信した投稿を取得」するエンドポイントである。"
      ]
    },
    {
      "cell_type": "code",
      "metadata": {
        "id": "7l3JigRQwLVe"
      },
      "source": [
        "import yaml\n",
        "import os # For saving access tokens and for file management when creating and adding to the dataset\n",
        "import requests # For sending GET requests from the API\n",
        "import Twitter_API_Key\n",
        "\n",
        "def Create_url_UserTimeline(list_AuthorID, start_date, end_date, max_results = 10):\n",
        "    #Change to the endpoint you want to collect data from\n",
        "    search_url = \"https://api.twitter.com/2/users/%s/tweets\" % list_AuthorID\n",
        "    #change params based on the endpoint you are using\n",
        "    query_params = {'max_results': max_results,\n",
        "                    'expansions': 'author_id,in_reply_to_user_id,geo.place_id',\n",
        "                    'tweet.fields': 'id,text,author_id,in_reply_to_user_id,geo,conversation_id,created_at,lang,public_metrics,referenced_tweets,reply_settings,source',\n",
        "                    'user.fields': 'id,name,username,created_at,description,public_metrics,verified',\n",
        "                    'place.fields': 'full_name,id,country,country_code,geo,name,place_type',\n",
        "                    'next_token': {},\n",
        "                    'start_time': start_date,\n",
        "                    'end_time': end_date\n",
        "                    }\n",
        "                    \n",
        "    return (search_url, query_params)"
      ],
      "execution_count": null,
      "outputs": []
    },
    {
      "cell_type": "markdown",
      "metadata": {
        "id": "ML3qWqEXK9eY"
      },
      "source": [
        "##3.2. 「エンドポイントを利用してTwitter APIへアクセス」する関数"
      ]
    },
    {
      "cell_type": "code",
      "metadata": {
        "id": "tLBvUwfIAGYM"
      },
      "source": [
        "def Connect_to_endpoint(url, params, next_token = None):\n",
        "    #prepare params\n",
        "    params['next_token'] = next_token   #params object received from create_url function\n",
        "    #pull bearer token\n",
        "    bearer_token = Twitter_API_Key.Auth_FullAchieve()\n",
        "    headers = {\"Authorization\": \"Bearer {}\".format(bearer_token)}\n",
        "    #request Twtitter\n",
        "    response = requests.request(\"GET\", url, headers = headers, params = params)\n",
        "    print(\"Endpoint Response Code: \" + str(response.status_code))\n",
        "    if response.status_code != 200:\n",
        "        raise Exception(response.status_code, response.text)\n",
        "        \n",
        "    return response.json()"
      ],
      "execution_count": null,
      "outputs": []
    },
    {
      "cell_type": "markdown",
      "metadata": {
        "id": "9ND8HaTrLMJK"
      },
      "source": [
        "##3.3. 「特定のユーザーが過去に発信した投稿を取得」する関数"
      ]
    },
    {
      "cell_type": "code",
      "metadata": {
        "id": "syWCMG9GwM33"
      },
      "source": [
        "import dateutil.parser\n",
        "import pandas as pd\n",
        "import tqdm\n",
        "\n",
        "def Pull_tweets_from_specific_users(list_AuthorID, start_time, end_time, max_results, next_token, OUTPUT_DIR_RESULTS, KEYWORDS_TypeMBTI):\n",
        "  url = Create_url_UserTimeline(list_AuthorID, start_time, end_time, max_results)\n",
        "  print(\"url : \", url)\n",
        "  json_UserTimeline= Connect_to_endpoint(url[0], url[1], next_token)\n",
        "\n",
        "  json_UserTimeline\n",
        "  print(json_UserTimeline)\n",
        "  list_dict_keys=list(json_UserTimeline.keys())\n",
        "  if list_dict_keys[0]=='errors':\n",
        "    return 0\n",
        "  elif json_UserTimeline['meta']['result_count']==0:\n",
        "    return 0\n",
        "  else: \n",
        "    list_EachData=json_UserTimeline['data']\n",
        "\n",
        "  list_csv=[]\n",
        "  list_csv.clear()\n",
        "  list_header=['author_id', 'text',  'tweet_id','tweet_time', 'conversation_id','lang']\n",
        "  for element in list_EachData:\n",
        "    #print(element['text'])\n",
        "    tweet_AuthorID=element['author_id']\n",
        "    tweet_Texts=element['text']\n",
        "    tweet_id = element['id']\n",
        "    tweet_time = dateutil.parser.parse(element['created_at'])\n",
        "    convarsation_id = element['conversation_id']\n",
        "    tweet_lang = element['lang']\n",
        "\n",
        "    list_sub_row=[tweet_AuthorID, tweet_Texts, tweet_id, tweet_time, convarsation_id, tweet_lang]\n",
        "    list_csv.append(list_sub_row)\n",
        "\n",
        "  df_UserTimeline=pd.DataFrame(list_csv, columns=list_header)\n",
        "  df_UserTimeline.to_csv('%sTweetsByOneUser_%s_%s.csv' % (OUTPUT_DIR_RESULTS, KEYWORDS_TypeMBTI, df_UserTimeline['author_id'][0]))\n",
        "\n",
        "  return df_UserTimeline"
      ],
      "execution_count": 1,
      "outputs": []
    },
    {
      "cell_type": "markdown",
      "metadata": {
        "id": "lw-zQ8tpMN8Q"
      },
      "source": [
        "##3.5 特定のユーザーが過去に発信した投稿を取得する。\n",
        "\n",
        "これまで作成した関数を動かす。"
      ]
    },
    {
      "cell_type": "code",
      "metadata": {
        "colab": {
          "background_save": true
        },
        "id": "4mVEjBPvwSnY"
      },
      "source": [
        "next_token=None\n",
        "max_results_author=100\n",
        "start_time = \"2017-01-01T00:00:00.000Z\"\n",
        "end_time = \"2017-12-31T23:59:59.000Z\"\n",
        "\n",
        "import time\n",
        "\n",
        "#print(list_AuthorID[6:7])\n",
        "for idx, element_AuthorID in enumerate(list_AuthorID[20484 + 1:]):\n",
        "  print(idx + 20484+ 1, \"：\", element_AuthorID)\n",
        "  FileName=KEYWORDS_FileName+\"_\"+str(idx+ 20484 + 1)\n",
        "  Pull_tweets_from_specific_users(element_AuthorID, start_time, end_time, max_results_author, next_token, OUTPUT_DIR_RESULTS,  FileName)\n",
        "\n",
        "  time.sleep(1)"
      ],
      "execution_count": null,
      "outputs": []
    },
    {
      "cell_type": "code",
      "metadata": {
        "colab": {
          "base_uri": "https://localhost:8080/"
        },
        "id": "6U396ho6j54n",
        "outputId": "b42bef95-b1b1-40af-a4b2-3686ab5e8f28"
      },
      "source": [
        "print(list_AuthorID.index(720287831331987456))"
      ],
      "execution_count": null,
      "outputs": [
        {
          "name": "stdout",
          "output_type": "stream",
          "text": [
            "20460\n"
          ]
        }
      ]
    },
    {
      "cell_type": "markdown",
      "metadata": {
        "id": "Yumym41HMi4d"
      },
      "source": [
        "#Z. デバック用"
      ]
    },
    {
      "cell_type": "code",
      "metadata": {
        "id": "TVP7jAQR7Km0"
      },
      "source": [
        "list_AuthorID.sort()\n",
        "print(list_AuthorID)"
      ],
      "execution_count": null,
      "outputs": []
    },
    {
      "cell_type": "code",
      "metadata": {
        "id": "a1-4v9Mb7N6t"
      },
      "source": [
        "with open('/content/drive/MyDrive/sample.txt') as f:\n",
        "  list_AuthorID=f.readlines()\n",
        "  for i in range(len(list_AuthorID)):\n",
        "    list_AuthorID[i]=list_AuthorID[i].rstrip()\n",
        "  print(list_AuthorID)"
      ],
      "execution_count": null,
      "outputs": []
    },
    {
      "cell_type": "code",
      "metadata": {
        "id": "9yDhK9lq8-_m"
      },
      "source": [
        "next_token=None\n",
        "max_results_author=100\n",
        "start_time = \"2017-01-01T00:00:00.000Z\"\n",
        "end_time = \"2017-12-31T23:59:59.000Z\"\n",
        "\n",
        "#print(list_AuthorID[6:7])\n",
        "for idx, element_AuthorID in enumerate(list_AuthorID[0:9]):\n",
        "  print(idx, \"：\", element_AuthorID)\n",
        "  FileName=KEYWORDS_FileName+\"_\"+str(idx)\n",
        "  Pull_tweets_from_specific_users(element_AuthorID, start_time, end_time, max_results_author, next_token, OUTPUT_DIR_RESULTS,  FileName)"
      ],
      "execution_count": null,
      "outputs": []
    }
  ]
}