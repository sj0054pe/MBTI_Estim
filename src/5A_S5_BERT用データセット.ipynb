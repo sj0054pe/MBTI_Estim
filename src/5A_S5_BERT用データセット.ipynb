{
  "nbformat": 4,
  "nbformat_minor": 0,
  "metadata": {
    "colab": {
      "name": "5A_S5_BERT用データセット.ipynb",
      "provenance": [],
      "collapsed_sections": [],
      "include_colab_link": true
    },
    "kernelspec": {
      "name": "python3",
      "display_name": "Python 3"
    },
    "language_info": {
      "name": "python"
    }
  },
  "cells": [
    {
      "cell_type": "markdown",
      "metadata": {
        "id": "view-in-github",
        "colab_type": "text"
      },
      "source": [
        "<a href=\"https://colab.research.google.com/github/sj0054pe/MBTI_Estim/blob/master/src/5A_S5_BERT%E7%94%A8%E3%83%87%E3%83%BC%E3%82%BF%E3%82%BB%E3%83%83%E3%83%88.ipynb\" target=\"_parent\"><img src=\"https://colab.research.google.com/assets/colab-badge.svg\" alt=\"Open In Colab\"/></a>"
      ]
    },
    {
      "cell_type": "markdown",
      "metadata": {
        "id": "D_sogVdVEP5f"
      },
      "source": [
        "#<center>BERT データセットの作成 S5 </center>\n",
        "\n",
        "###<center>リツイート・@mention・URLの除去・短い文(10単語未満)の削除</center>\n"
      ]
    },
    {
      "cell_type": "markdown",
      "metadata": {
        "id": "ze-KEzO7EXCz"
      },
      "source": [
        "#0. 作業環境の準備"
      ]
    },
    {
      "cell_type": "markdown",
      "metadata": {
        "id": "_bOG6b3jEZMa"
      },
      "source": [
        "##0.1. google driveのマウント"
      ]
    },
    {
      "cell_type": "code",
      "metadata": {
        "id": "-9_AsBf4Hro9",
        "colab": {
          "base_uri": "https://localhost:8080/"
        },
        "outputId": "114be4df-7108-4c1d-81b3-d8d755e661b3"
      },
      "source": [
        "from google.colab import drive\n",
        "drive.mount('/content/drive')"
      ],
      "execution_count": null,
      "outputs": [
        {
          "output_type": "stream",
          "name": "stdout",
          "text": [
            "Mounted at /content/drive\n"
          ]
        }
      ]
    },
    {
      "cell_type": "markdown",
      "metadata": {
        "id": "TVbUY3i2EfyK"
      },
      "source": [
        "##0.2. カレントディレクトリへ移動"
      ]
    },
    {
      "cell_type": "code",
      "metadata": {
        "colab": {
          "base_uri": "https://localhost:8080/"
        },
        "id": "bVrupTBrDliG",
        "outputId": "3098a766-6da0-4cbb-8cce-b1a0fe2cce44"
      },
      "source": [
        "%cd /content/drive/MyDrive/研究室/研究_M2/src"
      ],
      "execution_count": null,
      "outputs": [
        {
          "output_type": "stream",
          "name": "stdout",
          "text": [
            "/content/drive/MyDrive/研究室/研究_M2/src\n"
          ]
        }
      ]
    },
    {
      "cell_type": "markdown",
      "metadata": {
        "id": "trnekF5SFYKo"
      },
      "source": [
        "##0.3. 現在時刻の取得"
      ]
    },
    {
      "cell_type": "code",
      "metadata": {
        "colab": {
          "base_uri": "https://localhost:8080/"
        },
        "id": "yuOViur_FWTS",
        "outputId": "b273f6fd-7bca-42d5-a065-835326a208fd"
      },
      "source": [
        "import datetime\n",
        "import pytz\n",
        "\n",
        "def pull_Datetime():\n",
        "  DATETIME_now = datetime.datetime.now(pytz.timezone('Asia/Tokyo'))\n",
        "  DATETIME_now = DATETIME_now.strftime(\"%Y-%m-%d\")\n",
        "  #DATETIME_now = DATETIME_now.strftime(\"%Y/%m/%d %H:%M:%S\")\n",
        "  #print(DATETIME_now)\n",
        "\n",
        "  return DATETIME_now\n",
        "\n",
        "print(pull_Datetime())"
      ],
      "execution_count": null,
      "outputs": [
        {
          "output_type": "stream",
          "name": "stdout",
          "text": [
            "2021-10-23\n"
          ]
        }
      ]
    },
    {
      "cell_type": "markdown",
      "metadata": {
        "id": "h23GS-SaIR5s"
      },
      "source": [
        "##option. データセットの指定"
      ]
    },
    {
      "cell_type": "code",
      "metadata": {
        "id": "E-g5Hu0lIPg3"
      },
      "source": [
        "INPUT_CSV_v5='./Assets/Assets_Output/Tweet_Datasets/v5_forBERT.csv'"
      ],
      "execution_count": null,
      "outputs": []
    },
    {
      "cell_type": "markdown",
      "metadata": {
        "id": "3_vDHhmdDOK7"
      },
      "source": [
        "#1. データセットのロード"
      ]
    },
    {
      "cell_type": "code",
      "metadata": {
        "id": "DNWoMhghDLVI",
        "colab": {
          "base_uri": "https://localhost:8080/",
          "height": 335
        },
        "outputId": "4ac34abb-da88-4b39-ea8d-f0a4aaf216bb"
      },
      "source": [
        "import pandas as pd\n",
        "df_v0=pd.read_csv('%s' % INPUT_CSV_v5, engine='python')\n",
        "\n",
        "# データの確認\n",
        "print(f'データサイズ： {df_v0.shape}')\n",
        "\n",
        "df_v0[['text', 'tweet_time', 'MBTI_Type','label_EorI','label_NorS','label_ForT','label_JorP']].head()"
      ],
      "execution_count": null,
      "outputs": [
        {
          "output_type": "stream",
          "name": "stdout",
          "text": [
            "データサイズ： (483083, 16)\n"
          ]
        },
        {
          "output_type": "execute_result",
          "data": {
            "text/html": [
              "<div>\n",
              "<style scoped>\n",
              "    .dataframe tbody tr th:only-of-type {\n",
              "        vertical-align: middle;\n",
              "    }\n",
              "\n",
              "    .dataframe tbody tr th {\n",
              "        vertical-align: top;\n",
              "    }\n",
              "\n",
              "    .dataframe thead th {\n",
              "        text-align: right;\n",
              "    }\n",
              "</style>\n",
              "<table border=\"1\" class=\"dataframe\">\n",
              "  <thead>\n",
              "    <tr style=\"text-align: right;\">\n",
              "      <th></th>\n",
              "      <th>text</th>\n",
              "      <th>tweet_time</th>\n",
              "      <th>MBTI_Type</th>\n",
              "      <th>label_EorI</th>\n",
              "      <th>label_NorS</th>\n",
              "      <th>label_ForT</th>\n",
              "      <th>label_JorP</th>\n",
              "    </tr>\n",
              "  </thead>\n",
              "  <tbody>\n",
              "    <tr>\n",
              "      <th>0</th>\n",
              "      <td>RT @det_kirigakure: #毎日龍驤\\n謹賀新年、明けましておめでとうございま...</td>\n",
              "      <td>2017-12-31 15:23:39+00:00</td>\n",
              "      <td>INTJ</td>\n",
              "      <td>I</td>\n",
              "      <td>N</td>\n",
              "      <td>T</td>\n",
              "      <td>J</td>\n",
              "    </tr>\n",
              "    <tr>\n",
              "      <th>1</th>\n",
              "      <td>RT @nunnu_zero: 今流行りの壺をうちの子にプレゼントしてみた https://...</td>\n",
              "      <td>2017-12-31 10:42:48+00:00</td>\n",
              "      <td>INTJ</td>\n",
              "      <td>I</td>\n",
              "      <td>N</td>\n",
              "      <td>T</td>\n",
              "      <td>J</td>\n",
              "    </tr>\n",
              "    <tr>\n",
              "      <th>2</th>\n",
              "      <td>RT @wahiko94: 下着姿の加賀殿を描いたでござる https://t.co/rX2...</td>\n",
              "      <td>2017-12-31 10:41:44+00:00</td>\n",
              "      <td>INTJ</td>\n",
              "      <td>I</td>\n",
              "      <td>N</td>\n",
              "      <td>T</td>\n",
              "      <td>J</td>\n",
              "    </tr>\n",
              "    <tr>\n",
              "      <th>3</th>\n",
              "      <td>RT @whimgreen: ユニコーンちゃんに膝枕してもらいたい人生だった　#アズールレー...</td>\n",
              "      <td>2017-12-30 14:01:55+00:00</td>\n",
              "      <td>INTJ</td>\n",
              "      <td>I</td>\n",
              "      <td>N</td>\n",
              "      <td>T</td>\n",
              "      <td>J</td>\n",
              "    </tr>\n",
              "    <tr>\n",
              "      <th>4</th>\n",
              "      <td>RT @whimgreen: スカートの中見せてくれるのかと期待して「すけべ♪」って言われた...</td>\n",
              "      <td>2017-12-30 14:01:38+00:00</td>\n",
              "      <td>INTJ</td>\n",
              "      <td>I</td>\n",
              "      <td>N</td>\n",
              "      <td>T</td>\n",
              "      <td>J</td>\n",
              "    </tr>\n",
              "  </tbody>\n",
              "</table>\n",
              "</div>"
            ],
            "text/plain": [
              "                                                text  ... label_JorP\n",
              "0  RT @det_kirigakure: #毎日龍驤\\n謹賀新年、明けましておめでとうございま...  ...          J\n",
              "1  RT @nunnu_zero: 今流行りの壺をうちの子にプレゼントしてみた https://...  ...          J\n",
              "2  RT @wahiko94: 下着姿の加賀殿を描いたでござる https://t.co/rX2...  ...          J\n",
              "3  RT @whimgreen: ユニコーンちゃんに膝枕してもらいたい人生だった　#アズールレー...  ...          J\n",
              "4  RT @whimgreen: スカートの中見せてくれるのかと期待して「すけべ♪」って言われた...  ...          J\n",
              "\n",
              "[5 rows x 7 columns]"
            ]
          },
          "metadata": {},
          "execution_count": 5
        }
      ]
    },
    {
      "cell_type": "markdown",
      "metadata": {
        "id": "WoerHjlkIO-s"
      },
      "source": [
        "#2. データの加工"
      ]
    },
    {
      "cell_type": "markdown",
      "metadata": {
        "id": "EfelOOnbDImD"
      },
      "source": [
        "##2.1. 必要なデータ（文章とラベル）の抽出"
      ]
    },
    {
      "cell_type": "code",
      "metadata": {
        "id": "qdG1TuYZDGa_",
        "colab": {
          "base_uri": "https://localhost:8080/",
          "height": 318
        },
        "outputId": "26f0f76c-bafe-43c9-e064-043439f5b1be"
      },
      "source": [
        "df_v0.drop(['notes', 'Unnamed: 0', 'Unnamed: 0.1', 'Unnamed: 0.1.1',  'Unnamed: 0.1.1.1'],axis=1, inplace=True)\n",
        "df_v0.dropna(how='any', axis=0, inplace=True)\n",
        "\n",
        "df_v0=df_v0\n",
        "df_v0[['text', 'tweet_time', 'MBTI_Type','label_EorI','label_NorS','label_ForT','label_JorP']].head()"
      ],
      "execution_count": null,
      "outputs": [
        {
          "output_type": "execute_result",
          "data": {
            "text/html": [
              "<div>\n",
              "<style scoped>\n",
              "    .dataframe tbody tr th:only-of-type {\n",
              "        vertical-align: middle;\n",
              "    }\n",
              "\n",
              "    .dataframe tbody tr th {\n",
              "        vertical-align: top;\n",
              "    }\n",
              "\n",
              "    .dataframe thead th {\n",
              "        text-align: right;\n",
              "    }\n",
              "</style>\n",
              "<table border=\"1\" class=\"dataframe\">\n",
              "  <thead>\n",
              "    <tr style=\"text-align: right;\">\n",
              "      <th></th>\n",
              "      <th>text</th>\n",
              "      <th>tweet_time</th>\n",
              "      <th>MBTI_Type</th>\n",
              "      <th>label_EorI</th>\n",
              "      <th>label_NorS</th>\n",
              "      <th>label_ForT</th>\n",
              "      <th>label_JorP</th>\n",
              "    </tr>\n",
              "  </thead>\n",
              "  <tbody>\n",
              "    <tr>\n",
              "      <th>0</th>\n",
              "      <td>RT @det_kirigakure: #毎日龍驤\\n謹賀新年、明けましておめでとうございま...</td>\n",
              "      <td>2017-12-31 15:23:39+00:00</td>\n",
              "      <td>INTJ</td>\n",
              "      <td>I</td>\n",
              "      <td>N</td>\n",
              "      <td>T</td>\n",
              "      <td>J</td>\n",
              "    </tr>\n",
              "    <tr>\n",
              "      <th>1</th>\n",
              "      <td>RT @nunnu_zero: 今流行りの壺をうちの子にプレゼントしてみた https://...</td>\n",
              "      <td>2017-12-31 10:42:48+00:00</td>\n",
              "      <td>INTJ</td>\n",
              "      <td>I</td>\n",
              "      <td>N</td>\n",
              "      <td>T</td>\n",
              "      <td>J</td>\n",
              "    </tr>\n",
              "    <tr>\n",
              "      <th>2</th>\n",
              "      <td>RT @wahiko94: 下着姿の加賀殿を描いたでござる https://t.co/rX2...</td>\n",
              "      <td>2017-12-31 10:41:44+00:00</td>\n",
              "      <td>INTJ</td>\n",
              "      <td>I</td>\n",
              "      <td>N</td>\n",
              "      <td>T</td>\n",
              "      <td>J</td>\n",
              "    </tr>\n",
              "    <tr>\n",
              "      <th>3</th>\n",
              "      <td>RT @whimgreen: ユニコーンちゃんに膝枕してもらいたい人生だった　#アズールレー...</td>\n",
              "      <td>2017-12-30 14:01:55+00:00</td>\n",
              "      <td>INTJ</td>\n",
              "      <td>I</td>\n",
              "      <td>N</td>\n",
              "      <td>T</td>\n",
              "      <td>J</td>\n",
              "    </tr>\n",
              "    <tr>\n",
              "      <th>4</th>\n",
              "      <td>RT @whimgreen: スカートの中見せてくれるのかと期待して「すけべ♪」って言われた...</td>\n",
              "      <td>2017-12-30 14:01:38+00:00</td>\n",
              "      <td>INTJ</td>\n",
              "      <td>I</td>\n",
              "      <td>N</td>\n",
              "      <td>T</td>\n",
              "      <td>J</td>\n",
              "    </tr>\n",
              "  </tbody>\n",
              "</table>\n",
              "</div>"
            ],
            "text/plain": [
              "                                                text  ... label_JorP\n",
              "0  RT @det_kirigakure: #毎日龍驤\\n謹賀新年、明けましておめでとうございま...  ...          J\n",
              "1  RT @nunnu_zero: 今流行りの壺をうちの子にプレゼントしてみた https://...  ...          J\n",
              "2  RT @wahiko94: 下着姿の加賀殿を描いたでござる https://t.co/rX2...  ...          J\n",
              "3  RT @whimgreen: ユニコーンちゃんに膝枕してもらいたい人生だった　#アズールレー...  ...          J\n",
              "4  RT @whimgreen: スカートの中見せてくれるのかと期待して「すけべ♪」って言われた...  ...          J\n",
              "\n",
              "[5 rows x 7 columns]"
            ]
          },
          "metadata": {},
          "execution_count": 6
        }
      ]
    },
    {
      "cell_type": "markdown",
      "metadata": {
        "id": "7s8fnWpYIYeh"
      },
      "source": [
        "##2.2. データからリツイートの投稿を除去"
      ]
    },
    {
      "cell_type": "code",
      "metadata": {
        "colab": {
          "base_uri": "https://localhost:8080/",
          "height": 388
        },
        "id": "M8rWbb5qg1L8",
        "outputId": "edb30aa4-64cb-4bd6-c8dd-3dd5f6ab2e02"
      },
      "source": [
        "#dfXXX=df['text'].str.extract(r'RT\\ @(.*)', expand=True) \n",
        "df = df_v0[~df_v0['text'].str.contains(r'RT\\ @(.*)')]\n",
        "#dfXXX = df[~df['text'].str.startswith('RT ')]\n",
        "df[['text', 'tweet_time', 'MBTI_Type','label_EorI','label_NorS','label_ForT','label_JorP']].head()"
      ],
      "execution_count": null,
      "outputs": [
        {
          "output_type": "stream",
          "name": "stderr",
          "text": [
            "/usr/local/lib/python3.7/dist-packages/pandas/core/strings.py:2001: UserWarning: This pattern has match groups. To actually get the groups, use str.extract.\n",
            "  return func(self, *args, **kwargs)\n"
          ]
        },
        {
          "output_type": "execute_result",
          "data": {
            "text/html": [
              "<div>\n",
              "<style scoped>\n",
              "    .dataframe tbody tr th:only-of-type {\n",
              "        vertical-align: middle;\n",
              "    }\n",
              "\n",
              "    .dataframe tbody tr th {\n",
              "        vertical-align: top;\n",
              "    }\n",
              "\n",
              "    .dataframe thead th {\n",
              "        text-align: right;\n",
              "    }\n",
              "</style>\n",
              "<table border=\"1\" class=\"dataframe\">\n",
              "  <thead>\n",
              "    <tr style=\"text-align: right;\">\n",
              "      <th></th>\n",
              "      <th>text</th>\n",
              "      <th>tweet_time</th>\n",
              "      <th>MBTI_Type</th>\n",
              "      <th>label_EorI</th>\n",
              "      <th>label_NorS</th>\n",
              "      <th>label_ForT</th>\n",
              "      <th>label_JorP</th>\n",
              "    </tr>\n",
              "  </thead>\n",
              "  <tbody>\n",
              "    <tr>\n",
              "      <th>5</th>\n",
              "      <td>@ha_ma あけおめなのよ。ことよろなのよ。</td>\n",
              "      <td>2017-12-30 12:02:23+00:00</td>\n",
              "      <td>INTJ</td>\n",
              "      <td>I</td>\n",
              "      <td>N</td>\n",
              "      <td>T</td>\n",
              "      <td>J</td>\n",
              "    </tr>\n",
              "    <tr>\n",
              "      <th>11</th>\n",
              "      <td>CLIP STUDIO TABMATEがコミケで販売されたそうだけど買った方いるのかな！？</td>\n",
              "      <td>2017-12-29 14:01:24+00:00</td>\n",
              "      <td>INTJ</td>\n",
              "      <td>I</td>\n",
              "      <td>N</td>\n",
              "      <td>T</td>\n",
              "      <td>J</td>\n",
              "    </tr>\n",
              "    <tr>\n",
              "      <th>100</th>\n",
              "      <td>中小の劇団のチケットって、安すぎたら箱や演者やスタッフさんのギャラが払えない。かと言って高く...</td>\n",
              "      <td>2017-11-26 06:54:54+00:00</td>\n",
              "      <td>INTJ</td>\n",
              "      <td>I</td>\n",
              "      <td>N</td>\n",
              "      <td>T</td>\n",
              "      <td>J</td>\n",
              "    </tr>\n",
              "    <tr>\n",
              "      <th>104</th>\n",
              "      <td>Vステなら大丈夫だったのになぁ…\\nまぁQちゃんの事だからなんとかなるでしょう。</td>\n",
              "      <td>2017-11-19 16:00:34+00:00</td>\n",
              "      <td>INTJ</td>\n",
              "      <td>I</td>\n",
              "      <td>N</td>\n",
              "      <td>T</td>\n",
              "      <td>J</td>\n",
              "    </tr>\n",
              "    <tr>\n",
              "      <th>105</th>\n",
              "      <td>すげー！！耐えた！！ #鉄腕DASH</td>\n",
              "      <td>2017-11-19 10:32:29+00:00</td>\n",
              "      <td>INTJ</td>\n",
              "      <td>I</td>\n",
              "      <td>N</td>\n",
              "      <td>T</td>\n",
              "      <td>J</td>\n",
              "    </tr>\n",
              "  </tbody>\n",
              "</table>\n",
              "</div>"
            ],
            "text/plain": [
              "                                                  text  ... label_JorP\n",
              "5                              @ha_ma あけおめなのよ。ことよろなのよ。  ...          J\n",
              "11       CLIP STUDIO TABMATEがコミケで販売されたそうだけど買った方いるのかな！？  ...          J\n",
              "100  中小の劇団のチケットって、安すぎたら箱や演者やスタッフさんのギャラが払えない。かと言って高く...  ...          J\n",
              "104           Vステなら大丈夫だったのになぁ…\\nまぁQちゃんの事だからなんとかなるでしょう。  ...          J\n",
              "105                                 すげー！！耐えた！！ #鉄腕DASH  ...          J\n",
              "\n",
              "[5 rows x 7 columns]"
            ]
          },
          "metadata": {},
          "execution_count": 7
        }
      ]
    },
    {
      "cell_type": "markdown",
      "metadata": {
        "id": "MTOKetegJCyU"
      },
      "source": [
        "##2.3. @mention・URLの削除"
      ]
    },
    {
      "cell_type": "code",
      "metadata": {
        "colab": {
          "base_uri": "https://localhost:8080/",
          "height": 238
        },
        "id": "SLQnjL3dSTUC",
        "outputId": "59295778-69be-454a-8795-3c5944e89cce"
      },
      "source": [
        "import re\n",
        "import numpy as np\n",
        "\n",
        "def remove_MENTIONandURL(text):\n",
        "  list_text=re.split(' |\\n', text)\n",
        "  #print(list_text)\n",
        "  len_list=len(list_text)\n",
        "  Nan = np.nan\n",
        "  count_element=0\n",
        "  element_mention=None\n",
        "  element_URL=None\n",
        "  for idx, element in enumerate(list_text):\n",
        "    if re.match(r'(^)(@)[^a-zA-Z0-9_]*', element):\n",
        "      element_mention=element\n",
        "    if element.startswith('https:'):\n",
        "      element_URL=element\n",
        "      \n",
        "  #print(element_mention, element_URL)\n",
        "  if element_mention==None:\n",
        "    pass\n",
        "  else:\n",
        "    list_text.remove(element_mention)\n",
        "  if element_URL==None:\n",
        "    pass\n",
        "  else:\n",
        "    list_text.remove(element_URL)\n",
        "\n",
        "  Z=' '.join(list_text)\n",
        "  \n",
        "  return Z\n",
        "\n",
        "df['text'] = df['text'].map(remove_MENTIONandURL)\n",
        "df.dropna(how='any', axis=0, inplace=True)\n",
        "df['text']"
      ],
      "execution_count": null,
      "outputs": [
        {
          "output_type": "error",
          "ename": "NameError",
          "evalue": "ignored",
          "traceback": [
            "\u001b[0;31m---------------------------------------------------------------------------\u001b[0m",
            "\u001b[0;31mNameError\u001b[0m                                 Traceback (most recent call last)",
            "\u001b[0;32m<ipython-input-2-2fcb95c54655>\u001b[0m in \u001b[0;36m<module>\u001b[0;34m()\u001b[0m\n\u001b[1;32m     31\u001b[0m   \u001b[0;32mreturn\u001b[0m \u001b[0mZ\u001b[0m\u001b[0;34m\u001b[0m\u001b[0;34m\u001b[0m\u001b[0m\n\u001b[1;32m     32\u001b[0m \u001b[0;34m\u001b[0m\u001b[0m\n\u001b[0;32m---> 33\u001b[0;31m \u001b[0mdf\u001b[0m\u001b[0;34m[\u001b[0m\u001b[0;34m'text'\u001b[0m\u001b[0;34m]\u001b[0m \u001b[0;34m=\u001b[0m \u001b[0mdf\u001b[0m\u001b[0;34m[\u001b[0m\u001b[0;34m'text'\u001b[0m\u001b[0;34m]\u001b[0m\u001b[0;34m.\u001b[0m\u001b[0mmap\u001b[0m\u001b[0;34m(\u001b[0m\u001b[0mremove_MENTIONandURL\u001b[0m\u001b[0;34m)\u001b[0m\u001b[0;34m\u001b[0m\u001b[0;34m\u001b[0m\u001b[0m\n\u001b[0m\u001b[1;32m     34\u001b[0m \u001b[0mdf\u001b[0m\u001b[0;34m.\u001b[0m\u001b[0mdropna\u001b[0m\u001b[0;34m(\u001b[0m\u001b[0mhow\u001b[0m\u001b[0;34m=\u001b[0m\u001b[0;34m'any'\u001b[0m\u001b[0;34m,\u001b[0m \u001b[0maxis\u001b[0m\u001b[0;34m=\u001b[0m\u001b[0;36m0\u001b[0m\u001b[0;34m,\u001b[0m \u001b[0minplace\u001b[0m\u001b[0;34m=\u001b[0m\u001b[0;32mTrue\u001b[0m\u001b[0;34m)\u001b[0m\u001b[0;34m\u001b[0m\u001b[0;34m\u001b[0m\u001b[0m\n\u001b[1;32m     35\u001b[0m \u001b[0mdf\u001b[0m\u001b[0;34m[\u001b[0m\u001b[0;34m'text'\u001b[0m\u001b[0;34m]\u001b[0m\u001b[0;34m\u001b[0m\u001b[0;34m\u001b[0m\u001b[0m\n",
            "\u001b[0;31mNameError\u001b[0m: name 'df' is not defined"
          ]
        }
      ]
    },
    {
      "cell_type": "code",
      "metadata": {
        "colab": {
          "base_uri": "https://localhost:8080/",
          "height": 285
        },
        "id": "2UKLdNii03gl",
        "outputId": "26cbbcdb-03a8-4a06-8fa1-d78629afa117"
      },
      "source": [
        "df_v3 = df\n",
        "#df_v3=df.sample(n=100)\n",
        "df_v3[['text', 'tweet_time', 'conversation_id','MBTI_Type']].head(5)"
      ],
      "execution_count": null,
      "outputs": [
        {
          "output_type": "execute_result",
          "data": {
            "text/html": [
              "<div>\n",
              "<style scoped>\n",
              "    .dataframe tbody tr th:only-of-type {\n",
              "        vertical-align: middle;\n",
              "    }\n",
              "\n",
              "    .dataframe tbody tr th {\n",
              "        vertical-align: top;\n",
              "    }\n",
              "\n",
              "    .dataframe thead th {\n",
              "        text-align: right;\n",
              "    }\n",
              "</style>\n",
              "<table border=\"1\" class=\"dataframe\">\n",
              "  <thead>\n",
              "    <tr style=\"text-align: right;\">\n",
              "      <th></th>\n",
              "      <th>text</th>\n",
              "      <th>tweet_time</th>\n",
              "      <th>conversation_id</th>\n",
              "      <th>MBTI_Type</th>\n",
              "    </tr>\n",
              "  </thead>\n",
              "  <tbody>\n",
              "    <tr>\n",
              "      <th>5</th>\n",
              "      <td>あけおめなのよ。ことよろなのよ。</td>\n",
              "      <td>2017-12-30 12:02:23+00:00</td>\n",
              "      <td>9.470752e+17</td>\n",
              "      <td>INTJ</td>\n",
              "    </tr>\n",
              "    <tr>\n",
              "      <th>11</th>\n",
              "      <td>CLIP STUDIO TABMATEがコミケで販売されたそうだけど買った方いるのかな！？</td>\n",
              "      <td>2017-12-29 14:01:24+00:00</td>\n",
              "      <td>9.467430e+17</td>\n",
              "      <td>INTJ</td>\n",
              "    </tr>\n",
              "    <tr>\n",
              "      <th>100</th>\n",
              "      <td>中小の劇団のチケットって、安すぎたら箱や演者やスタッフさんのギャラが払えない。かと言って高く...</td>\n",
              "      <td>2017-11-26 06:54:54+00:00</td>\n",
              "      <td>9.346768e+17</td>\n",
              "      <td>INTJ</td>\n",
              "    </tr>\n",
              "    <tr>\n",
              "      <th>104</th>\n",
              "      <td>Vステなら大丈夫だったのになぁ… まぁQちゃんの事だからなんとかなるでしょう。</td>\n",
              "      <td>2017-11-19 16:00:34+00:00</td>\n",
              "      <td>9.322774e+17</td>\n",
              "      <td>INTJ</td>\n",
              "    </tr>\n",
              "    <tr>\n",
              "      <th>105</th>\n",
              "      <td>すげー！！耐えた！！ #鉄腕DASH</td>\n",
              "      <td>2017-11-19 10:32:29+00:00</td>\n",
              "      <td>9.321949e+17</td>\n",
              "      <td>INTJ</td>\n",
              "    </tr>\n",
              "  </tbody>\n",
              "</table>\n",
              "</div>"
            ],
            "text/plain": [
              "                                                  text  ... MBTI_Type\n",
              "5                                     あけおめなのよ。ことよろなのよ。  ...      INTJ\n",
              "11       CLIP STUDIO TABMATEがコミケで販売されたそうだけど買った方いるのかな！？  ...      INTJ\n",
              "100  中小の劇団のチケットって、安すぎたら箱や演者やスタッフさんのギャラが払えない。かと言って高く...  ...      INTJ\n",
              "104            Vステなら大丈夫だったのになぁ… まぁQちゃんの事だからなんとかなるでしょう。  ...      INTJ\n",
              "105                                 すげー！！耐えた！！ #鉄腕DASH  ...      INTJ\n",
              "\n",
              "[5 rows x 4 columns]"
            ]
          },
          "metadata": {},
          "execution_count": 9
        }
      ]
    },
    {
      "cell_type": "code",
      "metadata": {
        "colab": {
          "base_uri": "https://localhost:8080/"
        },
        "id": "9w43PETgHXZw",
        "outputId": "126858c4-6378-4778-b2a7-793c5ffc8c1c"
      },
      "source": [
        "!pip install janome"
      ],
      "execution_count": null,
      "outputs": [
        {
          "output_type": "stream",
          "name": "stdout",
          "text": [
            "Collecting janome\n",
            "  Downloading Janome-0.4.1-py2.py3-none-any.whl (19.7 MB)\n",
            "\u001b[K     |████████████████████████████████| 19.7 MB 6.3 MB/s \n",
            "\u001b[?25hInstalling collected packages: janome\n",
            "Successfully installed janome-0.4.1\n"
          ]
        }
      ]
    },
    {
      "cell_type": "code",
      "metadata": {
        "id": "MzymQ2zkFW7q",
        "colab": {
          "base_uri": "https://localhost:8080/"
        },
        "outputId": "7e45f466-3d44-4946-fae6-42c61d893b2b"
      },
      "source": [
        "from janome.tokenizer import Tokenizer\n",
        "import collections\n",
        "from tqdm.notebook import tqdm\n",
        "\n",
        "import re\n",
        "import numpy as np\n",
        "\n",
        "t = Tokenizer()\n",
        "\n",
        "def remove_ShortText(text):\n",
        "    one_tweet = \"\".join(text) #\"\\n\".join(text)\n",
        "    # print(\"----------------------------------------\")\n",
        "    # print(one_tweet)\n",
        "    # print('↓')\n",
        "\n",
        "    Nan = np.nan\n",
        "    if len(list(t.tokenize(one_tweet)))> 9:\n",
        "        #print(\"長い : \", one_tweet)\n",
        "        #pass\n",
        "        return one_tweet\n",
        "    else:\n",
        "        #print(\"短い : \", one_tweet)\n",
        "        return None\n",
        "\n",
        "# remove_ShortText(text)\n",
        "# print()\n",
        "#QQQ= df_v3['text'][1:100].map(remove_ShortText)\n",
        "df_v3['text'] = df_v3['text'][:].map(remove_ShortText)\n",
        "df_v3.dropna(how='any', axis=0, inplace=True)\n",
        "df_v3['text']"
      ],
      "execution_count": null,
      "outputs": [
        {
          "output_type": "stream",
          "name": "stderr",
          "text": [
            "/usr/local/lib/python3.7/dist-packages/ipykernel_launcher.py:28: SettingWithCopyWarning: \n",
            "A value is trying to be set on a copy of a slice from a DataFrame.\n",
            "Try using .loc[row_indexer,col_indexer] = value instead\n",
            "\n",
            "See the caveats in the documentation: https://pandas.pydata.org/pandas-docs/stable/user_guide/indexing.html#returning-a-view-versus-a-copy\n",
            "/usr/local/lib/python3.7/dist-packages/ipykernel_launcher.py:29: SettingWithCopyWarning: \n",
            "A value is trying to be set on a copy of a slice from a DataFrame\n",
            "\n",
            "See the caveats in the documentation: https://pandas.pydata.org/pandas-docs/stable/user_guide/indexing.html#returning-a-view-versus-a-copy\n"
          ]
        },
        {
          "output_type": "execute_result",
          "data": {
            "text/plain": [
              "5                                          あけおめなのよ。ことよろなのよ。\n",
              "11            CLIP STUDIO TABMATEがコミケで販売されたそうだけど買った方いるのかな！？\n",
              "100       中小の劇団のチケットって、安すぎたら箱や演者やスタッフさんのギャラが払えない。かと言って高く...\n",
              "104                 Vステなら大丈夫だったのになぁ… まぁQちゃんの事だからなんとかなるでしょう。\n",
              "105                                      すげー！！耐えた！！ #鉄腕DASH\n",
              "                                ...                        \n",
              "483076                   肩と背中が痛いと言ったらうちの子に肩たたきをしてもらった  ほっこり\n",
              "483078      もう無理なんでそんな元気なんこれから仕事行って第2ラウンドカラオケとかもうどうなってるんその体\n",
              "483079                        こんな時間から声なんて出ないよあほむすめぇぇぇぇ ｹﾞﾎｯ\n",
              "483080    コンタクトどこ行った？ →私「まさか捨てた？」 →捨ててたわ  ていうかマンガみたいな会話を...\n",
              "483081    お薬スープ200、角煮100、お寿司100、 ……仕込みが終わった。これでせめて１日位もってくれ。\n",
              "Name: text, Length: 242876, dtype: object"
            ]
          },
          "metadata": {},
          "execution_count": 11
        }
      ]
    },
    {
      "cell_type": "code",
      "metadata": {
        "id": "A_PIuPyiHjEe",
        "colab": {
          "base_uri": "https://localhost:8080/"
        },
        "outputId": "0ec6e19e-5173-4a81-c6ea-9b1b25cf7bba"
      },
      "source": [
        "df_v3['text'].head(5)"
      ],
      "execution_count": null,
      "outputs": [
        {
          "output_type": "execute_result",
          "data": {
            "text/plain": [
              "5                                       あけおめなのよ。ことよろなのよ。\n",
              "11         CLIP STUDIO TABMATEがコミケで販売されたそうだけど買った方いるのかな！？\n",
              "100    中小の劇団のチケットって、安すぎたら箱や演者やスタッフさんのギャラが払えない。かと言って高く...\n",
              "104              Vステなら大丈夫だったのになぁ… まぁQちゃんの事だからなんとかなるでしょう。\n",
              "105                                   すげー！！耐えた！！ #鉄腕DASH\n",
              "Name: text, dtype: object"
            ]
          },
          "metadata": {},
          "execution_count": 12
        }
      ]
    },
    {
      "cell_type": "markdown",
      "metadata": {
        "id": "BaFpdaKIJX--"
      },
      "source": [
        "#3. データの保存"
      ]
    },
    {
      "cell_type": "markdown",
      "metadata": {
        "id": "O2WTRGk8JwGk"
      },
      "source": [
        "##3.1. 手法4までで作成した投稿を更新"
      ]
    },
    {
      "cell_type": "code",
      "metadata": {
        "colab": {
          "base_uri": "https://localhost:8080/"
        },
        "id": "PoWjqZIGXLHY",
        "outputId": "adefa488-12c3-45f5-c3a7-7fc4277ea9d3"
      },
      "source": [
        "df_all=df_v3\n",
        "print(f'データサイズ： {df_all.shape}')\n",
        "\n",
        "FileName=pull_Datetime()\n",
        "df_all.to_csv('./Assets/Assets_Output/Tweet_Datasets/v6S5_all_%s.csv' % FileName)\n",
        "print('./Assets/Assets_Output/Tweet_Datasets/v6S5_all_%s.csv' % FileName)"
      ],
      "execution_count": null,
      "outputs": [
        {
          "output_type": "stream",
          "name": "stdout",
          "text": [
            "データサイズ： (242876, 11)\n",
            "./Assets/Assets_Output/Tweet_Datasets/v6S5_all_2021-10-23.csv\n"
          ]
        }
      ]
    },
    {
      "cell_type": "markdown",
      "metadata": {
        "id": "BfkmBc_PHJO_"
      },
      "source": [
        "##3.2. データセットS5の作成"
      ]
    },
    {
      "cell_type": "code",
      "metadata": {
        "id": "uUgUVfrpXDvi"
      },
      "source": [
        "import random\n",
        " #データの抽出\n",
        "df_S=df_all.sample(n=10000)"
      ],
      "execution_count": null,
      "outputs": []
    },
    {
      "cell_type": "code",
      "metadata": {
        "id": "9h-t2ZDKDu3b",
        "colab": {
          "base_uri": "https://localhost:8080/"
        },
        "outputId": "8cfe0126-4975-40b5-9de9-e5f23703b3c4"
      },
      "source": [
        "FileName=pull_Datetime()\n",
        "df_S.to_csv('./Assets/Assets_Output/Tweet_Datasets/v6S5_forBERT_%s.csv' % FileName)\n",
        "print('./Assets/Assets_Output/Tweet_Datasets/v6S5_forBERT_%s.csv' % FileName)"
      ],
      "execution_count": null,
      "outputs": [
        {
          "output_type": "stream",
          "name": "stdout",
          "text": [
            "./Assets/Assets_Output/Tweet_Datasets/v6S5_forBERT_2021-10-23.csv\n"
          ]
        }
      ]
    },
    {
      "cell_type": "markdown",
      "metadata": {
        "id": "YsrUCO-iKB7E"
      },
      "source": [
        "##3.3. 記録用に各指標のユーザー数を表示"
      ]
    },
    {
      "cell_type": "code",
      "metadata": {
        "id": "jMNuZU7RJQb0",
        "colab": {
          "base_uri": "https://localhost:8080/"
        },
        "outputId": "bc2efc20-eb8d-4bf0-c7c7-20a25a87a624"
      },
      "source": [
        "def num_Type_Index(element):\n",
        "  num_Users_Type=df_S.groupby(['%s' % element])\n",
        "  num_Users_Type.groups\n",
        "  num_Users_Type.size()\n",
        "\n",
        "  print(num_Users_Type.size())\n",
        "  print()\n",
        "\n",
        "for element in [\"label_EorI\", \"label_NorS\", \"label_ForT\", \"label_JorP\"] :\n",
        "  num_Type_Index(element)"
      ],
      "execution_count": null,
      "outputs": [
        {
          "output_type": "stream",
          "name": "stdout",
          "text": [
            "label_EorI\n",
            "E    1569\n",
            "I    8431\n",
            "dtype: int64\n",
            "\n",
            "label_NorS\n",
            "N    5800\n",
            "S    4200\n",
            "dtype: int64\n",
            "\n",
            "label_ForT\n",
            "F    6762\n",
            "T    3238\n",
            "dtype: int64\n",
            "\n",
            "label_JorP\n",
            "J    3438\n",
            "P    6562\n",
            "dtype: int64\n",
            "\n"
          ]
        }
      ]
    },
    {
      "cell_type": "markdown",
      "metadata": {
        "id": "nAimVY9mNECW"
      },
      "source": [
        "#Option 最大単語数の計算"
      ]
    },
    {
      "cell_type": "code",
      "metadata": {
        "id": "FRGWwwCDOzRy"
      },
      "source": [
        "!pip install transformers\n",
        "\n",
        "!pip install fugashi\n",
        "!pip install ipadic"
      ],
      "execution_count": null,
      "outputs": []
    },
    {
      "cell_type": "code",
      "metadata": {
        "id": "m_kHyljMO3_T"
      },
      "source": [
        "## Tokenizerの準備\n",
        "from transformers import BertJapaneseTokenizer\n",
        "tokenizer = BertJapaneseTokenizer.from_pretrained('cl-tohoku/bert-base-japanese-whole-word-masking')"
      ],
      "execution_count": null,
      "outputs": []
    },
    {
      "cell_type": "code",
      "metadata": {
        "id": "hh23o-DSNDOg"
      },
      "source": [
        "from tqdm.notebook import tqdm\n",
        "import numpy as np\n",
        "\n",
        "def num_max_words(TYPE_INDEX):\n",
        "  sentences= df_S['text'].values #sentences = df.sentence.values\n",
        "  labels= df_S['%s' % TYPE_INDEX].values #labels = df.label.values\n",
        "\n",
        "  # 最大単語数の確認\n",
        "  max_len = []\n",
        "  # 1文づつ処理\n",
        "  len_sentences = len(sentences)\n",
        "  for sent in tqdm(sentences):\n",
        "      # Tokenizeで分割\n",
        "      token_words = tokenizer.tokenize(sent)\n",
        "      # 文章数を取得してリストへ格納\n",
        "      max_len.append(len(token_words))\n",
        "  # 最大の値を確認\n",
        "  len_max=max(max_len)\n",
        "  #len_q0, len_q25, len_q50, len_q75, len_q100=np.percentile(max_len,  [0, 25, 50, 75, 100])\n",
        "  #len_q75=int(len_q75)\n",
        "  print('最大単語数: ', max(max_len))\n",
        "\n",
        "for element in [\"label_EorI\", \"label_NorS\", \"label_ForT\", \"label_JorP\"] :\n",
        "  num_max_words(element)"
      ],
      "execution_count": null,
      "outputs": []
    }
  ]
}