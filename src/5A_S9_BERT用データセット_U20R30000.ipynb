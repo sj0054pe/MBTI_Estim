{
  "nbformat": 4,
  "nbformat_minor": 0,
  "metadata": {
    "colab": {
      "name": "5A_S9_BERT用データセット_U20R30000.ipynb",
      "provenance": [],
      "collapsed_sections": [],
      "include_colab_link": true
    },
    "kernelspec": {
      "name": "python3",
      "display_name": "Python 3"
    },
    "language_info": {
      "name": "python"
    }
  },
  "cells": [
    {
      "cell_type": "markdown",
      "metadata": {
        "id": "view-in-github",
        "colab_type": "text"
      },
      "source": [
        "<a href=\"https://colab.research.google.com/github/sj0054pe/MBTI_Estim/blob/master/src/5A_S9_BERT%E7%94%A8%E3%83%87%E3%83%BC%E3%82%BF%E3%82%BB%E3%83%83%E3%83%88_U20R30000.ipynb\" target=\"_parent\"><img src=\"https://colab.research.google.com/assets/colab-badge.svg\" alt=\"Open In Colab\"/></a>"
      ]
    },
    {
      "cell_type": "markdown",
      "metadata": {
        "id": "D_sogVdVEP5f"
      },
      "source": [
        "#<center>BERT データセットの作成 S9</center>\n",
        "\n",
        "###<center>リツイート・@mention・URLの除去・短い文(20単語未満)の削除</center>\n",
        "\n",
        "###<center>各尺度で3万件ずつ用意</center>\n"
      ]
    },
    {
      "cell_type": "markdown",
      "metadata": {
        "id": "ze-KEzO7EXCz"
      },
      "source": [
        "#0. 作業環境の準備"
      ]
    },
    {
      "cell_type": "markdown",
      "metadata": {
        "id": "_bOG6b3jEZMa"
      },
      "source": [
        "##0.1. google driveのマウント"
      ]
    },
    {
      "cell_type": "code",
      "metadata": {
        "id": "-9_AsBf4Hro9",
        "colab": {
          "base_uri": "https://localhost:8080/"
        },
        "outputId": "e29e2add-b7a2-4383-dccb-bd2a9aba5117"
      },
      "source": [
        "from google.colab import drive\n",
        "drive.mount('/content/drive')"
      ],
      "execution_count": null,
      "outputs": [
        {
          "output_type": "stream",
          "name": "stdout",
          "text": [
            "Mounted at /content/drive\n"
          ]
        }
      ]
    },
    {
      "cell_type": "markdown",
      "metadata": {
        "id": "TVbUY3i2EfyK"
      },
      "source": [
        "##0.2. カレントディレクトリへ移動"
      ]
    },
    {
      "cell_type": "code",
      "metadata": {
        "colab": {
          "base_uri": "https://localhost:8080/"
        },
        "id": "bVrupTBrDliG",
        "outputId": "b35a0a7e-18a4-4436-f705-3d77417312b1"
      },
      "source": [
        "%cd /content/drive/MyDrive/研究室/研究_M2/src"
      ],
      "execution_count": null,
      "outputs": [
        {
          "output_type": "stream",
          "name": "stdout",
          "text": [
            "/content/drive/MyDrive/研究室/研究_M2/src\n"
          ]
        }
      ]
    },
    {
      "cell_type": "markdown",
      "metadata": {
        "id": "trnekF5SFYKo"
      },
      "source": [
        "##0.3. 現在時刻の取得"
      ]
    },
    {
      "cell_type": "code",
      "metadata": {
        "colab": {
          "base_uri": "https://localhost:8080/"
        },
        "id": "yuOViur_FWTS",
        "outputId": "112115c7-3267-4c50-d772-f1376451bb11"
      },
      "source": [
        "import datetime\n",
        "import pytz\n",
        "\n",
        "def pull_Datetime():\n",
        "  DATETIME_now = datetime.datetime.now(pytz.timezone('Asia/Tokyo'))\n",
        "  DATETIME_now = DATETIME_now.strftime(\"%Y-%m-%d\")\n",
        "  #DATETIME_now = DATETIME_now.strftime(\"%Y/%m/%d %H:%M:%S\")\n",
        "  #print(DATETIME_now)\n",
        "\n",
        "  return DATETIME_now\n",
        "\n",
        "print(pull_Datetime())"
      ],
      "execution_count": null,
      "outputs": [
        {
          "output_type": "stream",
          "name": "stdout",
          "text": [
            "2021-12-08\n"
          ]
        }
      ]
    },
    {
      "cell_type": "code",
      "metadata": {
        "colab": {
          "base_uri": "https://localhost:8080/"
        },
        "id": "W33_RSKyJNEn",
        "outputId": "a34d0bd7-b259-40a9-c707-fe9c6031a3fd"
      },
      "source": [
        "SEASONS='S9'\n",
        "HIGHER ='20'\n",
        "RAFFLE=30000\n",
        "\n",
        "TERM='%s_W%s_R%s' % (SEASONS, HIGHER, RAFFLE)\n",
        "print(TERM)"
      ],
      "execution_count": null,
      "outputs": [
        {
          "output_type": "stream",
          "name": "stdout",
          "text": [
            "S9_W20_R30000\n"
          ]
        }
      ]
    },
    {
      "cell_type": "markdown",
      "metadata": {
        "id": "h23GS-SaIR5s"
      },
      "source": [
        "##option. データセットの指定"
      ]
    },
    {
      "cell_type": "code",
      "metadata": {
        "id": "E-g5Hu0lIPg3"
      },
      "source": [
        "INPUT_CSV_v5='./Assets/Assets_Output/Tweet_Datasets/v7_all_2021-12-04_W20,csv'\n",
        "INPUT_CSV_v5='./Assets/Assets_Output/Tweet_Datasets/v7_all_2021-12-04_W20.csv'"
      ],
      "execution_count": null,
      "outputs": []
    },
    {
      "cell_type": "markdown",
      "metadata": {
        "id": "3_vDHhmdDOK7"
      },
      "source": [
        "#1. データセットのロード"
      ]
    },
    {
      "cell_type": "code",
      "metadata": {
        "id": "DNWoMhghDLVI",
        "colab": {
          "base_uri": "https://localhost:8080/",
          "height": 310
        },
        "outputId": "a9f00c04-3eae-431c-dc3d-bd8f05e61e49"
      },
      "source": [
        "import pandas as pd\n",
        "df_v0=pd.read_csv('%s' % INPUT_CSV_v5, engine='python')\n",
        "\n",
        "# データの確認\n",
        "print(f'データサイズ： {df_v0.shape}')\n",
        "\n",
        "df_v0[['text', 'tweet_time', 'MBTI_Type','label_EorI','label_NorS','label_ForT','label_JorP']].head()"
      ],
      "execution_count": null,
      "outputs": [
        {
          "output_type": "stream",
          "name": "stdout",
          "text": [
            "データサイズ： (133350, 14)\n"
          ]
        },
        {
          "output_type": "execute_result",
          "data": {
            "text/html": [
              "<div>\n",
              "<style scoped>\n",
              "    .dataframe tbody tr th:only-of-type {\n",
              "        vertical-align: middle;\n",
              "    }\n",
              "\n",
              "    .dataframe tbody tr th {\n",
              "        vertical-align: top;\n",
              "    }\n",
              "\n",
              "    .dataframe thead th {\n",
              "        text-align: right;\n",
              "    }\n",
              "</style>\n",
              "<table border=\"1\" class=\"dataframe\">\n",
              "  <thead>\n",
              "    <tr style=\"text-align: right;\">\n",
              "      <th></th>\n",
              "      <th>text</th>\n",
              "      <th>tweet_time</th>\n",
              "      <th>MBTI_Type</th>\n",
              "      <th>label_EorI</th>\n",
              "      <th>label_NorS</th>\n",
              "      <th>label_ForT</th>\n",
              "      <th>label_JorP</th>\n",
              "    </tr>\n",
              "  </thead>\n",
              "  <tbody>\n",
              "    <tr>\n",
              "      <th>0</th>\n",
              "      <td>CLIP STUDIO TABMATEがコミケで販売されたそうだけど買った方いるのかな！？</td>\n",
              "      <td>2017-12-29 14:01:24+00:00</td>\n",
              "      <td>INTJ</td>\n",
              "      <td>I</td>\n",
              "      <td>N</td>\n",
              "      <td>T</td>\n",
              "      <td>J</td>\n",
              "    </tr>\n",
              "    <tr>\n",
              "      <th>1</th>\n",
              "      <td>中小の劇団のチケットって、安すぎたら箱や演者やスタッフさんのギャラが払えない。かと言って高く...</td>\n",
              "      <td>2017-11-26 06:54:54+00:00</td>\n",
              "      <td>INTJ</td>\n",
              "      <td>I</td>\n",
              "      <td>N</td>\n",
              "      <td>T</td>\n",
              "      <td>J</td>\n",
              "    </tr>\n",
              "    <tr>\n",
              "      <th>2</th>\n",
              "      <td>Vステなら大丈夫だったのになぁ… まぁQちゃんの事だからなんとかなるでしょう。</td>\n",
              "      <td>2017-11-19 16:00:34+00:00</td>\n",
              "      <td>INTJ</td>\n",
              "      <td>I</td>\n",
              "      <td>N</td>\n",
              "      <td>T</td>\n",
              "      <td>J</td>\n",
              "    </tr>\n",
              "    <tr>\n",
              "      <th>3</th>\n",
              "      <td>こんなにカッコよくキメてたのに…#buzzup BOOSTER - KEN THE 390,...</td>\n",
              "      <td>2017-11-09 14:32:30+00:00</td>\n",
              "      <td>INTJ</td>\n",
              "      <td>I</td>\n",
              "      <td>N</td>\n",
              "      <td>T</td>\n",
              "      <td>J</td>\n",
              "    </tr>\n",
              "    <tr>\n",
              "      <th>4</th>\n",
              "      <td>ブーメランパンツはあなたの息子と一緒にクリスマスの一夜を過ごします。可愛がってくださいね。 ...</td>\n",
              "      <td>2017-11-07 16:36:08+00:00</td>\n",
              "      <td>INTJ</td>\n",
              "      <td>I</td>\n",
              "      <td>N</td>\n",
              "      <td>T</td>\n",
              "      <td>J</td>\n",
              "    </tr>\n",
              "  </tbody>\n",
              "</table>\n",
              "</div>"
            ],
            "text/plain": [
              "                                                text  ... label_JorP\n",
              "0      CLIP STUDIO TABMATEがコミケで販売されたそうだけど買った方いるのかな！？  ...          J\n",
              "1  中小の劇団のチケットって、安すぎたら箱や演者やスタッフさんのギャラが払えない。かと言って高く...  ...          J\n",
              "2            Vステなら大丈夫だったのになぁ… まぁQちゃんの事だからなんとかなるでしょう。  ...          J\n",
              "3  こんなにカッコよくキメてたのに…#buzzup BOOSTER - KEN THE 390,...  ...          J\n",
              "4  ブーメランパンツはあなたの息子と一緒にクリスマスの一夜を過ごします。可愛がってくださいね。 ...  ...          J\n",
              "\n",
              "[5 rows x 7 columns]"
            ]
          },
          "metadata": {},
          "execution_count": 6
        }
      ]
    },
    {
      "cell_type": "markdown",
      "metadata": {
        "id": "WoerHjlkIO-s"
      },
      "source": [
        "#2. データの加工"
      ]
    },
    {
      "cell_type": "markdown",
      "metadata": {
        "id": "EfelOOnbDImD"
      },
      "source": [
        "##2.1. 必要なデータ（文章とラベル）の抽出"
      ]
    },
    {
      "cell_type": "code",
      "metadata": {
        "id": "qdG1TuYZDGa_",
        "colab": {
          "base_uri": "https://localhost:8080/",
          "height": 293
        },
        "outputId": "752f9877-10d3-4c45-8506-bc1f65e4f7e0"
      },
      "source": [
        "#df_v0.drop(['notes', 'Unnamed: 0', 'Unnamed: 0.1', 'Unnamed: 0.1.1',  'Unnamed: 0.1.1.1'],axis=1, inplace=True)\n",
        "df_v0.dropna(how='any', axis=0, inplace=True)\n",
        "\n",
        "df_v0=df_v0\n",
        "df_v0[['text', 'tweet_time', 'MBTI_Type','label_EorI','label_NorS','label_ForT','label_JorP']].head()"
      ],
      "execution_count": null,
      "outputs": [
        {
          "output_type": "execute_result",
          "data": {
            "text/html": [
              "<div>\n",
              "<style scoped>\n",
              "    .dataframe tbody tr th:only-of-type {\n",
              "        vertical-align: middle;\n",
              "    }\n",
              "\n",
              "    .dataframe tbody tr th {\n",
              "        vertical-align: top;\n",
              "    }\n",
              "\n",
              "    .dataframe thead th {\n",
              "        text-align: right;\n",
              "    }\n",
              "</style>\n",
              "<table border=\"1\" class=\"dataframe\">\n",
              "  <thead>\n",
              "    <tr style=\"text-align: right;\">\n",
              "      <th></th>\n",
              "      <th>text</th>\n",
              "      <th>tweet_time</th>\n",
              "      <th>MBTI_Type</th>\n",
              "      <th>label_EorI</th>\n",
              "      <th>label_NorS</th>\n",
              "      <th>label_ForT</th>\n",
              "      <th>label_JorP</th>\n",
              "    </tr>\n",
              "  </thead>\n",
              "  <tbody>\n",
              "    <tr>\n",
              "      <th>0</th>\n",
              "      <td>CLIP STUDIO TABMATEがコミケで販売されたそうだけど買った方いるのかな！？</td>\n",
              "      <td>2017-12-29 14:01:24+00:00</td>\n",
              "      <td>INTJ</td>\n",
              "      <td>I</td>\n",
              "      <td>N</td>\n",
              "      <td>T</td>\n",
              "      <td>J</td>\n",
              "    </tr>\n",
              "    <tr>\n",
              "      <th>1</th>\n",
              "      <td>中小の劇団のチケットって、安すぎたら箱や演者やスタッフさんのギャラが払えない。かと言って高く...</td>\n",
              "      <td>2017-11-26 06:54:54+00:00</td>\n",
              "      <td>INTJ</td>\n",
              "      <td>I</td>\n",
              "      <td>N</td>\n",
              "      <td>T</td>\n",
              "      <td>J</td>\n",
              "    </tr>\n",
              "    <tr>\n",
              "      <th>2</th>\n",
              "      <td>Vステなら大丈夫だったのになぁ… まぁQちゃんの事だからなんとかなるでしょう。</td>\n",
              "      <td>2017-11-19 16:00:34+00:00</td>\n",
              "      <td>INTJ</td>\n",
              "      <td>I</td>\n",
              "      <td>N</td>\n",
              "      <td>T</td>\n",
              "      <td>J</td>\n",
              "    </tr>\n",
              "    <tr>\n",
              "      <th>3</th>\n",
              "      <td>こんなにカッコよくキメてたのに…#buzzup BOOSTER - KEN THE 390,...</td>\n",
              "      <td>2017-11-09 14:32:30+00:00</td>\n",
              "      <td>INTJ</td>\n",
              "      <td>I</td>\n",
              "      <td>N</td>\n",
              "      <td>T</td>\n",
              "      <td>J</td>\n",
              "    </tr>\n",
              "    <tr>\n",
              "      <th>4</th>\n",
              "      <td>ブーメランパンツはあなたの息子と一緒にクリスマスの一夜を過ごします。可愛がってくださいね。 ...</td>\n",
              "      <td>2017-11-07 16:36:08+00:00</td>\n",
              "      <td>INTJ</td>\n",
              "      <td>I</td>\n",
              "      <td>N</td>\n",
              "      <td>T</td>\n",
              "      <td>J</td>\n",
              "    </tr>\n",
              "  </tbody>\n",
              "</table>\n",
              "</div>"
            ],
            "text/plain": [
              "                                                text  ... label_JorP\n",
              "0      CLIP STUDIO TABMATEがコミケで販売されたそうだけど買った方いるのかな！？  ...          J\n",
              "1  中小の劇団のチケットって、安すぎたら箱や演者やスタッフさんのギャラが払えない。かと言って高く...  ...          J\n",
              "2            Vステなら大丈夫だったのになぁ… まぁQちゃんの事だからなんとかなるでしょう。  ...          J\n",
              "3  こんなにカッコよくキメてたのに…#buzzup BOOSTER - KEN THE 390,...  ...          J\n",
              "4  ブーメランパンツはあなたの息子と一緒にクリスマスの一夜を過ごします。可愛がってくださいね。 ...  ...          J\n",
              "\n",
              "[5 rows x 7 columns]"
            ]
          },
          "metadata": {},
          "execution_count": 7
        }
      ]
    },
    {
      "cell_type": "code",
      "metadata": {
        "colab": {
          "base_uri": "https://localhost:8080/",
          "height": 206
        },
        "id": "2UKLdNii03gl",
        "outputId": "663d52cc-896c-4263-eaa5-4ed2b4493b5b"
      },
      "source": [
        "df_v3 = df_v0\n",
        "#df_v3=df.sample(n=100)\n",
        "df_v3[['text', 'tweet_time', 'conversation_id','MBTI_Type']].head(5)"
      ],
      "execution_count": null,
      "outputs": [
        {
          "output_type": "execute_result",
          "data": {
            "text/html": [
              "<div>\n",
              "<style scoped>\n",
              "    .dataframe tbody tr th:only-of-type {\n",
              "        vertical-align: middle;\n",
              "    }\n",
              "\n",
              "    .dataframe tbody tr th {\n",
              "        vertical-align: top;\n",
              "    }\n",
              "\n",
              "    .dataframe thead th {\n",
              "        text-align: right;\n",
              "    }\n",
              "</style>\n",
              "<table border=\"1\" class=\"dataframe\">\n",
              "  <thead>\n",
              "    <tr style=\"text-align: right;\">\n",
              "      <th></th>\n",
              "      <th>text</th>\n",
              "      <th>tweet_time</th>\n",
              "      <th>conversation_id</th>\n",
              "      <th>MBTI_Type</th>\n",
              "    </tr>\n",
              "  </thead>\n",
              "  <tbody>\n",
              "    <tr>\n",
              "      <th>0</th>\n",
              "      <td>CLIP STUDIO TABMATEがコミケで販売されたそうだけど買った方いるのかな！？</td>\n",
              "      <td>2017-12-29 14:01:24+00:00</td>\n",
              "      <td>9.467430e+17</td>\n",
              "      <td>INTJ</td>\n",
              "    </tr>\n",
              "    <tr>\n",
              "      <th>1</th>\n",
              "      <td>中小の劇団のチケットって、安すぎたら箱や演者やスタッフさんのギャラが払えない。かと言って高く...</td>\n",
              "      <td>2017-11-26 06:54:54+00:00</td>\n",
              "      <td>9.346768e+17</td>\n",
              "      <td>INTJ</td>\n",
              "    </tr>\n",
              "    <tr>\n",
              "      <th>2</th>\n",
              "      <td>Vステなら大丈夫だったのになぁ… まぁQちゃんの事だからなんとかなるでしょう。</td>\n",
              "      <td>2017-11-19 16:00:34+00:00</td>\n",
              "      <td>9.322774e+17</td>\n",
              "      <td>INTJ</td>\n",
              "    </tr>\n",
              "    <tr>\n",
              "      <th>3</th>\n",
              "      <td>こんなにカッコよくキメてたのに…#buzzup BOOSTER - KEN THE 390,...</td>\n",
              "      <td>2017-11-09 14:32:30+00:00</td>\n",
              "      <td>9.286314e+17</td>\n",
              "      <td>INTJ</td>\n",
              "    </tr>\n",
              "    <tr>\n",
              "      <th>4</th>\n",
              "      <td>ブーメランパンツはあなたの息子と一緒にクリスマスの一夜を過ごします。可愛がってくださいね。 ...</td>\n",
              "      <td>2017-11-07 16:36:08+00:00</td>\n",
              "      <td>9.279377e+17</td>\n",
              "      <td>INTJ</td>\n",
              "    </tr>\n",
              "  </tbody>\n",
              "</table>\n",
              "</div>"
            ],
            "text/plain": [
              "                                                text  ... MBTI_Type\n",
              "0      CLIP STUDIO TABMATEがコミケで販売されたそうだけど買った方いるのかな！？  ...      INTJ\n",
              "1  中小の劇団のチケットって、安すぎたら箱や演者やスタッフさんのギャラが払えない。かと言って高く...  ...      INTJ\n",
              "2            Vステなら大丈夫だったのになぁ… まぁQちゃんの事だからなんとかなるでしょう。  ...      INTJ\n",
              "3  こんなにカッコよくキメてたのに…#buzzup BOOSTER - KEN THE 390,...  ...      INTJ\n",
              "4  ブーメランパンツはあなたの息子と一緒にクリスマスの一夜を過ごします。可愛がってくださいね。 ...  ...      INTJ\n",
              "\n",
              "[5 rows x 4 columns]"
            ]
          },
          "metadata": {},
          "execution_count": 8
        }
      ]
    },
    {
      "cell_type": "code",
      "metadata": {
        "id": "A_PIuPyiHjEe",
        "colab": {
          "base_uri": "https://localhost:8080/"
        },
        "outputId": "aad82b67-7e4a-4ba9-cf1b-2e0c3ebf6f3f"
      },
      "source": [
        "df_v3['text'].head(5)"
      ],
      "execution_count": null,
      "outputs": [
        {
          "output_type": "execute_result",
          "data": {
            "text/plain": [
              "0        CLIP STUDIO TABMATEがコミケで販売されたそうだけど買った方いるのかな！？\n",
              "1    中小の劇団のチケットって、安すぎたら箱や演者やスタッフさんのギャラが払えない。かと言って高く...\n",
              "2              Vステなら大丈夫だったのになぁ… まぁQちゃんの事だからなんとかなるでしょう。\n",
              "3    こんなにカッコよくキメてたのに…#buzzup BOOSTER - KEN THE 390,...\n",
              "4    ブーメランパンツはあなたの息子と一緒にクリスマスの一夜を過ごします。可愛がってくださいね。 ...\n",
              "Name: text, dtype: object"
            ]
          },
          "metadata": {},
          "execution_count": 9
        }
      ]
    },
    {
      "cell_type": "code",
      "metadata": {
        "id": "8jXQRii83lo3"
      },
      "source": [
        "df_v5=df_v3\n",
        "\n",
        "df_v5_E_1=df_v5[df_v5['label_EorI']=='E']\n",
        "df_v5_I_1=df_v5[df_v5['label_EorI']=='I']\n",
        "df_v5_E_2=df_v5_E_1.sample(n=15000)\n",
        "df_v5_I_2=df_v5_I_1.sample(n=15000)\n",
        "df_v5_EorI=pd.concat([df_v5_E_2, df_v5_I_2])\n",
        "\n",
        "df_v5_N_1=df_v5[df_v5['label_NorS']=='N']\n",
        "df_v5_S_1=df_v5[df_v5['label_NorS']=='S']\n",
        "df_v5_N_2=df_v5_N_1.sample(n=15000)\n",
        "df_v5_S_2=df_v5_S_1.sample(n=15000)\n",
        "df_v5_NorS=pd.concat([df_v5_N_2, df_v5_S_2])\n",
        "\n",
        "df_v5_F_1=df_v5[df_v5['label_ForT']=='F']\n",
        "df_v5_F_2=df_v5_F_1.sample(n=15000)\n",
        "df_v5_T_1=df_v5[df_v5['label_ForT']=='T']\n",
        "df_v5_T_2=df_v5_T_1.sample(n=15000)\n",
        "df_v5_ForT=pd.concat([df_v5_F_2, df_v5_T_2])\n",
        "\n",
        "df_v5_J_1=df_v5[df_v5['label_JorP']=='J']\n",
        "df_v5_P_1=df_v5[df_v5['label_JorP']=='P']\n",
        "df_v5_J_2=df_v5_J_1.sample(n=15000)\n",
        "df_v5_P_2=df_v5_P_1.sample(n=15000)\n",
        "df_v5_JorP=pd.concat([df_v5_J_2, df_v5_P_2])"
      ],
      "execution_count": null,
      "outputs": []
    },
    {
      "cell_type": "code",
      "metadata": {
        "colab": {
          "base_uri": "https://localhost:8080/"
        },
        "id": "T9RZby0U3d50",
        "outputId": "e1caca66-9856-4c3c-db25-cd7315b58af7"
      },
      "source": [
        "def num_Type_Index(element):\n",
        "  num_Users_Type=df_v5_EorI.groupby(['%s' % element])\n",
        "  num_Users_Type.groups\n",
        "  num_Users_Type.size()\n",
        "\n",
        "  print(num_Users_Type.size())\n",
        "  print()\n",
        "\n",
        "for element in [\"label_EorI\", \"label_NorS\", \"label_ForT\", \"label_JorP\"] :\n",
        "  num_Type_Index(element)"
      ],
      "execution_count": null,
      "outputs": [
        {
          "output_type": "stream",
          "name": "stdout",
          "text": [
            "label_EorI\n",
            "E    15000\n",
            "I    15000\n",
            "dtype: int64\n",
            "\n",
            "label_NorS\n",
            "N    16410\n",
            "S    13590\n",
            "dtype: int64\n",
            "\n",
            "label_ForT\n",
            "F    19114\n",
            "T    10886\n",
            "dtype: int64\n",
            "\n",
            "label_JorP\n",
            "J    10881\n",
            "P    19119\n",
            "dtype: int64\n",
            "\n"
          ]
        }
      ]
    },
    {
      "cell_type": "markdown",
      "metadata": {
        "id": "BaFpdaKIJX--"
      },
      "source": [
        "#3. データの保存"
      ]
    },
    {
      "cell_type": "markdown",
      "metadata": {
        "id": "O2WTRGk8JwGk"
      },
      "source": [
        "##3.1. 手法4までで作成した投稿を更新"
      ]
    },
    {
      "cell_type": "markdown",
      "metadata": {
        "id": "BfkmBc_PHJO_"
      },
      "source": [
        "##3.2. データセットS3の作成"
      ]
    },
    {
      "cell_type": "code",
      "metadata": {
        "id": "9h-t2ZDKDu3b",
        "colab": {
          "base_uri": "https://localhost:8080/"
        },
        "outputId": "6999da4d-dbaf-487c-df6b-18af18b17149"
      },
      "source": [
        "theDate=pull_Datetime()\n",
        "df_v5_EorI.to_csv('./Assets/Assets_Output/Tweet_Datasets/v6%s_forBERT_%s_%s_%s_EorI.csv' % (SEASONS, theDate, HIGHER, RAFFLE))\n",
        "print('./Assets/Assets_Output/Tweet_Datasets/v6%s_forBERT_%s_%s_%s_EorI.csv' % (SEASONS, theDate, HIGHER, RAFFLE))\n",
        "print()\n",
        "df_v5_NorS.to_csv('./Assets/Assets_Output/Tweet_Datasets/v6%s_forBERT_%s_%s_%s_NorS.csv' % (SEASONS, theDate, HIGHER, RAFFLE))\n",
        "print('./Assets/Assets_Output/Tweet_Datasets/v6%s_forBERT_%s_%s_%s_NorS.csv' % (SEASONS, theDate, HIGHER, RAFFLE))\n",
        "print()\n",
        "df_v5_ForT.to_csv('./Assets/Assets_Output/Tweet_Datasets/v6%s_forBERT_%s_%s_%s_ForT.csv' % (SEASONS, theDate, HIGHER, RAFFLE))\n",
        "print('./Assets/Assets_Output/Tweet_Datasets/v6%s_forBERT_%s_%s_%s_EorI.csv' % (SEASONS, theDate, HIGHER, RAFFLE))\n",
        "print()\n",
        "df_v5_JorP.to_csv('./Assets/Assets_Output/Tweet_Datasets/v6%s_forBERT_%s_%s_%s_JorP.csv' % (SEASONS, theDate, HIGHER, RAFFLE))\n",
        "print('./Assets/Assets_Output/Tweet_Datasets/v6%s_forBERT_%s_%s_%s_JorP.csv' % (SEASONS, theDate, HIGHER, RAFFLE))\n",
        "print()"
      ],
      "execution_count": null,
      "outputs": [
        {
          "output_type": "stream",
          "name": "stdout",
          "text": [
            "./Assets/Assets_Output/Tweet_Datasets/v6S9_forBERT_2021-12-06_20_30000_EorI.csv\n",
            "./Assets/Assets_Output/Tweet_Datasets/v6S9_forBERT_2021-12-06_20_30000_NorS.csv\n",
            "./Assets/Assets_Output/Tweet_Datasets/v6S9_forBERT_2021-12-06_20_30000_EorI.csv\n",
            "./Assets/Assets_Output/Tweet_Datasets/v6S9_forBERT_2021-12-06_20_30000_JorP.csv\n"
          ]
        }
      ]
    },
    {
      "cell_type": "markdown",
      "metadata": {
        "id": "YsrUCO-iKB7E"
      },
      "source": [
        "##3.3. 記録用に各指標のユーザー数を表示"
      ]
    },
    {
      "cell_type": "code",
      "metadata": {
        "id": "jMNuZU7RJQb0",
        "colab": {
          "base_uri": "https://localhost:8080/"
        },
        "outputId": "c401a17e-47b1-49aa-a608-ad39baf75aef"
      },
      "source": [
        "def num_Type_Index(element):\n",
        "  num_Users_Type=df_v5_EorI.groupby(['%s' % element])\n",
        "  num_Users_Type.groups\n",
        "  num_Users_Type.size()\n",
        "  print(num_Users_Type.size())\n",
        "  print()\n",
        "for element in [\"label_EorI\", \"label_NorS\", \"label_ForT\", \"label_JorP\"] :\n",
        "  num_Type_Index(element)\n",
        "\n",
        "\n",
        "def num_Type_Index(element):\n",
        "  num_Users_Type=df_v5_NorS.groupby(['%s' % element])\n",
        "  num_Users_Type.groups\n",
        "  num_Users_Type.size()\n",
        "  print(num_Users_Type.size())\n",
        "  print()\n",
        "for element in [\"label_EorI\", \"label_NorS\", \"label_ForT\", \"label_JorP\"] :\n",
        "  num_Type_Index(element)\n",
        "\n",
        "def num_Type_Index(element):\n",
        "  num_Users_Type=df_v5_ForT.groupby(['%s' % element])\n",
        "  num_Users_Type.groups\n",
        "  num_Users_Type.size()\n",
        "  print(num_Users_Type.size())\n",
        "  print()\n",
        "for element in [\"label_EorI\", \"label_NorS\", \"label_ForT\", \"label_JorP\"] :\n",
        "  num_Type_Index(element)\n",
        "\n",
        "def num_Type_Index(element):\n",
        "  num_Users_Type=df_v5_JorP.groupby(['%s' % element])\n",
        "  num_Users_Type.groups\n",
        "  num_Users_Type.size()\n",
        "  print(num_Users_Type.size())\n",
        "  print()\n",
        "\n",
        "for element in [\"label_EorI\", \"label_NorS\", \"label_ForT\", \"label_JorP\"] :\n",
        "  num_Type_Index(element)"
      ],
      "execution_count": null,
      "outputs": [
        {
          "output_type": "stream",
          "name": "stdout",
          "text": [
            "label_EorI\n",
            "E    15000\n",
            "I    15000\n",
            "dtype: int64\n",
            "\n",
            "label_NorS\n",
            "N    16382\n",
            "S    13618\n",
            "dtype: int64\n",
            "\n",
            "label_ForT\n",
            "F    19146\n",
            "T    10854\n",
            "dtype: int64\n",
            "\n",
            "label_JorP\n",
            "J    10843\n",
            "P    19157\n",
            "dtype: int64\n",
            "\n",
            "label_EorI\n",
            "E     4814\n",
            "I    25186\n",
            "dtype: int64\n",
            "\n",
            "label_NorS\n",
            "N    15000\n",
            "S    15000\n",
            "dtype: int64\n",
            "\n",
            "label_ForT\n",
            "F    20428\n",
            "T     9572\n",
            "dtype: int64\n",
            "\n",
            "label_JorP\n",
            "J    11254\n",
            "P    18746\n",
            "dtype: int64\n",
            "\n",
            "label_EorI\n",
            "E     5062\n",
            "I    24938\n",
            "dtype: int64\n",
            "\n",
            "label_NorS\n",
            "N    17852\n",
            "S    12148\n",
            "dtype: int64\n",
            "\n",
            "label_ForT\n",
            "F    15000\n",
            "T    15000\n",
            "dtype: int64\n",
            "\n",
            "label_JorP\n",
            "J    10588\n",
            "P    19412\n",
            "dtype: int64\n",
            "\n",
            "label_EorI\n",
            "E     4740\n",
            "I    25260\n",
            "dtype: int64\n",
            "\n",
            "label_NorS\n",
            "N    16906\n",
            "S    13094\n",
            "dtype: int64\n",
            "\n",
            "label_ForT\n",
            "F    20428\n",
            "T     9572\n",
            "dtype: int64\n",
            "\n",
            "label_JorP\n",
            "J    15000\n",
            "P    15000\n",
            "dtype: int64\n",
            "\n"
          ]
        }
      ]
    },
    {
      "cell_type": "markdown",
      "metadata": {
        "id": "nAimVY9mNECW"
      },
      "source": [
        "#Option 最大単語数の計算"
      ]
    },
    {
      "cell_type": "code",
      "metadata": {
        "id": "FRGWwwCDOzRy"
      },
      "source": [
        "!pip install transformers\n",
        "\n",
        "!pip install fugashi\n",
        "!pip install ipadic"
      ],
      "execution_count": null,
      "outputs": []
    },
    {
      "cell_type": "code",
      "metadata": {
        "id": "m_kHyljMO3_T"
      },
      "source": [
        "## Tokenizerの準備\n",
        "from transformers import BertJapaneseTokenizer\n",
        "tokenizer = BertJapaneseTokenizer.from_pretrained('cl-tohoku/bert-base-japanese-whole-word-masking')"
      ],
      "execution_count": null,
      "outputs": []
    },
    {
      "cell_type": "code",
      "metadata": {
        "id": "hh23o-DSNDOg"
      },
      "source": [
        "from tqdm.notebook import tqdm\n",
        "import numpy as np\n",
        "\n",
        "def num_max_words(TYPE_INDEX):\n",
        "  sentences= df_S['text'].values #sentences = df.sentence.values\n",
        "  labels= df_S['%s' % TYPE_INDEX].values #labels = df.label.values\n",
        "\n",
        "  # 最大単語数の確認\n",
        "  max_len = []\n",
        "  # 1文づつ処理\n",
        "  len_sentences = len(sentences)\n",
        "  for sent in tqdm(sentences):\n",
        "      # Tokenizeで分割\n",
        "      token_words = tokenizer.tokenize(sent)\n",
        "      # 文章数を取得してリストへ格納\n",
        "      max_len.append(len(token_words))\n",
        "  # 最大の値を確認\n",
        "  len_max=max(max_len)\n",
        "  #len_q0, len_q25, len_q50, len_q75, len_q100=np.percentile(max_len,  [0, 25, 50, 75, 100])\n",
        "  #len_q75=int(len_q75)\n",
        "  print('最大単語数: ', max(max_len))\n",
        "\n",
        "for element in [\"label_EorI\", \"label_NorS\", \"label_ForT\", \"label_JorP\"] :\n",
        "  num_max_words(element)"
      ],
      "execution_count": null,
      "outputs": []
    }
  ]
}