{
  "nbformat": 4,
  "nbformat_minor": 0,
  "metadata": {
    "colab": {
      "name": "3B_ラベル付け_各投稿.ipynb",
      "provenance": [],
      "collapsed_sections": [],
      "include_colab_link": true
    },
    "kernelspec": {
      "name": "python3",
      "display_name": "Python 3"
    },
    "language_info": {
      "name": "python"
    }
  },
  "cells": [
    {
      "cell_type": "markdown",
      "metadata": {
        "id": "view-in-github",
        "colab_type": "text"
      },
      "source": [
        "<a href=\"https://colab.research.google.com/github/sj0054pe/MBTI_Estim/blob/master/src/3B_%E3%83%A9%E3%83%99%E3%83%AB%E4%BB%98%E3%81%91_%E5%90%84%E6%8A%95%E7%A8%BF.ipynb\" target=\"_parent\"><img src=\"https://colab.research.google.com/assets/colab-badge.svg\" alt=\"Open In Colab\"/></a>"
      ]
    },
    {
      "cell_type": "markdown",
      "metadata": {
        "id": "pFbWcYF7H9xR"
      },
      "source": [
        "#<center>各投稿のラベル付け (ラベル=MBTItype) </center>"
      ]
    },
    {
      "cell_type": "markdown",
      "metadata": {
        "id": "wSzc9DX2Kftz"
      },
      "source": [
        "#0. 作業環境の準備"
      ]
    },
    {
      "cell_type": "markdown",
      "metadata": {
        "id": "LFyG7jHgEofZ"
      },
      "source": [
        "##0.1. Google Driveをマウント"
      ]
    },
    {
      "cell_type": "code",
      "metadata": {
        "colab": {
          "base_uri": "https://localhost:8080/"
        },
        "id": "HMrKO87ZKGys",
        "outputId": "c9365bc7-9857-4a81-e9e1-37803ab28b48"
      },
      "source": [
        "from google.colab import drive\n",
        "drive.mount('/content/drive')"
      ],
      "execution_count": null,
      "outputs": [
        {
          "output_type": "stream",
          "name": "stdout",
          "text": [
            "Mounted at /content/drive\n"
          ]
        }
      ]
    },
    {
      "cell_type": "markdown",
      "metadata": {
        "id": "qMjlrs7MEpui"
      },
      "source": [
        "##0.2. カレントディレクトリへ移動"
      ]
    },
    {
      "cell_type": "code",
      "metadata": {
        "colab": {
          "base_uri": "https://localhost:8080/"
        },
        "id": "6SGX2zZ5u4hA",
        "outputId": "768c38c9-cf5a-4ed7-b440-bf0343edf863"
      },
      "source": [
        "%cd /content/drive/MyDrive/研究室/研究_M2/src"
      ],
      "execution_count": null,
      "outputs": [
        {
          "output_type": "stream",
          "name": "stdout",
          "text": [
            "/content/drive/MyDrive/研究室/研究_M2/src\n"
          ]
        }
      ]
    },
    {
      "cell_type": "markdown",
      "metadata": {
        "id": "WZBQ7P2kEudG"
      },
      "source": [
        "##0.3. 16個の性格をリスト化・辞書化する。\n",
        "\n",
        "このプログラムでは使わない。"
      ]
    },
    {
      "cell_type": "code",
      "metadata": {
        "colab": {
          "base_uri": "https://localhost:8080/"
        },
        "id": "Ey7G3wHYu8a0",
        "outputId": "5c987926-6add-4d81-8ce5-d5c3a2cfcb10"
      },
      "source": [
        "keys = ['建築家', '論理学者', '指揮官', '討論者', '提唱者', '仲介者', '主人公', '広報運動家', '管理者', '擁護者', '幹部', '領事官', '巨匠', '冒険家', '起業家', 'エンターテイナー']\n",
        "values = ['INTJ', 'INTP', 'ENTJ', 'ENTP', 'INFJ', 'INFP', 'ENFJ', 'ENFP', 'ISTJ', 'ISFJ', 'ESTJ', 'ESFJ', 'ISTP', 'ISFP', 'ESTP', 'ESFP']\n",
        "\n",
        "dic = {key: val for key, val in zip(keys, values)}\n",
        "\n",
        "print(dic)\n",
        "\n",
        "dict_MBTIType=dic"
      ],
      "execution_count": null,
      "outputs": [
        {
          "output_type": "stream",
          "name": "stdout",
          "text": [
            "{'建築家': 'INTJ', '論理学者': 'INTP', '指揮官': 'ENTJ', '討論者': 'ENTP', '提唱者': 'INFJ', '仲介者': 'INFP', '主人公': 'ENFJ', '広報運動家': 'ENFP', '管理者': 'ISTJ', '擁護者': 'ISFJ', '幹部': 'ESTJ', '領事官': 'ESFJ', '巨匠': 'ISTP', '冒険家': 'ISFP', '起業家': 'ESTP', 'エンターテイナー': 'ESFP'}\n"
          ]
        }
      ]
    },
    {
      "cell_type": "markdown",
      "metadata": {
        "id": "9Z1W4ACbKmCL"
      },
      "source": [
        "#1. 性格を宣言したユーザーリストの呼び出し\n",
        "\n",
        "個人が特定できるtweet_id, conversation_idは伏せてます。"
      ]
    },
    {
      "cell_type": "markdown",
      "metadata": {
        "id": "b3pa2qmaGTWS"
      },
      "source": [
        "##1.1. csvファイルの読み込み"
      ]
    },
    {
      "cell_type": "code",
      "metadata": {
        "id": "Igs0HDx0YLhH"
      },
      "source": [
        "import pandas as pd\n",
        "df_Users=pd.read_csv('/content/drive/MyDrive/研究室/研究_M2/src/Assets/Assets_Output/Tweet_Datasets/Tweet__MBTI_2017_v2.csv', engine='python', index_col=2)\n",
        "#df_Users[['text', 'MBTI_性格タイプ','MBTI_Type']].head()"
      ],
      "execution_count": null,
      "outputs": []
    },
    {
      "cell_type": "markdown",
      "metadata": {
        "id": "0QdLEhBYGXQr"
      },
      "source": [
        "##1.2. それぞれの性格の人数を算出する。\n",
        "\n",
        "記録のため。"
      ]
    },
    {
      "cell_type": "code",
      "metadata": {
        "colab": {
          "base_uri": "https://localhost:8080/"
        },
        "id": "Hn6QcljmK2j2",
        "outputId": "5bc53416-6087-443e-ce8c-b6bb76b3f591"
      },
      "source": [
        "num_Users_Type=df_Users.groupby([\"MBTI_Type\"])\n",
        "num_Users_Type.groups\n",
        "num_Users_Type.size()"
      ],
      "execution_count": null,
      "outputs": [
        {
          "output_type": "execute_result",
          "data": {
            "text/plain": [
              "MBTI_Type\n",
              "ENFJ     190\n",
              "ENFP     626\n",
              "ENTJ     457\n",
              "ENTP     917\n",
              "ESFJ     592\n",
              "ESFP     971\n",
              "ESTJ     342\n",
              "ESTP     449\n",
              "INFJ    2738\n",
              "INFP    8236\n",
              "INTJ    1479\n",
              "INTP    3910\n",
              "ISFJ    2787\n",
              "ISFP    3565\n",
              "ISTJ    1049\n",
              "ISTP    1943\n",
              "dtype: int64"
            ]
          },
          "metadata": {},
          "execution_count": 11
        }
      ]
    },
    {
      "cell_type": "markdown",
      "metadata": {
        "id": "r5-CR2VQLFTK"
      },
      "source": [
        "#2. 各csv(ユーザーの100投稿.csv) のファイル名リストを作成"
      ]
    },
    {
      "cell_type": "code",
      "metadata": {
        "colab": {
          "base_uri": "https://localhost:8080/"
        },
        "id": "WYfzh9zH65ah",
        "outputId": "3c0e88f5-4e27-4458-b7aa-96a79e0b84aa"
      },
      "source": [
        "import glob\n",
        "list_csv=glob.glob('/content/drive/MyDrive/研究室/研究_M2/src/Assets/Assets_Output/PersonalEstim_2021-08-24-23-57/results/*')\n",
        "print(list_csv[1:2])"
      ],
      "execution_count": null,
      "outputs": [
        {
          "output_type": "stream",
          "name": "stdout",
          "text": [
            "['/content/drive/MyDrive/研究室/研究_M2/src/Assets/Assets_Output/PersonalEstim_2021-08-24-23-57/results/TweetsByOneUser_2017_25042_108493100.csv']\n"
          ]
        }
      ]
    },
    {
      "cell_type": "code",
      "metadata": {
        "colab": {
          "base_uri": "https://localhost:8080/"
        },
        "id": "nFKJaAKzqxwN",
        "outputId": "585c6865-7251-4493-e5a8-7633ea98b26d"
      },
      "source": [
        "list_csv_practice=list_csv #list_csv_practice=list_csv[:6]\n",
        "len_list=len(list_csv_practice)\n",
        "print(len_list)"
      ],
      "execution_count": null,
      "outputs": [
        {
          "output_type": "stream",
          "name": "stdout",
          "text": [
            "6589\n"
          ]
        }
      ]
    },
    {
      "cell_type": "markdown",
      "metadata": {
        "id": "esy-Iht_LuK6"
      },
      "source": [
        "#3. 各csv(ユーザーの100投稿.csv) にラベル (性格指標) の列を追加"
      ]
    },
    {
      "cell_type": "code",
      "metadata": {
        "id": "jlGm4LGbdOY2"
      },
      "source": [
        "import pandas as pd\n",
        "\n",
        "def add_MBTIType(df_2017):\n",
        "  #df_2017['MBTI_性格タイプ'] = None\n",
        "  df_2017['MBTI_Type'] = None\n",
        "  df_2017['notes'] = None\n",
        "\n",
        "  df_2017['label_EorI'] = None\n",
        "  df_2017['label_NorS'] = None\n",
        "  df_2017['label_ForT'] = None\n",
        "  df_2017['label_JorP'] = None\n",
        "  #print(df_2017)\n",
        "  name_User=df_2017.loc[1,'author_id']\n",
        "  Type_User=df_Users.loc[name_User, 'MBTI_Type']\n",
        "  print(Type_User)\n",
        "  #Type_User=df_Users['%s' % name_User]['MBTI_Type']\n",
        "\n",
        "  df_2017['MBTI_Type']=str(Type_User)\n",
        "\n",
        "  df_2017['label_EorI'] =str(Type_User)[0]\n",
        "  df_2017['label_NorS'] =str(Type_User)[1]\n",
        "  df_2017['label_ForT'] =str(Type_User)[2]\n",
        "  df_2017['label_JorP'] =str(Type_User)[3]\n",
        "\n",
        "  return df_2017, Type_User\n",
        "\n",
        "cnt=0\n",
        "for idx, element in enumerate(list_csv_practice):\n",
        "  print(idx + , 6589)\n",
        "\n",
        "  #ファイル名の取得\n",
        "  name_csvfile=str(element).split('/')[-1]\n",
        "\n",
        "  #print(df_2017)\n",
        "  try:\n",
        "    df_2017=pd.read_csv('%s' % element, engine='python')\n",
        "    new_df_2017, name_Type=add_MBTIType(df_2017)\n",
        "\n",
        "    new_df_2017.to_csv('/content/drive/MyDrive/研究室/研究_M2/src/Assets/Assets_Output/Tweet_Datasets/%s/v2_%s' % (name_Type, name_csvfile))\n",
        "    cnt+=1\n",
        "  except:\n",
        "    print('pass')\n",
        "    pass\n",
        "  print('')\n",
        "print(cnt)"
      ],
      "execution_count": null,
      "outputs": []
    },
    {
      "cell_type": "markdown",
      "metadata": {
        "id": "Y1sn5uRY-6Da"
      },
      "source": [
        "5302+2"
      ]
    },
    {
      "cell_type": "code",
      "metadata": {
        "id": "gVSuvGuOphU3"
      },
      "source": [
        "#df_2017"
      ],
      "execution_count": null,
      "outputs": []
    }
  ]
}